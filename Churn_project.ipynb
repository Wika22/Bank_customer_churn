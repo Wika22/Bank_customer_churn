{
 "cells": [
  {
   "cell_type": "markdown",
   "id": "2d933236",
   "metadata": {},
   "source": [
    "# Final project - Bank Churn Binary Classification"
   ]
  },
  {
   "cell_type": "markdown",
   "id": "0295c0b1",
   "metadata": {},
   "source": [
    "### Introduction\n",
    "\n",
    "The task is to predict whether a customer continues with their account or closes it (e.g., churns). For each id in the test set, we must predict the probability for the target variable Exited."
   ]
  },
  {
   "cell_type": "markdown",
   "id": "9dfa6193",
   "metadata": {},
   "source": [
    "## Table of Contents\n",
    "\n",
    "* [1. About the dataset](#chapter1)\n",
    "    * [1.1. Data import](#section_1_1)\n",
    "    * [1.2. Size of the dataset](#section_1_2)\n",
    "    * [1.3. Columns in the dataset](#section_1_3)\n",
    "        * [1.3.1. Columns description](#sub_section_1_3_1)\n",
    "        * [1.3.2. Columns overview](#sub_section_1_3_2)\n",
    "<br><br>     \n",
    "* [2. Exploratory Data Analysis (EDA)](#chapter2)\n",
    "    * [2.1. Summary Statistics](#section_2_1)\n",
    "    * [2.2. Data Visualization](#section_2_2)\n",
    "        * [2.2.1. Target column](#sub_section_2_2_1)    \n",
    "        * [2.2.2. Barplot for category columns](#sub_section_2_2_2)\n",
    "        * [2.2.3. Boxplot for numeric columns](#sub_section_2_2_3)\n",
    "        * [2.2.4. Distribution of numeric columns](#sub_section_2_2_4)\n",
    "        * [2.2.5. Correlation analysis](#sub_section_2_2_5)\n",
    "        * [2.2.6. Distribution of variables in relation to 'Exited'](#sub_section_2_2_6)\n",
    "    * [2.3. Data Cleaning](#section_2_3)\n",
    "        * [2.3.1. Missing values](#sub_section_2_3_1)\n",
    "        * [2.3.2. Duplicates](#sub_section_2_3_2)\n",
    "    * [2.4. One Hot Encoding](#section_2_4)\n",
    "    * [2.5. Dimensionality Reduction](#section_2_5)\n",
    "    * [2.6. Correlation Analysis](#section_2_6)\n",
    "<br><br>    \n",
    "* [3. Modeling - XGBoost](#chapter3)\n",
    "    * [3.1 Basic modeling](#section_3_1)\n",
    "        * [3.1.1 Balancing classes](#sub_section_3_1_1)\n",
    "        * [3.1.2 Basic XGBoost classifier without balanced class weights](#sub_section_3_1_2)\n",
    "        * [3.1.3 Basic XGBoost classifier with balanced class weights](#sub_section_3_1_3)\n",
    "    * [3.2 Hyperparameters, GridSearch and Cross-Validation modeling](#section_3_2)\n",
    "        * [3.2.1 Hyperparameters](#sub_section_3_2_1)\n",
    "        * [3.2.2 Grid Search cross-validation](#sub_section_3_2_2)\n",
    "    * [3.3 Hyperparameters, GridSearch and Cross-Validation modeling with additional features](#section_3_3)\n",
    "        * [3.3.1 Feature engineering](#sub_section_3_3_1)\n",
    "        * [3.3.2 Modeling](#sub_section_3_3_2)\n",
    "        * [3.3.3 Final model](#sub_section_3_3_3)\n",
    "        * [3.3.4 Feature importance](#sub_section_3_3_4)\n"
   ]
  },
  {
   "cell_type": "markdown",
   "id": "98c70a3e",
   "metadata": {},
   "source": [
    "### Libraries"
   ]
  },
  {
   "cell_type": "code",
   "execution_count": 1,
   "id": "db008897",
   "metadata": {},
   "outputs": [],
   "source": [
    "import pandas as pd\n",
    "import numpy as np\n",
    "import matplotlib.pyplot as plt\n",
    "import seaborn as sns\n",
    "from sklearn.preprocessing import OneHotEncoder\n",
    "from sklearn.model_selection import train_test_split, cross_val_score, KFold, GridSearchCV\n",
    "from sklearn import metrics\n",
    "from sklearn.metrics import confusion_matrix, classification_report, f1_score, accuracy_score, recall_score, precision_score\n",
    "from sklearn.metrics import ConfusionMatrixDisplay, roc_curve, auc, roc_auc_score\n",
    "import xgboost as xgb\n",
    "from sklearn.utils import class_weight\n",
    "from xgboost import XGBClassifier"
   ]
  },
  {
   "cell_type": "markdown",
   "id": "c9a0d1f4",
   "metadata": {},
   "source": [
    "## 1. About the dataset <a class=\"anchor\" id=\"chapter1\"></a>"
   ]
  },
  {
   "cell_type": "markdown",
   "id": "c34d2be6",
   "metadata": {},
   "source": [
    "### 1.1. Data import <a id=\"section_1_1\"></a>"
   ]
  },
  {
   "cell_type": "markdown",
   "id": "5b5cede5",
   "metadata": {},
   "source": [
    "Train dataset:"
   ]
  },
  {
   "cell_type": "code",
   "execution_count": 2,
   "id": "8e18f082",
   "metadata": {
    "scrolled": true
   },
   "outputs": [
    {
     "data": {
      "text/html": [
       "<div>\n",
       "<style scoped>\n",
       "    .dataframe tbody tr th:only-of-type {\n",
       "        vertical-align: middle;\n",
       "    }\n",
       "\n",
       "    .dataframe tbody tr th {\n",
       "        vertical-align: top;\n",
       "    }\n",
       "\n",
       "    .dataframe thead th {\n",
       "        text-align: right;\n",
       "    }\n",
       "</style>\n",
       "<table border=\"1\" class=\"dataframe\">\n",
       "  <thead>\n",
       "    <tr style=\"text-align: right;\">\n",
       "      <th></th>\n",
       "      <th>id</th>\n",
       "      <th>CustomerId</th>\n",
       "      <th>Surname</th>\n",
       "      <th>CreditScore</th>\n",
       "      <th>Geography</th>\n",
       "      <th>Gender</th>\n",
       "      <th>Age</th>\n",
       "      <th>Tenure</th>\n",
       "      <th>Balance</th>\n",
       "      <th>NumOfProducts</th>\n",
       "      <th>HasCrCard</th>\n",
       "      <th>IsActiveMember</th>\n",
       "      <th>EstimatedSalary</th>\n",
       "      <th>Exited</th>\n",
       "    </tr>\n",
       "  </thead>\n",
       "  <tbody>\n",
       "    <tr>\n",
       "      <th>0</th>\n",
       "      <td>0</td>\n",
       "      <td>15674932</td>\n",
       "      <td>Okwudilichukwu</td>\n",
       "      <td>668</td>\n",
       "      <td>France</td>\n",
       "      <td>Male</td>\n",
       "      <td>33.0</td>\n",
       "      <td>3</td>\n",
       "      <td>0.00</td>\n",
       "      <td>2</td>\n",
       "      <td>1.0</td>\n",
       "      <td>0.0</td>\n",
       "      <td>181449.97</td>\n",
       "      <td>0</td>\n",
       "    </tr>\n",
       "    <tr>\n",
       "      <th>1</th>\n",
       "      <td>1</td>\n",
       "      <td>15749177</td>\n",
       "      <td>Okwudiliolisa</td>\n",
       "      <td>627</td>\n",
       "      <td>France</td>\n",
       "      <td>Male</td>\n",
       "      <td>33.0</td>\n",
       "      <td>1</td>\n",
       "      <td>0.00</td>\n",
       "      <td>2</td>\n",
       "      <td>1.0</td>\n",
       "      <td>1.0</td>\n",
       "      <td>49503.50</td>\n",
       "      <td>0</td>\n",
       "    </tr>\n",
       "    <tr>\n",
       "      <th>2</th>\n",
       "      <td>2</td>\n",
       "      <td>15694510</td>\n",
       "      <td>Hsueh</td>\n",
       "      <td>678</td>\n",
       "      <td>France</td>\n",
       "      <td>Male</td>\n",
       "      <td>40.0</td>\n",
       "      <td>10</td>\n",
       "      <td>0.00</td>\n",
       "      <td>2</td>\n",
       "      <td>1.0</td>\n",
       "      <td>0.0</td>\n",
       "      <td>184866.69</td>\n",
       "      <td>0</td>\n",
       "    </tr>\n",
       "    <tr>\n",
       "      <th>3</th>\n",
       "      <td>3</td>\n",
       "      <td>15741417</td>\n",
       "      <td>Kao</td>\n",
       "      <td>581</td>\n",
       "      <td>France</td>\n",
       "      <td>Male</td>\n",
       "      <td>34.0</td>\n",
       "      <td>2</td>\n",
       "      <td>148882.54</td>\n",
       "      <td>1</td>\n",
       "      <td>1.0</td>\n",
       "      <td>1.0</td>\n",
       "      <td>84560.88</td>\n",
       "      <td>0</td>\n",
       "    </tr>\n",
       "    <tr>\n",
       "      <th>4</th>\n",
       "      <td>4</td>\n",
       "      <td>15766172</td>\n",
       "      <td>Chiemenam</td>\n",
       "      <td>716</td>\n",
       "      <td>Spain</td>\n",
       "      <td>Male</td>\n",
       "      <td>33.0</td>\n",
       "      <td>5</td>\n",
       "      <td>0.00</td>\n",
       "      <td>2</td>\n",
       "      <td>1.0</td>\n",
       "      <td>1.0</td>\n",
       "      <td>15068.83</td>\n",
       "      <td>0</td>\n",
       "    </tr>\n",
       "  </tbody>\n",
       "</table>\n",
       "</div>"
      ],
      "text/plain": [
       "   id  CustomerId         Surname  CreditScore Geography Gender   Age  Tenure  \\\n",
       "0   0    15674932  Okwudilichukwu          668    France   Male  33.0       3   \n",
       "1   1    15749177   Okwudiliolisa          627    France   Male  33.0       1   \n",
       "2   2    15694510           Hsueh          678    France   Male  40.0      10   \n",
       "3   3    15741417             Kao          581    France   Male  34.0       2   \n",
       "4   4    15766172       Chiemenam          716     Spain   Male  33.0       5   \n",
       "\n",
       "     Balance  NumOfProducts  HasCrCard  IsActiveMember  EstimatedSalary  \\\n",
       "0       0.00              2        1.0             0.0        181449.97   \n",
       "1       0.00              2        1.0             1.0         49503.50   \n",
       "2       0.00              2        1.0             0.0        184866.69   \n",
       "3  148882.54              1        1.0             1.0         84560.88   \n",
       "4       0.00              2        1.0             1.0         15068.83   \n",
       "\n",
       "   Exited  \n",
       "0       0  \n",
       "1       0  \n",
       "2       0  \n",
       "3       0  \n",
       "4       0  "
      ]
     },
     "execution_count": 2,
     "metadata": {},
     "output_type": "execute_result"
    }
   ],
   "source": [
    "df_train = pd.read_csv(\"data/train.csv\")\n",
    "df_train.head()"
   ]
  },
  {
   "cell_type": "markdown",
   "id": "1314f00d",
   "metadata": {},
   "source": [
    "Test dataset:"
   ]
  },
  {
   "cell_type": "code",
   "execution_count": 3,
   "id": "20a7e7d4",
   "metadata": {},
   "outputs": [
    {
     "data": {
      "text/html": [
       "<div>\n",
       "<style scoped>\n",
       "    .dataframe tbody tr th:only-of-type {\n",
       "        vertical-align: middle;\n",
       "    }\n",
       "\n",
       "    .dataframe tbody tr th {\n",
       "        vertical-align: top;\n",
       "    }\n",
       "\n",
       "    .dataframe thead th {\n",
       "        text-align: right;\n",
       "    }\n",
       "</style>\n",
       "<table border=\"1\" class=\"dataframe\">\n",
       "  <thead>\n",
       "    <tr style=\"text-align: right;\">\n",
       "      <th></th>\n",
       "      <th>id</th>\n",
       "      <th>CustomerId</th>\n",
       "      <th>Surname</th>\n",
       "      <th>CreditScore</th>\n",
       "      <th>Geography</th>\n",
       "      <th>Gender</th>\n",
       "      <th>Age</th>\n",
       "      <th>Tenure</th>\n",
       "      <th>Balance</th>\n",
       "      <th>NumOfProducts</th>\n",
       "      <th>HasCrCard</th>\n",
       "      <th>IsActiveMember</th>\n",
       "      <th>EstimatedSalary</th>\n",
       "    </tr>\n",
       "  </thead>\n",
       "  <tbody>\n",
       "    <tr>\n",
       "      <th>0</th>\n",
       "      <td>165034</td>\n",
       "      <td>15773898</td>\n",
       "      <td>Lucchese</td>\n",
       "      <td>586</td>\n",
       "      <td>France</td>\n",
       "      <td>Female</td>\n",
       "      <td>23.0</td>\n",
       "      <td>2</td>\n",
       "      <td>0.00</td>\n",
       "      <td>2</td>\n",
       "      <td>0.0</td>\n",
       "      <td>1.0</td>\n",
       "      <td>160976.75</td>\n",
       "    </tr>\n",
       "    <tr>\n",
       "      <th>1</th>\n",
       "      <td>165035</td>\n",
       "      <td>15782418</td>\n",
       "      <td>Nott</td>\n",
       "      <td>683</td>\n",
       "      <td>France</td>\n",
       "      <td>Female</td>\n",
       "      <td>46.0</td>\n",
       "      <td>2</td>\n",
       "      <td>0.00</td>\n",
       "      <td>1</td>\n",
       "      <td>1.0</td>\n",
       "      <td>0.0</td>\n",
       "      <td>72549.27</td>\n",
       "    </tr>\n",
       "    <tr>\n",
       "      <th>2</th>\n",
       "      <td>165036</td>\n",
       "      <td>15807120</td>\n",
       "      <td>K?</td>\n",
       "      <td>656</td>\n",
       "      <td>France</td>\n",
       "      <td>Female</td>\n",
       "      <td>34.0</td>\n",
       "      <td>7</td>\n",
       "      <td>0.00</td>\n",
       "      <td>2</td>\n",
       "      <td>1.0</td>\n",
       "      <td>0.0</td>\n",
       "      <td>138882.09</td>\n",
       "    </tr>\n",
       "    <tr>\n",
       "      <th>3</th>\n",
       "      <td>165037</td>\n",
       "      <td>15808905</td>\n",
       "      <td>O'Donnell</td>\n",
       "      <td>681</td>\n",
       "      <td>France</td>\n",
       "      <td>Male</td>\n",
       "      <td>36.0</td>\n",
       "      <td>8</td>\n",
       "      <td>0.00</td>\n",
       "      <td>1</td>\n",
       "      <td>1.0</td>\n",
       "      <td>0.0</td>\n",
       "      <td>113931.57</td>\n",
       "    </tr>\n",
       "    <tr>\n",
       "      <th>4</th>\n",
       "      <td>165038</td>\n",
       "      <td>15607314</td>\n",
       "      <td>Higgins</td>\n",
       "      <td>752</td>\n",
       "      <td>Germany</td>\n",
       "      <td>Male</td>\n",
       "      <td>38.0</td>\n",
       "      <td>10</td>\n",
       "      <td>121263.62</td>\n",
       "      <td>1</td>\n",
       "      <td>1.0</td>\n",
       "      <td>0.0</td>\n",
       "      <td>139431.00</td>\n",
       "    </tr>\n",
       "  </tbody>\n",
       "</table>\n",
       "</div>"
      ],
      "text/plain": [
       "       id  CustomerId    Surname  CreditScore Geography  Gender   Age  Tenure  \\\n",
       "0  165034    15773898   Lucchese          586    France  Female  23.0       2   \n",
       "1  165035    15782418       Nott          683    France  Female  46.0       2   \n",
       "2  165036    15807120         K?          656    France  Female  34.0       7   \n",
       "3  165037    15808905  O'Donnell          681    France    Male  36.0       8   \n",
       "4  165038    15607314    Higgins          752   Germany    Male  38.0      10   \n",
       "\n",
       "     Balance  NumOfProducts  HasCrCard  IsActiveMember  EstimatedSalary  \n",
       "0       0.00              2        0.0             1.0        160976.75  \n",
       "1       0.00              1        1.0             0.0         72549.27  \n",
       "2       0.00              2        1.0             0.0        138882.09  \n",
       "3       0.00              1        1.0             0.0        113931.57  \n",
       "4  121263.62              1        1.0             0.0        139431.00  "
      ]
     },
     "execution_count": 3,
     "metadata": {},
     "output_type": "execute_result"
    }
   ],
   "source": [
    "df_test = pd.read_csv(\"data/test.csv\")\n",
    "df_test.head()"
   ]
  },
  {
   "cell_type": "markdown",
   "id": "8a4268b3",
   "metadata": {},
   "source": [
    "### 1.2. Size of the datasets <a id=\"section_1_2\"></a>"
   ]
  },
  {
   "cell_type": "code",
   "execution_count": 4,
   "id": "cbfcadae",
   "metadata": {},
   "outputs": [
    {
     "name": "stdout",
     "output_type": "stream",
     "text": [
      "Training dataset: \n",
      " - number of rows: 165034 \n",
      " - number of columns: 14\n"
     ]
    }
   ],
   "source": [
    "df_train.shape[1]\n",
    "\n",
    "print(f\"Training dataset: \\n - number of rows: {df_train.shape[0]} \\n - number of columns: {df_train.shape[1]}\")"
   ]
  },
  {
   "cell_type": "code",
   "execution_count": 5,
   "id": "792ae753",
   "metadata": {},
   "outputs": [
    {
     "name": "stdout",
     "output_type": "stream",
     "text": [
      "Test dataset: \n",
      " - number of rows: 110023 \n",
      " - number of columns: 13\n"
     ]
    }
   ],
   "source": [
    "df_test.shape\n",
    "\n",
    "print(f\"Test dataset: \\n - number of rows: {df_test.shape[0]} \\n - number of columns: {df_test.shape[1]}\")"
   ]
  },
  {
   "cell_type": "code",
   "execution_count": 6,
   "id": "3b47c0f7",
   "metadata": {},
   "outputs": [
    {
     "name": "stdout",
     "output_type": "stream",
     "text": [
      "Ratio test dataset vs. train dataset: 0.4\n"
     ]
    }
   ],
   "source": [
    "print(f\"Ratio test dataset vs. train dataset: {round(df_test.shape[0]/(df_train.shape[0]+df_test.shape[0]),2)}\")"
   ]
  },
  {
   "cell_type": "markdown",
   "id": "f7a38e8a",
   "metadata": {},
   "source": [
    "### 1.3. Columns in the dataset<a id=\"section_1_3\"></a>"
   ]
  },
  {
   "cell_type": "markdown",
   "id": "9f1f3ee8",
   "metadata": {},
   "source": [
    "#### 1.3.1. Columns description <a id=\"sub_section_1_3_1\"></a>"
   ]
  },
  {
   "cell_type": "code",
   "execution_count": 7,
   "id": "61782d37",
   "metadata": {},
   "outputs": [
    {
     "name": "stdout",
     "output_type": "stream",
     "text": [
      "<class 'pandas.core.frame.DataFrame'>\n",
      "RangeIndex: 165034 entries, 0 to 165033\n",
      "Data columns (total 14 columns):\n",
      " #   Column           Non-Null Count   Dtype  \n",
      "---  ------           --------------   -----  \n",
      " 0   id               165034 non-null  int64  \n",
      " 1   CustomerId       165034 non-null  int64  \n",
      " 2   Surname          165034 non-null  object \n",
      " 3   CreditScore      165034 non-null  int64  \n",
      " 4   Geography        165034 non-null  object \n",
      " 5   Gender           165034 non-null  object \n",
      " 6   Age              165034 non-null  float64\n",
      " 7   Tenure           165034 non-null  int64  \n",
      " 8   Balance          165034 non-null  float64\n",
      " 9   NumOfProducts    165034 non-null  int64  \n",
      " 10  HasCrCard        165034 non-null  float64\n",
      " 11  IsActiveMember   165034 non-null  float64\n",
      " 12  EstimatedSalary  165034 non-null  float64\n",
      " 13  Exited           165034 non-null  int64  \n",
      "dtypes: float64(5), int64(6), object(3)\n",
      "memory usage: 17.6+ MB\n"
     ]
    }
   ],
   "source": [
    "df_train.info()"
   ]
  },
  {
   "cell_type": "code",
   "execution_count": 8,
   "id": "4af8a973",
   "metadata": {
    "scrolled": true
   },
   "outputs": [
    {
     "name": "stdout",
     "output_type": "stream",
     "text": [
      "\u001b[1m Columns details: \u001b[0m\n",
      "\n",
      "• \u001b[1mid\u001b[0m: Row index (int)\n",
      "• \u001b[1mCustomerId\u001b[0m: A unique identifier for each customer (int)\n",
      "• \u001b[1mSurname\u001b[0m: Surname of the customer (str)\n",
      "• \u001b[1mCreditScore\u001b[0m: A numerical value representing customer's credit score (int)\n",
      "• \u001b[1mGeography\u001b[0m: The country where the customer resides (France, Spain, Germany)\n",
      "• \u001b[1mGender\u001b[0m: Gender of the customer (Male, Female)\n",
      "• \u001b[1mAge\u001b[0m: Age of the customer (float)\n",
      "• \u001b[1mTenure\u001b[0m: The number of years the customer has been with the bank (int)\n",
      "• \u001b[1mBalance\u001b[0m: Account balance of the customer (float)\n",
      "• \u001b[1mNumOfProducts\u001b[0m: The number of bank products customer uses (e.g. savings account, credit card) (int 1-4)\n",
      "• \u001b[1mHasCrCard\u001b[0m: Whether the customer has a credit card (binary)\n",
      "• \u001b[1mIsActiveMember\u001b[0m: Whether the customer is an active member (binary)\n",
      "• \u001b[1mEstimatedSalary\u001b[0m: The estimated salary of the customer (float)\n",
      "• \u001b[1mExited\u001b[0m: Whether the customer has churned (binary) - exited = 1 - churn, exited = 0 - remain\n"
     ]
    }
   ],
   "source": [
    "print(f\"\"\"\\033[1m Columns details: \\033[0m\n",
    "\n",
    "• \\033[1m{df_train.columns[0]}\\033[0m: Row index (int)\n",
    "• \\033[1m{df_train.columns[1]}\\033[0m: A unique identifier for each customer (int)\n",
    "• \\033[1m{df_train.columns[2]}\\033[0m: Surname of the customer (str)\n",
    "• \\033[1m{df_train.columns[3]}\\033[0m: A numerical value representing customer's credit score (int)\n",
    "• \\033[1m{df_train.columns[4]}\\033[0m: The country where the customer resides (France, Spain, Germany)\n",
    "• \\033[1m{df_train.columns[5]}\\033[0m: Gender of the customer (Male, Female)\n",
    "• \\033[1m{df_train.columns[6]}\\033[0m: Age of the customer (float)\n",
    "• \\033[1m{df_train.columns[7]}\\033[0m: The number of years the customer has been with the bank (int)\n",
    "• \\033[1m{df_train.columns[8]}\\033[0m: Account balance of the customer (float)\n",
    "• \\033[1m{df_train.columns[9]}\\033[0m: The number of bank products customer uses (e.g. savings account, credit card) (int 1-4)\n",
    "• \\033[1m{df_train.columns[10]}\\033[0m: Whether the customer has a credit card (binary)\n",
    "• \\033[1m{df_train.columns[11]}\\033[0m: Whether the customer is an active member (binary)\n",
    "• \\033[1m{df_train.columns[12]}\\033[0m: The estimated salary of the customer (float)\n",
    "• \\033[1m{df_train.columns[13]}\\033[0m: Whether the customer has churned (binary) - exited = 1 - churn, exited = 0 - remain\"\"\")"
   ]
  },
  {
   "cell_type": "markdown",
   "id": "97ce14a5",
   "metadata": {},
   "source": [
    "#### 1.3.2. Columns overview <a id=\"sub_section_1_3_1\"></a>"
   ]
  },
  {
   "cell_type": "markdown",
   "id": "d68492b8",
   "metadata": {},
   "source": [
    "Let's categorize columns in the dataset."
   ]
  },
  {
   "cell_type": "markdown",
   "id": "6ff86408",
   "metadata": {},
   "source": [
    "Object type columns:"
   ]
  },
  {
   "cell_type": "code",
   "execution_count": 9,
   "id": "27d8d4d6",
   "metadata": {},
   "outputs": [
    {
     "data": {
      "text/plain": [
       "Index(['Surname', 'Geography', 'Gender'], dtype='object')"
      ]
     },
     "execution_count": 9,
     "metadata": {},
     "output_type": "execute_result"
    }
   ],
   "source": [
    "cat_col = df_train.select_dtypes(\"object\").columns\n",
    "cat_col"
   ]
  },
  {
   "cell_type": "markdown",
   "id": "ee24aa01",
   "metadata": {},
   "source": [
    "Columns with limited number of possible values:"
   ]
  },
  {
   "cell_type": "code",
   "execution_count": 10,
   "id": "ea1c9af2",
   "metadata": {},
   "outputs": [
    {
     "data": {
      "text/plain": [
       "Geography          3\n",
       "Gender             2\n",
       "Tenure            11\n",
       "NumOfProducts      4\n",
       "HasCrCard          2\n",
       "IsActiveMember     2\n",
       "Exited             2\n",
       "dtype: int64"
      ]
     },
     "execution_count": 10,
     "metadata": {},
     "output_type": "execute_result"
    }
   ],
   "source": [
    "df_train.nunique()[df_train.nunique() < 12]"
   ]
  },
  {
   "cell_type": "markdown",
   "id": "26643f6d",
   "metadata": {},
   "source": [
    "Columns with many distinct values:"
   ]
  },
  {
   "cell_type": "code",
   "execution_count": 11,
   "id": "8d9b3362",
   "metadata": {
    "scrolled": true
   },
   "outputs": [
    {
     "data": {
      "text/plain": [
       "id                 165034\n",
       "CustomerId          23221\n",
       "Surname              2797\n",
       "CreditScore           457\n",
       "Age                    71\n",
       "Balance             30075\n",
       "EstimatedSalary     55298\n",
       "dtype: int64"
      ]
     },
     "execution_count": 11,
     "metadata": {},
     "output_type": "execute_result"
    }
   ],
   "source": [
    "df_train.nunique()[df_train.nunique() >= 12]"
   ]
  },
  {
   "cell_type": "markdown",
   "id": "4ab2604a",
   "metadata": {},
   "source": [
    "After gathering all the information, we can divide columns into three distinct categories:"
   ]
  },
  {
   "cell_type": "code",
   "execution_count": 12,
   "id": "8a77ac1b",
   "metadata": {},
   "outputs": [],
   "source": [
    "category_col = ['Geography', 'Gender', 'Tenure', 'NumOfProducts', 'HasCrCard', 'IsActiveMember']\n",
    "\n",
    "numeric_col = ['CreditScore', 'Age', 'Balance', 'EstimatedSalary']\n",
    "\n",
    "target_col = 'Exited'"
   ]
  },
  {
   "cell_type": "markdown",
   "id": "af33a09d",
   "metadata": {},
   "source": [
    "We have 4 numeric columns, 6 category columns and 'Exited' is our target variable."
   ]
  },
  {
   "cell_type": "markdown",
   "id": "ab5718eb",
   "metadata": {},
   "source": [
    "## 2. Exploratory Data Analysis (EDA) <a class=\"anchor\" id=\"chapter2\"></a>"
   ]
  },
  {
   "cell_type": "markdown",
   "id": "5b502533",
   "metadata": {},
   "source": [
    "\"EDA\" stands for Exploratory Data Analysis. It's an approach to analyzing datasets to summarize their main characteristics, often using statistical graphics and other data visualization methods. The primary goal of EDA is to understand the data and its underlying structure, patterns, and relationships, without making any assumptions about causality or hypothesis testing."
   ]
  },
  {
   "cell_type": "markdown",
   "id": "411f6d4e",
   "metadata": {},
   "source": [
    "### 2.1. Summary Statistics <a id=\"section_2_1\"></a>"
   ]
  },
  {
   "cell_type": "code",
   "execution_count": 13,
   "id": "e8d16317",
   "metadata": {},
   "outputs": [
    {
     "data": {
      "text/plain": [
       "(165034, 14)"
      ]
     },
     "execution_count": 13,
     "metadata": {},
     "output_type": "execute_result"
    }
   ],
   "source": [
    "df_train.shape"
   ]
  },
  {
   "cell_type": "code",
   "execution_count": 14,
   "id": "89dd8c5c",
   "metadata": {},
   "outputs": [
    {
     "data": {
      "text/html": [
       "<style type=\"text/css\">\n",
       "#T_3900c_row0_col0, #T_3900c_row0_col2, #T_3900c_row0_col3, #T_3900c_row0_col4, #T_3900c_row0_col6, #T_3900c_row0_col7, #T_3900c_row0_col8, #T_3900c_row0_col10, #T_3900c_row6_col1, #T_3900c_row7_col0, #T_3900c_row7_col1, #T_3900c_row7_col5, #T_3900c_row7_col9 {\n",
       "  background-color: #3f007d;\n",
       "  color: #f1f1f1;\n",
       "}\n",
       "#T_3900c_row0_col1, #T_3900c_row1_col2, #T_3900c_row1_col3, #T_3900c_row1_col4, #T_3900c_row1_col6, #T_3900c_row1_col7, #T_3900c_row1_col8, #T_3900c_row1_col10, #T_3900c_row2_col1, #T_3900c_row2_col2, #T_3900c_row2_col3, #T_3900c_row2_col4, #T_3900c_row2_col6, #T_3900c_row2_col7, #T_3900c_row2_col8, #T_3900c_row2_col10, #T_3900c_row3_col0, #T_3900c_row3_col2, #T_3900c_row3_col3, #T_3900c_row3_col4, #T_3900c_row3_col5, #T_3900c_row3_col6, #T_3900c_row3_col7, #T_3900c_row3_col8, #T_3900c_row3_col9, #T_3900c_row3_col10, #T_3900c_row4_col2, #T_3900c_row4_col3, #T_3900c_row4_col4, #T_3900c_row4_col5, #T_3900c_row4_col6, #T_3900c_row4_col7, #T_3900c_row4_col8, #T_3900c_row4_col10, #T_3900c_row5_col2, #T_3900c_row5_col3, #T_3900c_row5_col4, #T_3900c_row5_col5, #T_3900c_row5_col6, #T_3900c_row5_col7, #T_3900c_row5_col8, #T_3900c_row5_col10, #T_3900c_row6_col2, #T_3900c_row6_col3, #T_3900c_row6_col4, #T_3900c_row6_col6, #T_3900c_row6_col7, #T_3900c_row6_col8, #T_3900c_row6_col10, #T_3900c_row7_col2, #T_3900c_row7_col3, #T_3900c_row7_col4, #T_3900c_row7_col6, #T_3900c_row7_col7, #T_3900c_row7_col8, #T_3900c_row7_col10 {\n",
       "  background-color: #fcfbfd;\n",
       "  color: #000000;\n",
       "}\n",
       "#T_3900c_row0_col5 {\n",
       "  background-color: #7a71b4;\n",
       "  color: #f1f1f1;\n",
       "}\n",
       "#T_3900c_row0_col9 {\n",
       "  background-color: #5c3797;\n",
       "  color: #f1f1f1;\n",
       "}\n",
       "#T_3900c_row1_col0, #T_3900c_row5_col0 {\n",
       "  background-color: #9e9bc8;\n",
       "  color: #f1f1f1;\n",
       "}\n",
       "#T_3900c_row1_col1, #T_3900c_row4_col1, #T_3900c_row5_col1 {\n",
       "  background-color: #40027e;\n",
       "  color: #f1f1f1;\n",
       "}\n",
       "#T_3900c_row1_col5 {\n",
       "  background-color: #dfdfed;\n",
       "  color: #000000;\n",
       "}\n",
       "#T_3900c_row1_col9 {\n",
       "  background-color: #8e8bc1;\n",
       "  color: #f1f1f1;\n",
       "}\n",
       "#T_3900c_row2_col0 {\n",
       "  background-color: #d1d2e7;\n",
       "  color: #000000;\n",
       "}\n",
       "#T_3900c_row2_col5, #T_3900c_row2_col9, #T_3900c_row4_col0 {\n",
       "  background-color: #dadaeb;\n",
       "  color: #000000;\n",
       "}\n",
       "#T_3900c_row3_col1 {\n",
       "  background-color: #42057f;\n",
       "  color: #f1f1f1;\n",
       "}\n",
       "#T_3900c_row4_col9 {\n",
       "  background-color: #bdbedc;\n",
       "  color: #000000;\n",
       "}\n",
       "#T_3900c_row5_col9 {\n",
       "  background-color: #8986be;\n",
       "  color: #f1f1f1;\n",
       "}\n",
       "#T_3900c_row6_col0 {\n",
       "  background-color: #6a51a3;\n",
       "  color: #f1f1f1;\n",
       "}\n",
       "#T_3900c_row6_col5 {\n",
       "  background-color: #a3a0cb;\n",
       "  color: #f1f1f1;\n",
       "}\n",
       "#T_3900c_row6_col9 {\n",
       "  background-color: #65489f;\n",
       "  color: #f1f1f1;\n",
       "}\n",
       "</style>\n",
       "<table id=\"T_3900c\">\n",
       "  <thead>\n",
       "    <tr>\n",
       "      <th class=\"blank level0\" >&nbsp;</th>\n",
       "      <th id=\"T_3900c_level0_col0\" class=\"col_heading level0 col0\" >id</th>\n",
       "      <th id=\"T_3900c_level0_col1\" class=\"col_heading level0 col1\" >CustomerId</th>\n",
       "      <th id=\"T_3900c_level0_col2\" class=\"col_heading level0 col2\" >CreditScore</th>\n",
       "      <th id=\"T_3900c_level0_col3\" class=\"col_heading level0 col3\" >Age</th>\n",
       "      <th id=\"T_3900c_level0_col4\" class=\"col_heading level0 col4\" >Tenure</th>\n",
       "      <th id=\"T_3900c_level0_col5\" class=\"col_heading level0 col5\" >Balance</th>\n",
       "      <th id=\"T_3900c_level0_col6\" class=\"col_heading level0 col6\" >NumOfProducts</th>\n",
       "      <th id=\"T_3900c_level0_col7\" class=\"col_heading level0 col7\" >HasCrCard</th>\n",
       "      <th id=\"T_3900c_level0_col8\" class=\"col_heading level0 col8\" >IsActiveMember</th>\n",
       "      <th id=\"T_3900c_level0_col9\" class=\"col_heading level0 col9\" >EstimatedSalary</th>\n",
       "      <th id=\"T_3900c_level0_col10\" class=\"col_heading level0 col10\" >Exited</th>\n",
       "    </tr>\n",
       "  </thead>\n",
       "  <tbody>\n",
       "    <tr>\n",
       "      <th id=\"T_3900c_level0_row0\" class=\"row_heading level0 row0\" >count</th>\n",
       "      <td id=\"T_3900c_row0_col0\" class=\"data row0 col0\" >165034.00</td>\n",
       "      <td id=\"T_3900c_row0_col1\" class=\"data row0 col1\" >165034.00</td>\n",
       "      <td id=\"T_3900c_row0_col2\" class=\"data row0 col2\" >165034.00</td>\n",
       "      <td id=\"T_3900c_row0_col3\" class=\"data row0 col3\" >165034.00</td>\n",
       "      <td id=\"T_3900c_row0_col4\" class=\"data row0 col4\" >165034.00</td>\n",
       "      <td id=\"T_3900c_row0_col5\" class=\"data row0 col5\" >165034.00</td>\n",
       "      <td id=\"T_3900c_row0_col6\" class=\"data row0 col6\" >165034.00</td>\n",
       "      <td id=\"T_3900c_row0_col7\" class=\"data row0 col7\" >165034.00</td>\n",
       "      <td id=\"T_3900c_row0_col8\" class=\"data row0 col8\" >165034.00</td>\n",
       "      <td id=\"T_3900c_row0_col9\" class=\"data row0 col9\" >165034.00</td>\n",
       "      <td id=\"T_3900c_row0_col10\" class=\"data row0 col10\" >165034.00</td>\n",
       "    </tr>\n",
       "    <tr>\n",
       "      <th id=\"T_3900c_level0_row1\" class=\"row_heading level0 row1\" >mean</th>\n",
       "      <td id=\"T_3900c_row1_col0\" class=\"data row1 col0\" >82516.50</td>\n",
       "      <td id=\"T_3900c_row1_col1\" class=\"data row1 col1\" >15692005.02</td>\n",
       "      <td id=\"T_3900c_row1_col2\" class=\"data row1 col2\" >656.45</td>\n",
       "      <td id=\"T_3900c_row1_col3\" class=\"data row1 col3\" >38.13</td>\n",
       "      <td id=\"T_3900c_row1_col4\" class=\"data row1 col4\" >5.02</td>\n",
       "      <td id=\"T_3900c_row1_col5\" class=\"data row1 col5\" >55478.09</td>\n",
       "      <td id=\"T_3900c_row1_col6\" class=\"data row1 col6\" >1.55</td>\n",
       "      <td id=\"T_3900c_row1_col7\" class=\"data row1 col7\" >0.75</td>\n",
       "      <td id=\"T_3900c_row1_col8\" class=\"data row1 col8\" >0.50</td>\n",
       "      <td id=\"T_3900c_row1_col9\" class=\"data row1 col9\" >112574.82</td>\n",
       "      <td id=\"T_3900c_row1_col10\" class=\"data row1 col10\" >0.21</td>\n",
       "    </tr>\n",
       "    <tr>\n",
       "      <th id=\"T_3900c_level0_row2\" class=\"row_heading level0 row2\" >std</th>\n",
       "      <td id=\"T_3900c_row2_col0\" class=\"data row2 col0\" >47641.36</td>\n",
       "      <td id=\"T_3900c_row2_col1\" class=\"data row2 col1\" >71397.82</td>\n",
       "      <td id=\"T_3900c_row2_col2\" class=\"data row2 col2\" >80.10</td>\n",
       "      <td id=\"T_3900c_row2_col3\" class=\"data row2 col3\" >8.87</td>\n",
       "      <td id=\"T_3900c_row2_col4\" class=\"data row2 col4\" >2.81</td>\n",
       "      <td id=\"T_3900c_row2_col5\" class=\"data row2 col5\" >62817.66</td>\n",
       "      <td id=\"T_3900c_row2_col6\" class=\"data row2 col6\" >0.55</td>\n",
       "      <td id=\"T_3900c_row2_col7\" class=\"data row2 col7\" >0.43</td>\n",
       "      <td id=\"T_3900c_row2_col8\" class=\"data row2 col8\" >0.50</td>\n",
       "      <td id=\"T_3900c_row2_col9\" class=\"data row2 col9\" >50292.87</td>\n",
       "      <td id=\"T_3900c_row2_col10\" class=\"data row2 col10\" >0.41</td>\n",
       "    </tr>\n",
       "    <tr>\n",
       "      <th id=\"T_3900c_level0_row3\" class=\"row_heading level0 row3\" >min</th>\n",
       "      <td id=\"T_3900c_row3_col0\" class=\"data row3 col0\" >0.00</td>\n",
       "      <td id=\"T_3900c_row3_col1\" class=\"data row3 col1\" >15565701.00</td>\n",
       "      <td id=\"T_3900c_row3_col2\" class=\"data row3 col2\" >350.00</td>\n",
       "      <td id=\"T_3900c_row3_col3\" class=\"data row3 col3\" >18.00</td>\n",
       "      <td id=\"T_3900c_row3_col4\" class=\"data row3 col4\" >0.00</td>\n",
       "      <td id=\"T_3900c_row3_col5\" class=\"data row3 col5\" >0.00</td>\n",
       "      <td id=\"T_3900c_row3_col6\" class=\"data row3 col6\" >1.00</td>\n",
       "      <td id=\"T_3900c_row3_col7\" class=\"data row3 col7\" >0.00</td>\n",
       "      <td id=\"T_3900c_row3_col8\" class=\"data row3 col8\" >0.00</td>\n",
       "      <td id=\"T_3900c_row3_col9\" class=\"data row3 col9\" >11.58</td>\n",
       "      <td id=\"T_3900c_row3_col10\" class=\"data row3 col10\" >0.00</td>\n",
       "    </tr>\n",
       "    <tr>\n",
       "      <th id=\"T_3900c_level0_row4\" class=\"row_heading level0 row4\" >25%</th>\n",
       "      <td id=\"T_3900c_row4_col0\" class=\"data row4 col0\" >41258.25</td>\n",
       "      <td id=\"T_3900c_row4_col1\" class=\"data row4 col1\" >15633141.00</td>\n",
       "      <td id=\"T_3900c_row4_col2\" class=\"data row4 col2\" >597.00</td>\n",
       "      <td id=\"T_3900c_row4_col3\" class=\"data row4 col3\" >32.00</td>\n",
       "      <td id=\"T_3900c_row4_col4\" class=\"data row4 col4\" >3.00</td>\n",
       "      <td id=\"T_3900c_row4_col5\" class=\"data row4 col5\" >0.00</td>\n",
       "      <td id=\"T_3900c_row4_col6\" class=\"data row4 col6\" >1.00</td>\n",
       "      <td id=\"T_3900c_row4_col7\" class=\"data row4 col7\" >1.00</td>\n",
       "      <td id=\"T_3900c_row4_col8\" class=\"data row4 col8\" >0.00</td>\n",
       "      <td id=\"T_3900c_row4_col9\" class=\"data row4 col9\" >74637.57</td>\n",
       "      <td id=\"T_3900c_row4_col10\" class=\"data row4 col10\" >0.00</td>\n",
       "    </tr>\n",
       "    <tr>\n",
       "      <th id=\"T_3900c_level0_row5\" class=\"row_heading level0 row5\" >50%</th>\n",
       "      <td id=\"T_3900c_row5_col0\" class=\"data row5 col0\" >82516.50</td>\n",
       "      <td id=\"T_3900c_row5_col1\" class=\"data row5 col1\" >15690169.00</td>\n",
       "      <td id=\"T_3900c_row5_col2\" class=\"data row5 col2\" >659.00</td>\n",
       "      <td id=\"T_3900c_row5_col3\" class=\"data row5 col3\" >37.00</td>\n",
       "      <td id=\"T_3900c_row5_col4\" class=\"data row5 col4\" >5.00</td>\n",
       "      <td id=\"T_3900c_row5_col5\" class=\"data row5 col5\" >0.00</td>\n",
       "      <td id=\"T_3900c_row5_col6\" class=\"data row5 col6\" >2.00</td>\n",
       "      <td id=\"T_3900c_row5_col7\" class=\"data row5 col7\" >1.00</td>\n",
       "      <td id=\"T_3900c_row5_col8\" class=\"data row5 col8\" >0.00</td>\n",
       "      <td id=\"T_3900c_row5_col9\" class=\"data row5 col9\" >117948.00</td>\n",
       "      <td id=\"T_3900c_row5_col10\" class=\"data row5 col10\" >0.00</td>\n",
       "    </tr>\n",
       "    <tr>\n",
       "      <th id=\"T_3900c_level0_row6\" class=\"row_heading level0 row6\" >75%</th>\n",
       "      <td id=\"T_3900c_row6_col0\" class=\"data row6 col0\" >123774.75</td>\n",
       "      <td id=\"T_3900c_row6_col1\" class=\"data row6 col1\" >15756824.00</td>\n",
       "      <td id=\"T_3900c_row6_col2\" class=\"data row6 col2\" >710.00</td>\n",
       "      <td id=\"T_3900c_row6_col3\" class=\"data row6 col3\" >42.00</td>\n",
       "      <td id=\"T_3900c_row6_col4\" class=\"data row6 col4\" >7.00</td>\n",
       "      <td id=\"T_3900c_row6_col5\" class=\"data row6 col5\" >119939.52</td>\n",
       "      <td id=\"T_3900c_row6_col6\" class=\"data row6 col6\" >2.00</td>\n",
       "      <td id=\"T_3900c_row6_col7\" class=\"data row6 col7\" >1.00</td>\n",
       "      <td id=\"T_3900c_row6_col8\" class=\"data row6 col8\" >1.00</td>\n",
       "      <td id=\"T_3900c_row6_col9\" class=\"data row6 col9\" >155152.47</td>\n",
       "      <td id=\"T_3900c_row6_col10\" class=\"data row6 col10\" >0.00</td>\n",
       "    </tr>\n",
       "    <tr>\n",
       "      <th id=\"T_3900c_level0_row7\" class=\"row_heading level0 row7\" >max</th>\n",
       "      <td id=\"T_3900c_row7_col0\" class=\"data row7 col0\" >165033.00</td>\n",
       "      <td id=\"T_3900c_row7_col1\" class=\"data row7 col1\" >15815690.00</td>\n",
       "      <td id=\"T_3900c_row7_col2\" class=\"data row7 col2\" >850.00</td>\n",
       "      <td id=\"T_3900c_row7_col3\" class=\"data row7 col3\" >92.00</td>\n",
       "      <td id=\"T_3900c_row7_col4\" class=\"data row7 col4\" >10.00</td>\n",
       "      <td id=\"T_3900c_row7_col5\" class=\"data row7 col5\" >250898.09</td>\n",
       "      <td id=\"T_3900c_row7_col6\" class=\"data row7 col6\" >4.00</td>\n",
       "      <td id=\"T_3900c_row7_col7\" class=\"data row7 col7\" >1.00</td>\n",
       "      <td id=\"T_3900c_row7_col8\" class=\"data row7 col8\" >1.00</td>\n",
       "      <td id=\"T_3900c_row7_col9\" class=\"data row7 col9\" >199992.48</td>\n",
       "      <td id=\"T_3900c_row7_col10\" class=\"data row7 col10\" >1.00</td>\n",
       "    </tr>\n",
       "  </tbody>\n",
       "</table>\n"
      ],
      "text/plain": [
       "<pandas.io.formats.style.Styler at 0x2b04cc83410>"
      ]
     },
     "execution_count": 14,
     "metadata": {},
     "output_type": "execute_result"
    }
   ],
   "source": [
    "df_train.describe().round(2).style.format(precision=2).background_gradient(cmap=\"Purples\")"
   ]
  },
  {
   "cell_type": "markdown",
   "id": "b572f8ed",
   "metadata": {},
   "source": [
    "Main observations from the table:\n",
    "1. **Total Number of Entries**: \n",
    "    - The dataset contains 165,034 entries across all columns, as indicated by the count.\n",
    "<br><br>\n",
    "2. **Customer ID Range**: \n",
    "    - Customer IDs range from 15,565,701 to 15,815,690, suggesting a large customer base within a narrow ID range.\n",
    "<br><br>\n",
    "3. **Credit Score**: \n",
    "    - The average credit score is 656.45, with a standard deviation of 80.10. The scores range from 350 to 850, showing a wide variability in creditworthiness among customers.\n",
    "<br><br>\n",
    "4. **Age Distribution**: \n",
    "    - The average age of customers is 38 years, with a standard deviation of 8.87 years. The youngest customer is 18 years old, while the oldest is 92 years old.\n",
    "<br><br>\n",
    "5. **Tenure**: \n",
    "    - The average tenure with the bank is 5 years, with a standard deviation of 2.81 years. The tenure ranges from 0 to 10 years.\n",
    "<br><br>\n",
    "6. **Balance**: \n",
    "    - The average account balance is 55,478.09, with a high standard deviation of 62,817.66, indicating significant variation in customer balances. The minimum balance is 0, while the maximum is 250,898.09.\n",
    "<br><br>\n",
    "7. **Number of Products**: \n",
    "    - On average, customers hold 1.55 products with the bank. The number of products ranges from 1 to 4, with a standard deviation of 0.55.\n",
    "<br><br>\n",
    "8. **Credit Card Ownership**: \n",
    "    - Approximately 75% of customers have a credit card, as indicated by the mean value of 0.75 for the HasCrCard column.\n",
    "<br><br>\n",
    "9. **Activity Status**: \n",
    "    - About half of the customers are active members, with a mean value of 0.50 for the IsActiveMember column.\n",
    "<br><br>\n",
    "10. **Estimated Salary**: \n",
    "    - The average estimated salary is 112,574.82, with a standard deviation of 50,292.87. Salaries range from 11.58 to 199,992.48.\n",
    "<br><br>\n",
    "11. **Exited Customers**: \n",
    "    - 21% of the customers have exited, as indicated by the mean value of 0.21 for the Exited column."
   ]
  },
  {
   "cell_type": "markdown",
   "id": "6f450698",
   "metadata": {},
   "source": [
    "### 2.2. Data Visualization <a id=\"section_2_2\"></a>"
   ]
  },
  {
   "cell_type": "markdown",
   "id": "b78b404c",
   "metadata": {},
   "source": [
    "Selected color palette for visualizations:"
   ]
  },
  {
   "cell_type": "code",
   "execution_count": 15,
   "id": "2152d0ab",
   "metadata": {},
   "outputs": [],
   "source": [
    "palette = plt.get_cmap('CMRmap')\n",
    "\n",
    "colors = [palette(0.3), palette(0.7)]"
   ]
  },
  {
   "cell_type": "markdown",
   "id": "1dc86b4e",
   "metadata": {},
   "source": [
    "#### 2.2.1. Target column <a id=\"sub_section_2_2_1\"></a>"
   ]
  },
  {
   "cell_type": "markdown",
   "id": "f2696314",
   "metadata": {},
   "source": [
    "Count of classes:"
   ]
  },
  {
   "cell_type": "code",
   "execution_count": 16,
   "id": "4ec520c5",
   "metadata": {},
   "outputs": [
    {
     "data": {
      "text/plain": [
       "Exited\n",
       "0    130113\n",
       "1     34921\n",
       "Name: count, dtype: int64"
      ]
     },
     "execution_count": 16,
     "metadata": {},
     "output_type": "execute_result"
    }
   ],
   "source": [
    "df_train['Exited'].value_counts()"
   ]
  },
  {
   "cell_type": "markdown",
   "id": "0668fa5e",
   "metadata": {},
   "source": [
    "Visualization of target variable:"
   ]
  },
  {
   "cell_type": "code",
   "execution_count": 17,
   "id": "9c6b5b21",
   "metadata": {},
   "outputs": [
    {
     "data": {
      "image/png": "[encoded data removed]",
      "text/plain": [
       "<Figure size 1200x600 with 2 Axes>"
      ]
     },
     "metadata": {},
     "output_type": "display_data"
    }
   ],
   "source": [
    "fig, (ax1, ax2) = plt.subplots(1, 2, figsize=(12, 6))\n",
    "\n",
    "# background\n",
    "fig.patch.set_facecolor('lightgrey')\n",
    "\n",
    "# pie plot\n",
    "ax1.pie(df_train['Exited'].value_counts(), autopct='%1.1f%%', startangle=140, colors=colors, labels=df_train['Exited'].value_counts().index)\n",
    "\n",
    "# aspect ratio of the plot axes = equal, title\n",
    "ax1.axis('equal')\n",
    "ax1.set_title('Target variable distribution', fontsize=14)\n",
    "\n",
    "# bar plot\n",
    "sns.countplot(x='Exited', data=df_train, ax=ax2, palette='CMRmap')\n",
    "\n",
    "# title, axes labels, background \n",
    "ax2.set_title('Count of Exited', fontsize=14)\n",
    "ax2.set_xlabel('Exited')\n",
    "ax2.set_ylabel('Count')\n",
    "ax2.set_facecolor('lightgrey')\n",
    "\n",
    "# frames (non), gridlines\n",
    "ax2.spines['top'].set_visible(False)\n",
    "ax2.spines['right'].set_visible(False)\n",
    "ax2.spines['left'].set_visible(False)\n",
    "ax2.spines['bottom'].set_visible(False)\n",
    "ax2.yaxis.grid(True)\n",
    "ax2.set_axisbelow(True)\n",
    "\n",
    "# labels for bar plot\n",
    "for p in ax2.patches:\n",
    "    ax2.annotate(format(p.get_height(), '.0f'), \n",
    "                 (p.get_x() + p.get_width() / 2., p.get_height()), \n",
    "                 ha = 'center', va = 'center', \n",
    "                 xytext = (0, -20), \n",
    "                 textcoords = 'offset points')\n",
    "    \n",
    "plt.tight_layout() # to be sure elements of the plots don't overlap\n",
    "plt.show()"
   ]
  },
  {
   "cell_type": "markdown",
   "id": "d1775d8f",
   "metadata": {},
   "source": [
    "The target column is highly imbalanced, with 21% of bank customers churning (class 1) and 79% remaining (class 0)."
   ]
  },
  {
   "cell_type": "markdown",
   "id": "3be51c63",
   "metadata": {},
   "source": [
    "#### 2.2.2. Barplot for category columns <a id=\"sub_section_2_2_2\"></a>"
   ]
  },
  {
   "cell_type": "markdown",
   "id": "454732fb",
   "metadata": {},
   "source": [
    "Let's create a DataFrame containing all the categorical columns:"
   ]
  },
  {
   "cell_type": "code",
   "execution_count": 18,
   "id": "b46cd52d",
   "metadata": {},
   "outputs": [
    {
     "data": {
      "text/html": [
       "<div>\n",
       "<style scoped>\n",
       "    .dataframe tbody tr th:only-of-type {\n",
       "        vertical-align: middle;\n",
       "    }\n",
       "\n",
       "    .dataframe tbody tr th {\n",
       "        vertical-align: top;\n",
       "    }\n",
       "\n",
       "    .dataframe thead th {\n",
       "        text-align: right;\n",
       "    }\n",
       "</style>\n",
       "<table border=\"1\" class=\"dataframe\">\n",
       "  <thead>\n",
       "    <tr style=\"text-align: right;\">\n",
       "      <th></th>\n",
       "      <th>Geography</th>\n",
       "      <th>Gender</th>\n",
       "      <th>Tenure</th>\n",
       "      <th>NumOfProducts</th>\n",
       "      <th>HasCrCard</th>\n",
       "      <th>IsActiveMember</th>\n",
       "    </tr>\n",
       "  </thead>\n",
       "  <tbody>\n",
       "    <tr>\n",
       "      <th>0</th>\n",
       "      <td>France</td>\n",
       "      <td>Male</td>\n",
       "      <td>3</td>\n",
       "      <td>2</td>\n",
       "      <td>1.0</td>\n",
       "      <td>0.0</td>\n",
       "    </tr>\n",
       "    <tr>\n",
       "      <th>1</th>\n",
       "      <td>France</td>\n",
       "      <td>Male</td>\n",
       "      <td>1</td>\n",
       "      <td>2</td>\n",
       "      <td>1.0</td>\n",
       "      <td>1.0</td>\n",
       "    </tr>\n",
       "    <tr>\n",
       "      <th>2</th>\n",
       "      <td>France</td>\n",
       "      <td>Male</td>\n",
       "      <td>10</td>\n",
       "      <td>2</td>\n",
       "      <td>1.0</td>\n",
       "      <td>0.0</td>\n",
       "    </tr>\n",
       "    <tr>\n",
       "      <th>3</th>\n",
       "      <td>France</td>\n",
       "      <td>Male</td>\n",
       "      <td>2</td>\n",
       "      <td>1</td>\n",
       "      <td>1.0</td>\n",
       "      <td>1.0</td>\n",
       "    </tr>\n",
       "    <tr>\n",
       "      <th>4</th>\n",
       "      <td>Spain</td>\n",
       "      <td>Male</td>\n",
       "      <td>5</td>\n",
       "      <td>2</td>\n",
       "      <td>1.0</td>\n",
       "      <td>1.0</td>\n",
       "    </tr>\n",
       "  </tbody>\n",
       "</table>\n",
       "</div>"
      ],
      "text/plain": [
       "  Geography Gender  Tenure  NumOfProducts  HasCrCard  IsActiveMember\n",
       "0    France   Male       3              2        1.0             0.0\n",
       "1    France   Male       1              2        1.0             1.0\n",
       "2    France   Male      10              2        1.0             0.0\n",
       "3    France   Male       2              1        1.0             1.0\n",
       "4     Spain   Male       5              2        1.0             1.0"
      ]
     },
     "execution_count": 18,
     "metadata": {},
     "output_type": "execute_result"
    }
   ],
   "source": [
    "df_train_cat = df_train[category_col]\n",
    "df_train_cat.head()"
   ]
  },
  {
   "cell_type": "markdown",
   "id": "afd6e364",
   "metadata": {},
   "source": [
    "Visualizations:"
   ]
  },
  {
   "cell_type": "code",
   "execution_count": 19,
   "id": "04d8df5e",
   "metadata": {},
   "outputs": [
    {
     "data": {
      "image/png": "[encoded data removed]",
      "text/plain": [
       "<Figure size 1200x1400 with 6 Axes>"
      ]
     },
     "metadata": {},
     "output_type": "display_data"
    }
   ],
   "source": [
    "fig, axes = plt.subplots(3, 2, figsize=(12, 14))\n",
    "axes = axes.flatten() #This line flattens the 2D array of subplot axes into a 1D array, making it easier to iterate over them.\n",
    "\n",
    "# background\n",
    "fig.patch.set_facecolor('lightgrey')\n",
    "\n",
    "for i, column in enumerate(df_train_cat.columns[:6]):\n",
    "    \n",
    "    # barplot, title, no axis labels\n",
    "    sns.countplot(data=df_train_cat, x=column, ax=axes[i], palette='CMRmap', edgecolor='dimgrey', linewidth=1, width=0.7)\n",
    "    axes[i].set_title(f'{column}', fontsize=14)\n",
    "    axes[i].set_xlabel('')\n",
    "    axes[i].set_ylabel('')\n",
    "    \n",
    "    # background of the chart, ticks on both the x-axis and y-axis\n",
    "    axes[i].set_facecolor('lightgrey')\n",
    "    axes[i].tick_params(axis='both', which='major', labelsize=8)    \n",
    "    \n",
    "    # frames (non), gridlines\n",
    "    axes[i].spines['top'].set_visible(False)\n",
    "    axes[i].spines['right'].set_visible(False)\n",
    "    axes[i].spines['left'].set_visible(False)\n",
    "    axes[i].spines['bottom'].set_visible(False)\n",
    "    axes[i].yaxis.grid(True)\n",
    "    axes[i].set_axisbelow(True)\n",
    "    \n",
    "    # percentage labels\n",
    "    total = len(df_train_cat[column])\n",
    "    for p in axes[i].patches:\n",
    "        percentage = '{:.1f}%'.format(100 * p.get_height() / total)\n",
    "        x = p.get_x() + p.get_width() / 2\n",
    "        y = p.get_height()\n",
    "        axes[i].annotate(percentage, (x, y), ha='center', va='bottom', color='navy', size=8, fontweight='bold')\n",
    "\n",
    "plt.tight_layout()\n",
    "plt.show()"
   ]
  },
  {
   "cell_type": "markdown",
   "id": "5c1e9551",
   "metadata": {},
   "source": [
    "Conclutions:\n",
    "1. **Geography**:\n",
    "    - The majority of customers are from France (57.1%).\n",
    "    - Spain and Germany have significantly fewer customers, with 21.9% and 21.0% respectively.\n",
    "<br><br>\n",
    "2. **Gender**:\n",
    "    - There is a higher proportion of male customers (56.4%) compared to female customers (43.6%).\n",
    "<br><br>\n",
    "3. **Tenure**:\n",
    "    - The tenure distribution is relatively even across the range from 1 to 10 years, except for 3.0% for tenure of 0 years and 3.6% for 10 years.\n",
    "<br><br>\n",
    "4. **Number of Products**:\n",
    "    - Most customers have either 1 (46.9%) or 2 (51.1%) products.\n",
    "    - A very small percentage of customers have 3 or 4 products, at 1.8% and 0.3% respectively.\n",
    "<br><br>\n",
    "5. **Credit Card Ownership (HasCrCard)**:\n",
    "    - A majority of customers (75.4%) have a credit card and 24.6% do not have a credit card.\n",
    "<br><br>\n",
    "6. **Active Membership (IsActiveMember)**:\n",
    "    - The distribution is almost even, with 50.2% of customers being active members and 49.8% not being active members."
   ]
  },
  {
   "cell_type": "markdown",
   "id": "83274bbc",
   "metadata": {},
   "source": [
    "#### 2.2.3. Boxplot for numeric columns <a id=\"sub_section_2_2_3\"></a>"
   ]
  },
  {
   "cell_type": "markdown",
   "id": "00fa6744",
   "metadata": {},
   "source": [
    "Now let's create a DataFrame containing all the numeric columns:"
   ]
  },
  {
   "cell_type": "code",
   "execution_count": 20,
   "id": "d670f2b8",
   "metadata": {},
   "outputs": [
    {
     "data": {
      "text/html": [
       "<div>\n",
       "<style scoped>\n",
       "    .dataframe tbody tr th:only-of-type {\n",
       "        vertical-align: middle;\n",
       "    }\n",
       "\n",
       "    .dataframe tbody tr th {\n",
       "        vertical-align: top;\n",
       "    }\n",
       "\n",
       "    .dataframe thead th {\n",
       "        text-align: right;\n",
       "    }\n",
       "</style>\n",
       "<table border=\"1\" class=\"dataframe\">\n",
       "  <thead>\n",
       "    <tr style=\"text-align: right;\">\n",
       "      <th></th>\n",
       "      <th>CreditScore</th>\n",
       "      <th>Age</th>\n",
       "      <th>Balance</th>\n",
       "      <th>EstimatedSalary</th>\n",
       "    </tr>\n",
       "  </thead>\n",
       "  <tbody>\n",
       "    <tr>\n",
       "      <th>0</th>\n",
       "      <td>668</td>\n",
       "      <td>33.0</td>\n",
       "      <td>0.00</td>\n",
       "      <td>181449.97</td>\n",
       "    </tr>\n",
       "    <tr>\n",
       "      <th>1</th>\n",
       "      <td>627</td>\n",
       "      <td>33.0</td>\n",
       "      <td>0.00</td>\n",
       "      <td>49503.50</td>\n",
       "    </tr>\n",
       "    <tr>\n",
       "      <th>2</th>\n",
       "      <td>678</td>\n",
       "      <td>40.0</td>\n",
       "      <td>0.00</td>\n",
       "      <td>184866.69</td>\n",
       "    </tr>\n",
       "    <tr>\n",
       "      <th>3</th>\n",
       "      <td>581</td>\n",
       "      <td>34.0</td>\n",
       "      <td>148882.54</td>\n",
       "      <td>84560.88</td>\n",
       "    </tr>\n",
       "    <tr>\n",
       "      <th>4</th>\n",
       "      <td>716</td>\n",
       "      <td>33.0</td>\n",
       "      <td>0.00</td>\n",
       "      <td>15068.83</td>\n",
       "    </tr>\n",
       "  </tbody>\n",
       "</table>\n",
       "</div>"
      ],
      "text/plain": [
       "   CreditScore   Age    Balance  EstimatedSalary\n",
       "0          668  33.0       0.00        181449.97\n",
       "1          627  33.0       0.00         49503.50\n",
       "2          678  40.0       0.00        184866.69\n",
       "3          581  34.0  148882.54         84560.88\n",
       "4          716  33.0       0.00         15068.83"
      ]
     },
     "execution_count": 20,
     "metadata": {},
     "output_type": "execute_result"
    }
   ],
   "source": [
    "df_train_num = df_train[numeric_col]\n",
    "df_train_num.head()"
   ]
  },
  {
   "cell_type": "markdown",
   "id": "26ef96df",
   "metadata": {},
   "source": [
    "Visualizations:"
   ]
  },
  {
   "cell_type": "code",
   "execution_count": 21,
   "id": "f141e0d9",
   "metadata": {
    "scrolled": false
   },
   "outputs": [
    {
     "data": {
      "image/png": "[encoded data removed]",
      "text/plain": [
       "<Figure size 1200x1400 with 4 Axes>"
      ]
     },
     "metadata": {},
     "output_type": "display_data"
    }
   ],
   "source": [
    "fig, axes = plt.subplots(2, 2, figsize=(12, 14))\n",
    "axes = axes.flatten()\n",
    "\n",
    "# background\n",
    "fig.patch.set_facecolor('lightgrey')\n",
    "\n",
    "for i, column in enumerate(df_train_num.columns):\n",
    "    \n",
    "    # boxplot, title, axes labels\n",
    "    sns.boxplot(df_train_num[column], ax=axes[i], color=palette(0.7))\n",
    "    axes[i].set_title(column, fontsize=14)\n",
    "    axes[i].tick_params(axis='y', which='major', labelsize=8)\n",
    "    axes[i].set_xticklabels([])\n",
    "    \n",
    "    # background of the chart, width of the boxplot\n",
    "    axes[i].set_facecolor('lightgrey')\n",
    "    axes[i].set_xlim(-1, 1) \n",
    "    \n",
    "    # frames (non), gridlines\n",
    "    axes[i].spines['top'].set_visible(False)\n",
    "    axes[i].spines['right'].set_visible(False)\n",
    "    axes[i].spines['left'].set_visible(False)\n",
    "    axes[i].spines['bottom'].set_visible(False)\n",
    "    axes[i].yaxis.grid(True)\n",
    "    axes[i].set_axisbelow(True)\n",
    "\n",
    "plt.tight_layout()\n",
    "plt.show()"
   ]
  },
  {
   "cell_type": "markdown",
   "id": "8c11f9b9",
   "metadata": {},
   "source": [
    "Main conclusions:\n",
    "1. **Credit Score**:\n",
    "    - the majority of credit scores are concentrated between 600 and 720,\n",
    "    - the outliers in the CreditScore might be genuine low scores rather than errors; we will keep them, as they can provide valuable information about customers with unusually low credit scores.\n",
    "<br><br>\n",
    "2. **Age**:\n",
    "    - the most typical age of the customer oscillates between 30 and 45,\n",
    "    - there are several outliers above 60, with a single extreme outlier around 90,\n",
    "    - all the outliers represent older individuals, they are likely valid data points; we will retain them because there is no justification for removing older age groups.\n",
    "<br><br>\n",
    "3. **Balance**:\n",
    "    - the majority of balances range from 0 to around 125,000, with many having zero balance; no significant outliers.\n",
    "<br><br>\n",
    "4. **EstimatedSalary**:\n",
    "    - salaries are widely spread, ranging from 0 to around 200,000, with no significant skew or clustering; no significant outliers."
   ]
  },
  {
   "cell_type": "markdown",
   "id": "b1400908",
   "metadata": {},
   "source": [
    "#### 2.2.4. Distribution of numeric columns <a id=\"sub_section_2_2_4\"></a>"
   ]
  },
  {
   "cell_type": "markdown",
   "id": "ccf15f34",
   "metadata": {},
   "source": [
    "Visualizations:"
   ]
  },
  {
   "cell_type": "code",
   "execution_count": 22,
   "id": "91b92d0d",
   "metadata": {},
   "outputs": [
    {
     "data": {
      "image/png": "[encoded data removed]",
      "text/plain": [
       "<Figure size 1200x1600 with 4 Axes>"
      ]
     },
     "metadata": {},
     "output_type": "display_data"
    }
   ],
   "source": [
    "fig, axes = plt.subplots(4, 1, figsize=(12, 16))\n",
    "axes = axes.flatten()\n",
    "\n",
    "# background\n",
    "fig.patch.set_facecolor('lightgrey')\n",
    "\n",
    "for i, column in enumerate(df_train_num.columns):\n",
    "    \n",
    "    # histplot, title, labels, background of the plot\n",
    "    sns.histplot(data=df_train_num[column], ax=axes[i], color=palette(0.2))\n",
    "    axes[i].set_title(column, fontsize=14)\n",
    "    axes[i].set_xlabel('')\n",
    "    axes[i].set_ylabel('')\n",
    "    axes[i].tick_params(axis='both', which='major', labelsize=8)\n",
    "    axes[i].set_facecolor('lightgrey')\n",
    "    \n",
    "    # no frames, gridlines\n",
    "    axes[i].spines['top'].set_visible(False)\n",
    "    axes[i].spines['right'].set_visible(False)\n",
    "    axes[i].spines['left'].set_visible(False)\n",
    "    axes[i].spines['bottom'].set_visible(False)\n",
    "    axes[i].yaxis.grid(True)\n",
    "    axes[i].set_axisbelow(True)\n",
    "    \n",
    "    # mean line, median line\n",
    "    axes[i].axvline(df_train_num[column].mean(), color='red', linestyle='dashed', linewidth=2, label=f'Mean: {df_train_num[column].mean():.2f}')\n",
    "    axes[i].axvline(df_train_num[column].median(), color='blue', linestyle='dashed', linewidth=2, label=f'Median: {df_train_num[column].median():.2f}')\n",
    "    axes[i].legend()\n",
    "\n",
    "plt.tight_layout()\n",
    "plt.show()"
   ]
  },
  {
   "cell_type": "markdown",
   "id": "952ee6fe",
   "metadata": {},
   "source": [
    "Conclusions:\n",
    "\n",
    "1. **Credit Score**:\n",
    "    - the mean is 656.45, and the median is 659; this close alignment indicates a fairly symmetrical distribution with slight left skewness,\n",
    "    - the distribution of CreditScore is relatively normal with no extreme outliers, which suggests that it can be used as-is in the model.\n",
    "<br><br>\n",
    "2. **Age**:\n",
    "    - the Age variable has a distribution skewed to the right, with most customers falling between 30 and 40 years old,\n",
    "    - the mean is 38.13, and the median is 37, indicating a slight right skew, which indicates a larger number of younger customers.\n",
    "<br><br>\n",
    "3. **Balance**:\n",
    "    - The majority of customers have a zero balance, while a smaller proportion has varying balances, which makes the distribution skewed to 0 side,\n",
    "    - The mean is 55,478.09, while the median is 0.\n",
    "<br><br>\n",
    "4. **EstimatedSalary**:\n",
    "    - the EstimatedSalary variable appears relatively uniformly distributed, with some minor skewness,\n",
    "    - the fairly uniform distribution indicates that customers come from various income brackets."
   ]
  },
  {
   "cell_type": "markdown",
   "id": "efa53b53",
   "metadata": {},
   "source": [
    "#### 2.2.5. Correlation analysis<a id=\"sub_section_2_2_5\"></a>"
   ]
  },
  {
   "cell_type": "markdown",
   "id": "58f5ce51",
   "metadata": {},
   "source": [
    "**Correlation analysis** - examining the relationships between variables to understand how they influence each other and to identify potential multicollinearity."
   ]
  },
  {
   "cell_type": "markdown",
   "id": "315d7339",
   "metadata": {},
   "source": [
    "Correlation measures the statistical relationship between pairs of columns.\n",
    "\n",
    "The correlation coefficient ranges from -1 to 1, where:\n",
    "\n",
    "* 1 indicates a perfect positive correlation (as one variable increases, the other also increases),\n",
    "* -1 indicates a perfect negative correlation (as one variable increases, the other decreases),\n",
    "* 0 indicates no correlation."
   ]
  },
  {
   "cell_type": "markdown",
   "id": "58031ac5",
   "metadata": {},
   "source": [
    "Let's build correlation matrix:"
   ]
  },
  {
   "cell_type": "code",
   "execution_count": 23,
   "id": "db173b5b",
   "metadata": {},
   "outputs": [],
   "source": [
    "df_train_cl = df_train[numeric_col + ['Tenure', 'NumOfProducts', 'HasCrCard', 'IsActiveMember', 'Exited']]\n",
    "\n",
    "# correlation\n",
    "corr_train = df_train_cl.corr()\n",
    "\n",
    "mask = np.zeros_like(corr_train) # creates a mask array with the same shape as the corr_train array, filled with zeros\n",
    "mask[np.triu_indices_from(mask)] = True # modifies the mask array to set all elements in the upper triangle to 1"
   ]
  },
  {
   "cell_type": "markdown",
   "id": "eacfb6e5",
   "metadata": {},
   "source": [
    "Visualization:"
   ]
  },
  {
   "cell_type": "code",
   "execution_count": 24,
   "id": "ee75df3d",
   "metadata": {},
   "outputs": [
    {
     "data": {
      "image/png": "[encoded data removed]",
      "text/plain": [
       "<Figure size 1400x600 with 2 Axes>"
      ]
     },
     "metadata": {},
     "output_type": "display_data"
    }
   ],
   "source": [
    "fig, axes = plt.subplots(figsize=(14, 6))\n",
    "\n",
    "# background\n",
    "fig.patch.set_facecolor('lightgrey')\n",
    "\n",
    "# plot\n",
    "sns.heatmap(corr_train, mask=mask, annot=True, cmap='plasma')\n",
    "\n",
    "# title, backround of the chart, axes labels, gridlines\n",
    "plt.title('Correlation', fontsize=14)\n",
    "plt.gca().set_facecolor('lightgrey') \n",
    "plt.tick_params(axis='both', which='major', labelsize=8)\n",
    "plt.gca().yaxis.grid(True)\n",
    "plt.gca().xaxis.grid(True)\n",
    "plt.gca().set_axisbelow(True)\n",
    "\n",
    "plt.show()"
   ]
  },
  {
   "cell_type": "markdown",
   "id": "3ee3e2f1",
   "metadata": {},
   "source": [
    "Main conclusions:\n",
    "- NumOfProducts has a notable negative correlation with Balance (-0.36), which means customers with more products tend to have lower balances,\n",
    "- Age has the highest positive correlation with the target variable Exited (0.34), which suggests that older customers are more likely to exit the service,\n",
    "- Balance also has a positive correlation with Exited (0.13), indicating that customers with higher balances are more likely to exit,\n",
    "- NumOfProducts and IsActiveMember have a significant negative correlation with Exited (-0.21). This indicates that customers with more products and active members are less likely to exit,\n",
    "- variables like Age, Balance, NumOfProducts, and IsActiveMember should be considered important features for predicting the Exited variable due to their relatively higher correlations,\n",
    "- most other variables have weak correlations with each other, indicating that they are relatively independent."
   ]
  },
  {
   "cell_type": "markdown",
   "id": "efde9ce0",
   "metadata": {},
   "source": [
    "#### 2.2.6. Distribution of variables in relation to 'Exited' <a id=\"sub_section_2_2_6\"></a>"
   ]
  },
  {
   "cell_type": "code",
   "execution_count": 25,
   "id": "de48fac8",
   "metadata": {},
   "outputs": [
    {
     "data": {
      "image/png": "[encoded data removed]",
      "text/plain": [
       "<Figure size 1200x1400 with 6 Axes>"
      ]
     },
     "metadata": {},
     "output_type": "display_data"
    }
   ],
   "source": [
    "df_train_cat_tg = df_train[category_col + ['Exited']]\n",
    "\n",
    "fig, axes = plt.subplots(3, 2, figsize=(12, 14))\n",
    "axes = axes.flatten() \n",
    "\n",
    "# background\n",
    "fig.patch.set_facecolor('lightgrey')\n",
    "\n",
    "for i, column in enumerate(df_train_cat_tg.columns[:-1]):  # Iterate over the first six columns, excluding 'Exited'\n",
    "    \n",
    "    # barplot\n",
    "    sns.countplot(data=df_train_cat_tg, x=column, hue='Exited', ax=axes[i], palette='CMRmap', edgecolor='dimgrey', linewidth=1, width=0.7)\n",
    "    \n",
    "    # title, axes labels, background\n",
    "    axes[i].set_title(f'{column}', fontsize=14)\n",
    "    axes[i].set_xlabel('')\n",
    "    axes[i].set_ylabel('')\n",
    "    axes[i].tick_params(axis='both', which='major', labelsize=8)  # Adjusting the tick label font size\n",
    "    axes[i].set_facecolor('lightgrey')  # Setting background color\n",
    "\n",
    "    # frames (non), gridlines\n",
    "    axes[i].spines['top'].set_visible(False)\n",
    "    axes[i].spines['right'].set_visible(False)\n",
    "    axes[i].spines['left'].set_visible(False)\n",
    "    axes[i].spines['bottom'].set_visible(False)\n",
    "    axes[i].yaxis.grid(True)\n",
    "    axes[i].set_axisbelow(True)\n",
    "\n",
    "\n",
    "plt.tight_layout()\n",
    "plt.show()"
   ]
  },
  {
   "cell_type": "markdown",
   "id": "4081e6c0",
   "metadata": {},
   "source": [
    "Main conclusions:\n",
    "\n",
    "1. **Geography**:\n",
    "    - Germany has a higher proportion of customers who exited compared to France and Spain,\n",
    "    - geography appears to be a significant factor in customer churn; it will be included in the model, using one-hot encoding to capture the differences among the countries.\n",
    "<br><br>\n",
    "2. **Gender**:\n",
    "    - a higher proportion of female customers have exited compared to male customers,\n",
    "    - this variable will also be included in the model with encoding for male and female categories.\n",
    "<br><br>\n",
    "3. **Tenure**:\n",
    "    - churn is quite consistent across different tenure values, with a slight increase in churn for customers with very low and very high tenure.\n",
    "<br><br>\n",
    "4. **NumOfProducts**:\n",
    "    - customers with 1 product have a higher churn rate compared to those with 2 products; very few customers with 3 or 4 products have churned.\n",
    "<br><br>\n",
    "5. **HasCrCard**:\n",
    "    - churn rates are similar for customers with and without a credit card.\n",
    "<br><br>\n",
    "6. **IsActiveMember**:\n",
    "    - inactive members have a significantly higher churn rate compared to active members."
   ]
  },
  {
   "cell_type": "markdown",
   "id": "9d1bb2f0",
   "metadata": {},
   "source": [
    "### 2.3. Data Cleaning <a id=\"section_2_3\"></a>"
   ]
  },
  {
   "cell_type": "markdown",
   "id": "04d101cd",
   "metadata": {},
   "source": [
    "#### 2.3.1. Missing values <a id=\"sub_section_2_3_1\"></a>"
   ]
  },
  {
   "cell_type": "code",
   "execution_count": 26,
   "id": "52b87848",
   "metadata": {
    "scrolled": true
   },
   "outputs": [
    {
     "data": {
      "text/plain": [
       "id                 0\n",
       "CustomerId         0\n",
       "Surname            0\n",
       "CreditScore        0\n",
       "Geography          0\n",
       "Gender             0\n",
       "Age                0\n",
       "Tenure             0\n",
       "Balance            0\n",
       "NumOfProducts      0\n",
       "HasCrCard          0\n",
       "IsActiveMember     0\n",
       "EstimatedSalary    0\n",
       "Exited             0\n",
       "dtype: int64"
      ]
     },
     "execution_count": 26,
     "metadata": {},
     "output_type": "execute_result"
    }
   ],
   "source": [
    "df_train.isna().sum()"
   ]
  },
  {
   "cell_type": "code",
   "execution_count": 27,
   "id": "e4e034c8",
   "metadata": {
    "scrolled": true
   },
   "outputs": [
    {
     "data": {
      "text/plain": [
       "id                 0\n",
       "CustomerId         0\n",
       "Surname            0\n",
       "CreditScore        0\n",
       "Geography          0\n",
       "Gender             0\n",
       "Age                0\n",
       "Tenure             0\n",
       "Balance            0\n",
       "NumOfProducts      0\n",
       "HasCrCard          0\n",
       "IsActiveMember     0\n",
       "EstimatedSalary    0\n",
       "dtype: int64"
      ]
     },
     "execution_count": 27,
     "metadata": {},
     "output_type": "execute_result"
    }
   ],
   "source": [
    "df_test.isna().sum()"
   ]
  },
  {
   "cell_type": "code",
   "execution_count": 28,
   "id": "42504b35",
   "metadata": {
    "scrolled": true
   },
   "outputs": [
    {
     "name": "stdout",
     "output_type": "stream",
     "text": [
      "Number of missing values in train dataset: 0 \n",
      "Number of missing values in test dataset: 0 \n"
     ]
    }
   ],
   "source": [
    "print(f\"\"\"Number of missing values in train dataset: {df_train.isna().sum().sum()} \n",
    "Number of missing values in test dataset: {df_test.isna().sum().sum()} \"\"\")"
   ]
  },
  {
   "cell_type": "code",
   "execution_count": 29,
   "id": "cb63fbf8",
   "metadata": {},
   "outputs": [
    {
     "data": {
      "image/png": "[encoded data removed]",
      "text/plain": [
       "<Figure size 640x480 with 2 Axes>"
      ]
     },
     "metadata": {},
     "output_type": "display_data"
    }
   ],
   "source": [
    "sns.heatmap(df_train.isnull());"
   ]
  },
  {
   "cell_type": "markdown",
   "id": "ba8b0cba",
   "metadata": {},
   "source": [
    "#### 2.3.2. Duplicates <a id=\"sub_section_2_3_2\"></a>"
   ]
  },
  {
   "cell_type": "code",
   "execution_count": 30,
   "id": "178763f7",
   "metadata": {
    "scrolled": true
   },
   "outputs": [
    {
     "name": "stdout",
     "output_type": "stream",
     "text": [
      "Number of duplicated rows in train dataset: 0 \n",
      "Number of duplicated rows in test dataset: 0 \n"
     ]
    }
   ],
   "source": [
    "print(f\"\"\"Number of duplicated rows in train dataset: {df_train.duplicated().sum()} \n",
    "Number of duplicated rows in test dataset: {df_test.duplicated().sum()} \"\"\")"
   ]
  },
  {
   "cell_type": "markdown",
   "id": "23a1cddb",
   "metadata": {},
   "source": [
    "### 2.4. One Hot Encoding<a id=\"section_2_4\"></a>"
   ]
  },
  {
   "cell_type": "markdown",
   "id": "4d7c5d37",
   "metadata": {},
   "source": [
    "One-hot encoding is a technique used in machine learning and data preprocessing to represent categorical variables as binary vectors. We convert column Geography and Gender from categorical to binary columns."
   ]
  },
  {
   "cell_type": "markdown",
   "id": "365456f0",
   "metadata": {},
   "source": [
    "Train dataset:"
   ]
  },
  {
   "cell_type": "code",
   "execution_count": 31,
   "id": "cd74f504",
   "metadata": {},
   "outputs": [
    {
     "data": {
      "text/html": [
       "<div>\n",
       "<style scoped>\n",
       "    .dataframe tbody tr th:only-of-type {\n",
       "        vertical-align: middle;\n",
       "    }\n",
       "\n",
       "    .dataframe tbody tr th {\n",
       "        vertical-align: top;\n",
       "    }\n",
       "\n",
       "    .dataframe thead th {\n",
       "        text-align: right;\n",
       "    }\n",
       "</style>\n",
       "<table border=\"1\" class=\"dataframe\">\n",
       "  <thead>\n",
       "    <tr style=\"text-align: right;\">\n",
       "      <th></th>\n",
       "      <th>Geography_France</th>\n",
       "      <th>Geography_Germany</th>\n",
       "      <th>Geography_Spain</th>\n",
       "      <th>Gender_Female</th>\n",
       "      <th>Gender_Male</th>\n",
       "    </tr>\n",
       "  </thead>\n",
       "  <tbody>\n",
       "    <tr>\n",
       "      <th>0</th>\n",
       "      <td>1.0</td>\n",
       "      <td>0.0</td>\n",
       "      <td>0.0</td>\n",
       "      <td>0.0</td>\n",
       "      <td>1.0</td>\n",
       "    </tr>\n",
       "    <tr>\n",
       "      <th>1</th>\n",
       "      <td>1.0</td>\n",
       "      <td>0.0</td>\n",
       "      <td>0.0</td>\n",
       "      <td>0.0</td>\n",
       "      <td>1.0</td>\n",
       "    </tr>\n",
       "    <tr>\n",
       "      <th>2</th>\n",
       "      <td>1.0</td>\n",
       "      <td>0.0</td>\n",
       "      <td>0.0</td>\n",
       "      <td>0.0</td>\n",
       "      <td>1.0</td>\n",
       "    </tr>\n",
       "    <tr>\n",
       "      <th>3</th>\n",
       "      <td>1.0</td>\n",
       "      <td>0.0</td>\n",
       "      <td>0.0</td>\n",
       "      <td>0.0</td>\n",
       "      <td>1.0</td>\n",
       "    </tr>\n",
       "    <tr>\n",
       "      <th>4</th>\n",
       "      <td>0.0</td>\n",
       "      <td>0.0</td>\n",
       "      <td>1.0</td>\n",
       "      <td>0.0</td>\n",
       "      <td>1.0</td>\n",
       "    </tr>\n",
       "    <tr>\n",
       "      <th>...</th>\n",
       "      <td>...</td>\n",
       "      <td>...</td>\n",
       "      <td>...</td>\n",
       "      <td>...</td>\n",
       "      <td>...</td>\n",
       "    </tr>\n",
       "    <tr>\n",
       "      <th>165029</th>\n",
       "      <td>0.0</td>\n",
       "      <td>0.0</td>\n",
       "      <td>1.0</td>\n",
       "      <td>1.0</td>\n",
       "      <td>0.0</td>\n",
       "    </tr>\n",
       "    <tr>\n",
       "      <th>165030</th>\n",
       "      <td>1.0</td>\n",
       "      <td>0.0</td>\n",
       "      <td>0.0</td>\n",
       "      <td>0.0</td>\n",
       "      <td>1.0</td>\n",
       "    </tr>\n",
       "    <tr>\n",
       "      <th>165031</th>\n",
       "      <td>1.0</td>\n",
       "      <td>0.0</td>\n",
       "      <td>0.0</td>\n",
       "      <td>0.0</td>\n",
       "      <td>1.0</td>\n",
       "    </tr>\n",
       "    <tr>\n",
       "      <th>165032</th>\n",
       "      <td>0.0</td>\n",
       "      <td>0.0</td>\n",
       "      <td>1.0</td>\n",
       "      <td>1.0</td>\n",
       "      <td>0.0</td>\n",
       "    </tr>\n",
       "    <tr>\n",
       "      <th>165033</th>\n",
       "      <td>1.0</td>\n",
       "      <td>0.0</td>\n",
       "      <td>0.0</td>\n",
       "      <td>0.0</td>\n",
       "      <td>1.0</td>\n",
       "    </tr>\n",
       "  </tbody>\n",
       "</table>\n",
       "<p>165034 rows × 5 columns</p>\n",
       "</div>"
      ],
      "text/plain": [
       "        Geography_France  Geography_Germany  Geography_Spain  Gender_Female  \\\n",
       "0                    1.0                0.0              0.0            0.0   \n",
       "1                    1.0                0.0              0.0            0.0   \n",
       "2                    1.0                0.0              0.0            0.0   \n",
       "3                    1.0                0.0              0.0            0.0   \n",
       "4                    0.0                0.0              1.0            0.0   \n",
       "...                  ...                ...              ...            ...   \n",
       "165029               0.0                0.0              1.0            1.0   \n",
       "165030               1.0                0.0              0.0            0.0   \n",
       "165031               1.0                0.0              0.0            0.0   \n",
       "165032               0.0                0.0              1.0            1.0   \n",
       "165033               1.0                0.0              0.0            0.0   \n",
       "\n",
       "        Gender_Male  \n",
       "0               1.0  \n",
       "1               1.0  \n",
       "2               1.0  \n",
       "3               1.0  \n",
       "4               1.0  \n",
       "...             ...  \n",
       "165029          0.0  \n",
       "165030          1.0  \n",
       "165031          1.0  \n",
       "165032          0.0  \n",
       "165033          1.0  \n",
       "\n",
       "[165034 rows x 5 columns]"
      ]
     },
     "execution_count": 31,
     "metadata": {},
     "output_type": "execute_result"
    }
   ],
   "source": [
    "ohe = OneHotEncoder(sparse_output=False)\n",
    "\n",
    "df_train_ohe = pd.DataFrame(ohe.fit_transform(df_train[[\"Geography\", \"Gender\"]]), columns = ohe.get_feature_names_out())\n",
    "df_train_ohe"
   ]
  },
  {
   "cell_type": "markdown",
   "id": "9a6c9232",
   "metadata": {},
   "source": [
    "Test dataset:"
   ]
  },
  {
   "cell_type": "code",
   "execution_count": 32,
   "id": "c7f861c3",
   "metadata": {},
   "outputs": [
    {
     "data": {
      "text/html": [
       "<div>\n",
       "<style scoped>\n",
       "    .dataframe tbody tr th:only-of-type {\n",
       "        vertical-align: middle;\n",
       "    }\n",
       "\n",
       "    .dataframe tbody tr th {\n",
       "        vertical-align: top;\n",
       "    }\n",
       "\n",
       "    .dataframe thead th {\n",
       "        text-align: right;\n",
       "    }\n",
       "</style>\n",
       "<table border=\"1\" class=\"dataframe\">\n",
       "  <thead>\n",
       "    <tr style=\"text-align: right;\">\n",
       "      <th></th>\n",
       "      <th>Geography_France</th>\n",
       "      <th>Geography_Germany</th>\n",
       "      <th>Geography_Spain</th>\n",
       "      <th>Gender_Female</th>\n",
       "      <th>Gender_Male</th>\n",
       "    </tr>\n",
       "  </thead>\n",
       "  <tbody>\n",
       "    <tr>\n",
       "      <th>0</th>\n",
       "      <td>1.0</td>\n",
       "      <td>0.0</td>\n",
       "      <td>0.0</td>\n",
       "      <td>1.0</td>\n",
       "      <td>0.0</td>\n",
       "    </tr>\n",
       "    <tr>\n",
       "      <th>1</th>\n",
       "      <td>1.0</td>\n",
       "      <td>0.0</td>\n",
       "      <td>0.0</td>\n",
       "      <td>1.0</td>\n",
       "      <td>0.0</td>\n",
       "    </tr>\n",
       "    <tr>\n",
       "      <th>2</th>\n",
       "      <td>1.0</td>\n",
       "      <td>0.0</td>\n",
       "      <td>0.0</td>\n",
       "      <td>1.0</td>\n",
       "      <td>0.0</td>\n",
       "    </tr>\n",
       "    <tr>\n",
       "      <th>3</th>\n",
       "      <td>1.0</td>\n",
       "      <td>0.0</td>\n",
       "      <td>0.0</td>\n",
       "      <td>0.0</td>\n",
       "      <td>1.0</td>\n",
       "    </tr>\n",
       "    <tr>\n",
       "      <th>4</th>\n",
       "      <td>0.0</td>\n",
       "      <td>1.0</td>\n",
       "      <td>0.0</td>\n",
       "      <td>0.0</td>\n",
       "      <td>1.0</td>\n",
       "    </tr>\n",
       "    <tr>\n",
       "      <th>...</th>\n",
       "      <td>...</td>\n",
       "      <td>...</td>\n",
       "      <td>...</td>\n",
       "      <td>...</td>\n",
       "      <td>...</td>\n",
       "    </tr>\n",
       "    <tr>\n",
       "      <th>110018</th>\n",
       "      <td>0.0</td>\n",
       "      <td>0.0</td>\n",
       "      <td>1.0</td>\n",
       "      <td>0.0</td>\n",
       "      <td>1.0</td>\n",
       "    </tr>\n",
       "    <tr>\n",
       "      <th>110019</th>\n",
       "      <td>1.0</td>\n",
       "      <td>0.0</td>\n",
       "      <td>0.0</td>\n",
       "      <td>1.0</td>\n",
       "      <td>0.0</td>\n",
       "    </tr>\n",
       "    <tr>\n",
       "      <th>110020</th>\n",
       "      <td>1.0</td>\n",
       "      <td>0.0</td>\n",
       "      <td>0.0</td>\n",
       "      <td>0.0</td>\n",
       "      <td>1.0</td>\n",
       "    </tr>\n",
       "    <tr>\n",
       "      <th>110021</th>\n",
       "      <td>1.0</td>\n",
       "      <td>0.0</td>\n",
       "      <td>0.0</td>\n",
       "      <td>1.0</td>\n",
       "      <td>0.0</td>\n",
       "    </tr>\n",
       "    <tr>\n",
       "      <th>110022</th>\n",
       "      <td>1.0</td>\n",
       "      <td>0.0</td>\n",
       "      <td>0.0</td>\n",
       "      <td>1.0</td>\n",
       "      <td>0.0</td>\n",
       "    </tr>\n",
       "  </tbody>\n",
       "</table>\n",
       "<p>110023 rows × 5 columns</p>\n",
       "</div>"
      ],
      "text/plain": [
       "        Geography_France  Geography_Germany  Geography_Spain  Gender_Female  \\\n",
       "0                    1.0                0.0              0.0            1.0   \n",
       "1                    1.0                0.0              0.0            1.0   \n",
       "2                    1.0                0.0              0.0            1.0   \n",
       "3                    1.0                0.0              0.0            0.0   \n",
       "4                    0.0                1.0              0.0            0.0   \n",
       "...                  ...                ...              ...            ...   \n",
       "110018               0.0                0.0              1.0            0.0   \n",
       "110019               1.0                0.0              0.0            1.0   \n",
       "110020               1.0                0.0              0.0            0.0   \n",
       "110021               1.0                0.0              0.0            1.0   \n",
       "110022               1.0                0.0              0.0            1.0   \n",
       "\n",
       "        Gender_Male  \n",
       "0               0.0  \n",
       "1               0.0  \n",
       "2               0.0  \n",
       "3               1.0  \n",
       "4               1.0  \n",
       "...             ...  \n",
       "110018          1.0  \n",
       "110019          0.0  \n",
       "110020          1.0  \n",
       "110021          0.0  \n",
       "110022          0.0  \n",
       "\n",
       "[110023 rows x 5 columns]"
      ]
     },
     "execution_count": 32,
     "metadata": {},
     "output_type": "execute_result"
    }
   ],
   "source": [
    "df_test_ohe = pd.DataFrame(ohe.fit_transform(df_test[[\"Geography\", \"Gender\"]]), columns = ohe.get_feature_names_out())\n",
    "df_test_ohe"
   ]
  },
  {
   "cell_type": "markdown",
   "id": "54803568",
   "metadata": {},
   "source": [
    "Let's integrate the one-hot encoded columns with the remaining dataset columns:"
   ]
  },
  {
   "cell_type": "code",
   "execution_count": 33,
   "id": "c1855330",
   "metadata": {},
   "outputs": [
    {
     "data": {
      "text/html": [
       "<div>\n",
       "<style scoped>\n",
       "    .dataframe tbody tr th:only-of-type {\n",
       "        vertical-align: middle;\n",
       "    }\n",
       "\n",
       "    .dataframe tbody tr th {\n",
       "        vertical-align: top;\n",
       "    }\n",
       "\n",
       "    .dataframe thead th {\n",
       "        text-align: right;\n",
       "    }\n",
       "</style>\n",
       "<table border=\"1\" class=\"dataframe\">\n",
       "  <thead>\n",
       "    <tr style=\"text-align: right;\">\n",
       "      <th></th>\n",
       "      <th>id</th>\n",
       "      <th>CustomerId</th>\n",
       "      <th>Surname</th>\n",
       "      <th>CreditScore</th>\n",
       "      <th>Age</th>\n",
       "      <th>Tenure</th>\n",
       "      <th>Balance</th>\n",
       "      <th>NumOfProducts</th>\n",
       "      <th>HasCrCard</th>\n",
       "      <th>IsActiveMember</th>\n",
       "      <th>EstimatedSalary</th>\n",
       "      <th>Exited</th>\n",
       "      <th>Geography_France</th>\n",
       "      <th>Geography_Germany</th>\n",
       "      <th>Geography_Spain</th>\n",
       "      <th>Gender_Female</th>\n",
       "      <th>Gender_Male</th>\n",
       "    </tr>\n",
       "  </thead>\n",
       "  <tbody>\n",
       "    <tr>\n",
       "      <th>0</th>\n",
       "      <td>0</td>\n",
       "      <td>15674932</td>\n",
       "      <td>Okwudilichukwu</td>\n",
       "      <td>668</td>\n",
       "      <td>33.0</td>\n",
       "      <td>3</td>\n",
       "      <td>0.00</td>\n",
       "      <td>2</td>\n",
       "      <td>1.0</td>\n",
       "      <td>0.0</td>\n",
       "      <td>181449.97</td>\n",
       "      <td>0</td>\n",
       "      <td>1.0</td>\n",
       "      <td>0.0</td>\n",
       "      <td>0.0</td>\n",
       "      <td>0.0</td>\n",
       "      <td>1.0</td>\n",
       "    </tr>\n",
       "    <tr>\n",
       "      <th>1</th>\n",
       "      <td>1</td>\n",
       "      <td>15749177</td>\n",
       "      <td>Okwudiliolisa</td>\n",
       "      <td>627</td>\n",
       "      <td>33.0</td>\n",
       "      <td>1</td>\n",
       "      <td>0.00</td>\n",
       "      <td>2</td>\n",
       "      <td>1.0</td>\n",
       "      <td>1.0</td>\n",
       "      <td>49503.50</td>\n",
       "      <td>0</td>\n",
       "      <td>1.0</td>\n",
       "      <td>0.0</td>\n",
       "      <td>0.0</td>\n",
       "      <td>0.0</td>\n",
       "      <td>1.0</td>\n",
       "    </tr>\n",
       "    <tr>\n",
       "      <th>2</th>\n",
       "      <td>2</td>\n",
       "      <td>15694510</td>\n",
       "      <td>Hsueh</td>\n",
       "      <td>678</td>\n",
       "      <td>40.0</td>\n",
       "      <td>10</td>\n",
       "      <td>0.00</td>\n",
       "      <td>2</td>\n",
       "      <td>1.0</td>\n",
       "      <td>0.0</td>\n",
       "      <td>184866.69</td>\n",
       "      <td>0</td>\n",
       "      <td>1.0</td>\n",
       "      <td>0.0</td>\n",
       "      <td>0.0</td>\n",
       "      <td>0.0</td>\n",
       "      <td>1.0</td>\n",
       "    </tr>\n",
       "    <tr>\n",
       "      <th>3</th>\n",
       "      <td>3</td>\n",
       "      <td>15741417</td>\n",
       "      <td>Kao</td>\n",
       "      <td>581</td>\n",
       "      <td>34.0</td>\n",
       "      <td>2</td>\n",
       "      <td>148882.54</td>\n",
       "      <td>1</td>\n",
       "      <td>1.0</td>\n",
       "      <td>1.0</td>\n",
       "      <td>84560.88</td>\n",
       "      <td>0</td>\n",
       "      <td>1.0</td>\n",
       "      <td>0.0</td>\n",
       "      <td>0.0</td>\n",
       "      <td>0.0</td>\n",
       "      <td>1.0</td>\n",
       "    </tr>\n",
       "    <tr>\n",
       "      <th>4</th>\n",
       "      <td>4</td>\n",
       "      <td>15766172</td>\n",
       "      <td>Chiemenam</td>\n",
       "      <td>716</td>\n",
       "      <td>33.0</td>\n",
       "      <td>5</td>\n",
       "      <td>0.00</td>\n",
       "      <td>2</td>\n",
       "      <td>1.0</td>\n",
       "      <td>1.0</td>\n",
       "      <td>15068.83</td>\n",
       "      <td>0</td>\n",
       "      <td>0.0</td>\n",
       "      <td>0.0</td>\n",
       "      <td>1.0</td>\n",
       "      <td>0.0</td>\n",
       "      <td>1.0</td>\n",
       "    </tr>\n",
       "    <tr>\n",
       "      <th>...</th>\n",
       "      <td>...</td>\n",
       "      <td>...</td>\n",
       "      <td>...</td>\n",
       "      <td>...</td>\n",
       "      <td>...</td>\n",
       "      <td>...</td>\n",
       "      <td>...</td>\n",
       "      <td>...</td>\n",
       "      <td>...</td>\n",
       "      <td>...</td>\n",
       "      <td>...</td>\n",
       "      <td>...</td>\n",
       "      <td>...</td>\n",
       "      <td>...</td>\n",
       "      <td>...</td>\n",
       "      <td>...</td>\n",
       "      <td>...</td>\n",
       "    </tr>\n",
       "    <tr>\n",
       "      <th>165029</th>\n",
       "      <td>165029</td>\n",
       "      <td>15667085</td>\n",
       "      <td>Meng</td>\n",
       "      <td>667</td>\n",
       "      <td>33.0</td>\n",
       "      <td>2</td>\n",
       "      <td>0.00</td>\n",
       "      <td>1</td>\n",
       "      <td>1.0</td>\n",
       "      <td>1.0</td>\n",
       "      <td>131834.75</td>\n",
       "      <td>0</td>\n",
       "      <td>0.0</td>\n",
       "      <td>0.0</td>\n",
       "      <td>1.0</td>\n",
       "      <td>1.0</td>\n",
       "      <td>0.0</td>\n",
       "    </tr>\n",
       "    <tr>\n",
       "      <th>165030</th>\n",
       "      <td>165030</td>\n",
       "      <td>15665521</td>\n",
       "      <td>Okechukwu</td>\n",
       "      <td>792</td>\n",
       "      <td>35.0</td>\n",
       "      <td>3</td>\n",
       "      <td>0.00</td>\n",
       "      <td>1</td>\n",
       "      <td>0.0</td>\n",
       "      <td>0.0</td>\n",
       "      <td>131834.45</td>\n",
       "      <td>0</td>\n",
       "      <td>1.0</td>\n",
       "      <td>0.0</td>\n",
       "      <td>0.0</td>\n",
       "      <td>0.0</td>\n",
       "      <td>1.0</td>\n",
       "    </tr>\n",
       "    <tr>\n",
       "      <th>165031</th>\n",
       "      <td>165031</td>\n",
       "      <td>15664752</td>\n",
       "      <td>Hsia</td>\n",
       "      <td>565</td>\n",
       "      <td>31.0</td>\n",
       "      <td>5</td>\n",
       "      <td>0.00</td>\n",
       "      <td>1</td>\n",
       "      <td>1.0</td>\n",
       "      <td>1.0</td>\n",
       "      <td>127429.56</td>\n",
       "      <td>0</td>\n",
       "      <td>1.0</td>\n",
       "      <td>0.0</td>\n",
       "      <td>0.0</td>\n",
       "      <td>0.0</td>\n",
       "      <td>1.0</td>\n",
       "    </tr>\n",
       "    <tr>\n",
       "      <th>165032</th>\n",
       "      <td>165032</td>\n",
       "      <td>15689614</td>\n",
       "      <td>Hsiung</td>\n",
       "      <td>554</td>\n",
       "      <td>30.0</td>\n",
       "      <td>7</td>\n",
       "      <td>161533.00</td>\n",
       "      <td>1</td>\n",
       "      <td>0.0</td>\n",
       "      <td>1.0</td>\n",
       "      <td>71173.03</td>\n",
       "      <td>0</td>\n",
       "      <td>0.0</td>\n",
       "      <td>0.0</td>\n",
       "      <td>1.0</td>\n",
       "      <td>1.0</td>\n",
       "      <td>0.0</td>\n",
       "    </tr>\n",
       "    <tr>\n",
       "      <th>165033</th>\n",
       "      <td>165033</td>\n",
       "      <td>15732798</td>\n",
       "      <td>Ulyanov</td>\n",
       "      <td>850</td>\n",
       "      <td>31.0</td>\n",
       "      <td>1</td>\n",
       "      <td>0.00</td>\n",
       "      <td>1</td>\n",
       "      <td>1.0</td>\n",
       "      <td>0.0</td>\n",
       "      <td>61581.79</td>\n",
       "      <td>1</td>\n",
       "      <td>1.0</td>\n",
       "      <td>0.0</td>\n",
       "      <td>0.0</td>\n",
       "      <td>0.0</td>\n",
       "      <td>1.0</td>\n",
       "    </tr>\n",
       "  </tbody>\n",
       "</table>\n",
       "<p>165034 rows × 17 columns</p>\n",
       "</div>"
      ],
      "text/plain": [
       "            id  CustomerId         Surname  CreditScore   Age  Tenure  \\\n",
       "0            0    15674932  Okwudilichukwu          668  33.0       3   \n",
       "1            1    15749177   Okwudiliolisa          627  33.0       1   \n",
       "2            2    15694510           Hsueh          678  40.0      10   \n",
       "3            3    15741417             Kao          581  34.0       2   \n",
       "4            4    15766172       Chiemenam          716  33.0       5   \n",
       "...        ...         ...             ...          ...   ...     ...   \n",
       "165029  165029    15667085            Meng          667  33.0       2   \n",
       "165030  165030    15665521       Okechukwu          792  35.0       3   \n",
       "165031  165031    15664752            Hsia          565  31.0       5   \n",
       "165032  165032    15689614          Hsiung          554  30.0       7   \n",
       "165033  165033    15732798         Ulyanov          850  31.0       1   \n",
       "\n",
       "          Balance  NumOfProducts  HasCrCard  IsActiveMember  EstimatedSalary  \\\n",
       "0            0.00              2        1.0             0.0        181449.97   \n",
       "1            0.00              2        1.0             1.0         49503.50   \n",
       "2            0.00              2        1.0             0.0        184866.69   \n",
       "3       148882.54              1        1.0             1.0         84560.88   \n",
       "4            0.00              2        1.0             1.0         15068.83   \n",
       "...           ...            ...        ...             ...              ...   \n",
       "165029       0.00              1        1.0             1.0        131834.75   \n",
       "165030       0.00              1        0.0             0.0        131834.45   \n",
       "165031       0.00              1        1.0             1.0        127429.56   \n",
       "165032  161533.00              1        0.0             1.0         71173.03   \n",
       "165033       0.00              1        1.0             0.0         61581.79   \n",
       "\n",
       "        Exited  Geography_France  Geography_Germany  Geography_Spain  \\\n",
       "0            0               1.0                0.0              0.0   \n",
       "1            0               1.0                0.0              0.0   \n",
       "2            0               1.0                0.0              0.0   \n",
       "3            0               1.0                0.0              0.0   \n",
       "4            0               0.0                0.0              1.0   \n",
       "...        ...               ...                ...              ...   \n",
       "165029       0               0.0                0.0              1.0   \n",
       "165030       0               1.0                0.0              0.0   \n",
       "165031       0               1.0                0.0              0.0   \n",
       "165032       0               0.0                0.0              1.0   \n",
       "165033       1               1.0                0.0              0.0   \n",
       "\n",
       "        Gender_Female  Gender_Male  \n",
       "0                 0.0          1.0  \n",
       "1                 0.0          1.0  \n",
       "2                 0.0          1.0  \n",
       "3                 0.0          1.0  \n",
       "4                 0.0          1.0  \n",
       "...               ...          ...  \n",
       "165029            1.0          0.0  \n",
       "165030            0.0          1.0  \n",
       "165031            0.0          1.0  \n",
       "165032            1.0          0.0  \n",
       "165033            0.0          1.0  \n",
       "\n",
       "[165034 rows x 17 columns]"
      ]
     },
     "execution_count": 33,
     "metadata": {},
     "output_type": "execute_result"
    }
   ],
   "source": [
    "df_train_model = pd.concat([df_train.drop(columns = [\"Geography\", \"Gender\"]), df_train_ohe], axis=1)\n",
    "df_train_model"
   ]
  },
  {
   "cell_type": "code",
   "execution_count": 34,
   "id": "e18b5834",
   "metadata": {},
   "outputs": [
    {
     "data": {
      "text/html": [
       "<div>\n",
       "<style scoped>\n",
       "    .dataframe tbody tr th:only-of-type {\n",
       "        vertical-align: middle;\n",
       "    }\n",
       "\n",
       "    .dataframe tbody tr th {\n",
       "        vertical-align: top;\n",
       "    }\n",
       "\n",
       "    .dataframe thead th {\n",
       "        text-align: right;\n",
       "    }\n",
       "</style>\n",
       "<table border=\"1\" class=\"dataframe\">\n",
       "  <thead>\n",
       "    <tr style=\"text-align: right;\">\n",
       "      <th></th>\n",
       "      <th>id</th>\n",
       "      <th>CustomerId</th>\n",
       "      <th>Surname</th>\n",
       "      <th>CreditScore</th>\n",
       "      <th>Age</th>\n",
       "      <th>Tenure</th>\n",
       "      <th>Balance</th>\n",
       "      <th>NumOfProducts</th>\n",
       "      <th>HasCrCard</th>\n",
       "      <th>IsActiveMember</th>\n",
       "      <th>EstimatedSalary</th>\n",
       "      <th>Geography_France</th>\n",
       "      <th>Geography_Germany</th>\n",
       "      <th>Geography_Spain</th>\n",
       "      <th>Gender_Female</th>\n",
       "      <th>Gender_Male</th>\n",
       "    </tr>\n",
       "  </thead>\n",
       "  <tbody>\n",
       "    <tr>\n",
       "      <th>0</th>\n",
       "      <td>165034</td>\n",
       "      <td>15773898</td>\n",
       "      <td>Lucchese</td>\n",
       "      <td>586</td>\n",
       "      <td>23.0</td>\n",
       "      <td>2</td>\n",
       "      <td>0.00</td>\n",
       "      <td>2</td>\n",
       "      <td>0.0</td>\n",
       "      <td>1.0</td>\n",
       "      <td>160976.75</td>\n",
       "      <td>1.0</td>\n",
       "      <td>0.0</td>\n",
       "      <td>0.0</td>\n",
       "      <td>1.0</td>\n",
       "      <td>0.0</td>\n",
       "    </tr>\n",
       "    <tr>\n",
       "      <th>1</th>\n",
       "      <td>165035</td>\n",
       "      <td>15782418</td>\n",
       "      <td>Nott</td>\n",
       "      <td>683</td>\n",
       "      <td>46.0</td>\n",
       "      <td>2</td>\n",
       "      <td>0.00</td>\n",
       "      <td>1</td>\n",
       "      <td>1.0</td>\n",
       "      <td>0.0</td>\n",
       "      <td>72549.27</td>\n",
       "      <td>1.0</td>\n",
       "      <td>0.0</td>\n",
       "      <td>0.0</td>\n",
       "      <td>1.0</td>\n",
       "      <td>0.0</td>\n",
       "    </tr>\n",
       "    <tr>\n",
       "      <th>2</th>\n",
       "      <td>165036</td>\n",
       "      <td>15807120</td>\n",
       "      <td>K?</td>\n",
       "      <td>656</td>\n",
       "      <td>34.0</td>\n",
       "      <td>7</td>\n",
       "      <td>0.00</td>\n",
       "      <td>2</td>\n",
       "      <td>1.0</td>\n",
       "      <td>0.0</td>\n",
       "      <td>138882.09</td>\n",
       "      <td>1.0</td>\n",
       "      <td>0.0</td>\n",
       "      <td>0.0</td>\n",
       "      <td>1.0</td>\n",
       "      <td>0.0</td>\n",
       "    </tr>\n",
       "    <tr>\n",
       "      <th>3</th>\n",
       "      <td>165037</td>\n",
       "      <td>15808905</td>\n",
       "      <td>O'Donnell</td>\n",
       "      <td>681</td>\n",
       "      <td>36.0</td>\n",
       "      <td>8</td>\n",
       "      <td>0.00</td>\n",
       "      <td>1</td>\n",
       "      <td>1.0</td>\n",
       "      <td>0.0</td>\n",
       "      <td>113931.57</td>\n",
       "      <td>1.0</td>\n",
       "      <td>0.0</td>\n",
       "      <td>0.0</td>\n",
       "      <td>0.0</td>\n",
       "      <td>1.0</td>\n",
       "    </tr>\n",
       "    <tr>\n",
       "      <th>4</th>\n",
       "      <td>165038</td>\n",
       "      <td>15607314</td>\n",
       "      <td>Higgins</td>\n",
       "      <td>752</td>\n",
       "      <td>38.0</td>\n",
       "      <td>10</td>\n",
       "      <td>121263.62</td>\n",
       "      <td>1</td>\n",
       "      <td>1.0</td>\n",
       "      <td>0.0</td>\n",
       "      <td>139431.00</td>\n",
       "      <td>0.0</td>\n",
       "      <td>1.0</td>\n",
       "      <td>0.0</td>\n",
       "      <td>0.0</td>\n",
       "      <td>1.0</td>\n",
       "    </tr>\n",
       "    <tr>\n",
       "      <th>...</th>\n",
       "      <td>...</td>\n",
       "      <td>...</td>\n",
       "      <td>...</td>\n",
       "      <td>...</td>\n",
       "      <td>...</td>\n",
       "      <td>...</td>\n",
       "      <td>...</td>\n",
       "      <td>...</td>\n",
       "      <td>...</td>\n",
       "      <td>...</td>\n",
       "      <td>...</td>\n",
       "      <td>...</td>\n",
       "      <td>...</td>\n",
       "      <td>...</td>\n",
       "      <td>...</td>\n",
       "      <td>...</td>\n",
       "    </tr>\n",
       "    <tr>\n",
       "      <th>110018</th>\n",
       "      <td>275052</td>\n",
       "      <td>15662091</td>\n",
       "      <td>P'eng</td>\n",
       "      <td>570</td>\n",
       "      <td>29.0</td>\n",
       "      <td>7</td>\n",
       "      <td>116099.82</td>\n",
       "      <td>1</td>\n",
       "      <td>1.0</td>\n",
       "      <td>1.0</td>\n",
       "      <td>148087.62</td>\n",
       "      <td>0.0</td>\n",
       "      <td>0.0</td>\n",
       "      <td>1.0</td>\n",
       "      <td>0.0</td>\n",
       "      <td>1.0</td>\n",
       "    </tr>\n",
       "    <tr>\n",
       "      <th>110019</th>\n",
       "      <td>275053</td>\n",
       "      <td>15774133</td>\n",
       "      <td>Cox</td>\n",
       "      <td>575</td>\n",
       "      <td>36.0</td>\n",
       "      <td>4</td>\n",
       "      <td>178032.53</td>\n",
       "      <td>1</td>\n",
       "      <td>1.0</td>\n",
       "      <td>1.0</td>\n",
       "      <td>42181.68</td>\n",
       "      <td>1.0</td>\n",
       "      <td>0.0</td>\n",
       "      <td>0.0</td>\n",
       "      <td>1.0</td>\n",
       "      <td>0.0</td>\n",
       "    </tr>\n",
       "    <tr>\n",
       "      <th>110020</th>\n",
       "      <td>275054</td>\n",
       "      <td>15728456</td>\n",
       "      <td>Ch'iu</td>\n",
       "      <td>712</td>\n",
       "      <td>31.0</td>\n",
       "      <td>2</td>\n",
       "      <td>0.00</td>\n",
       "      <td>2</td>\n",
       "      <td>1.0</td>\n",
       "      <td>0.0</td>\n",
       "      <td>16287.38</td>\n",
       "      <td>1.0</td>\n",
       "      <td>0.0</td>\n",
       "      <td>0.0</td>\n",
       "      <td>0.0</td>\n",
       "      <td>1.0</td>\n",
       "    </tr>\n",
       "    <tr>\n",
       "      <th>110021</th>\n",
       "      <td>275055</td>\n",
       "      <td>15687541</td>\n",
       "      <td>Yegorova</td>\n",
       "      <td>709</td>\n",
       "      <td>32.0</td>\n",
       "      <td>3</td>\n",
       "      <td>0.00</td>\n",
       "      <td>1</td>\n",
       "      <td>1.0</td>\n",
       "      <td>1.0</td>\n",
       "      <td>158816.58</td>\n",
       "      <td>1.0</td>\n",
       "      <td>0.0</td>\n",
       "      <td>0.0</td>\n",
       "      <td>1.0</td>\n",
       "      <td>0.0</td>\n",
       "    </tr>\n",
       "    <tr>\n",
       "      <th>110022</th>\n",
       "      <td>275056</td>\n",
       "      <td>15663942</td>\n",
       "      <td>Tuan</td>\n",
       "      <td>621</td>\n",
       "      <td>37.0</td>\n",
       "      <td>7</td>\n",
       "      <td>87848.39</td>\n",
       "      <td>1</td>\n",
       "      <td>1.0</td>\n",
       "      <td>0.0</td>\n",
       "      <td>24210.56</td>\n",
       "      <td>1.0</td>\n",
       "      <td>0.0</td>\n",
       "      <td>0.0</td>\n",
       "      <td>1.0</td>\n",
       "      <td>0.0</td>\n",
       "    </tr>\n",
       "  </tbody>\n",
       "</table>\n",
       "<p>110023 rows × 16 columns</p>\n",
       "</div>"
      ],
      "text/plain": [
       "            id  CustomerId    Surname  CreditScore   Age  Tenure    Balance  \\\n",
       "0       165034    15773898   Lucchese          586  23.0       2       0.00   \n",
       "1       165035    15782418       Nott          683  46.0       2       0.00   \n",
       "2       165036    15807120         K?          656  34.0       7       0.00   \n",
       "3       165037    15808905  O'Donnell          681  36.0       8       0.00   \n",
       "4       165038    15607314    Higgins          752  38.0      10  121263.62   \n",
       "...        ...         ...        ...          ...   ...     ...        ...   \n",
       "110018  275052    15662091      P'eng          570  29.0       7  116099.82   \n",
       "110019  275053    15774133        Cox          575  36.0       4  178032.53   \n",
       "110020  275054    15728456      Ch'iu          712  31.0       2       0.00   \n",
       "110021  275055    15687541   Yegorova          709  32.0       3       0.00   \n",
       "110022  275056    15663942       Tuan          621  37.0       7   87848.39   \n",
       "\n",
       "        NumOfProducts  HasCrCard  IsActiveMember  EstimatedSalary  \\\n",
       "0                   2        0.0             1.0        160976.75   \n",
       "1                   1        1.0             0.0         72549.27   \n",
       "2                   2        1.0             0.0        138882.09   \n",
       "3                   1        1.0             0.0        113931.57   \n",
       "4                   1        1.0             0.0        139431.00   \n",
       "...               ...        ...             ...              ...   \n",
       "110018              1        1.0             1.0        148087.62   \n",
       "110019              1        1.0             1.0         42181.68   \n",
       "110020              2        1.0             0.0         16287.38   \n",
       "110021              1        1.0             1.0        158816.58   \n",
       "110022              1        1.0             0.0         24210.56   \n",
       "\n",
       "        Geography_France  Geography_Germany  Geography_Spain  Gender_Female  \\\n",
       "0                    1.0                0.0              0.0            1.0   \n",
       "1                    1.0                0.0              0.0            1.0   \n",
       "2                    1.0                0.0              0.0            1.0   \n",
       "3                    1.0                0.0              0.0            0.0   \n",
       "4                    0.0                1.0              0.0            0.0   \n",
       "...                  ...                ...              ...            ...   \n",
       "110018               0.0                0.0              1.0            0.0   \n",
       "110019               1.0                0.0              0.0            1.0   \n",
       "110020               1.0                0.0              0.0            0.0   \n",
       "110021               1.0                0.0              0.0            1.0   \n",
       "110022               1.0                0.0              0.0            1.0   \n",
       "\n",
       "        Gender_Male  \n",
       "0               0.0  \n",
       "1               0.0  \n",
       "2               0.0  \n",
       "3               1.0  \n",
       "4               1.0  \n",
       "...             ...  \n",
       "110018          1.0  \n",
       "110019          0.0  \n",
       "110020          1.0  \n",
       "110021          0.0  \n",
       "110022          0.0  \n",
       "\n",
       "[110023 rows x 16 columns]"
      ]
     },
     "execution_count": 34,
     "metadata": {},
     "output_type": "execute_result"
    }
   ],
   "source": [
    "df_test_model = pd.concat([df_test.drop(columns = [\"Geography\", \"Gender\"]), df_test_ohe], axis=1)\n",
    "df_test_model"
   ]
  },
  {
   "cell_type": "markdown",
   "id": "785e0249",
   "metadata": {},
   "source": [
    "### 2.5. Dimensionality Reduction <a id=\"section_2_5\"></a>"
   ]
  },
  {
   "cell_type": "markdown",
   "id": "113a4c6e",
   "metadata": {},
   "source": [
    "**Dimensionality reduction** - reducing the number of features or variables in the dataset while preserving its essential information to simplify subsequent analysis."
   ]
  },
  {
   "cell_type": "markdown",
   "id": "bc7e97ac",
   "metadata": {},
   "source": [
    "Let's remove columns 'id', 'CustomerId' and 'Surname' as they do not provide any valuable information about the classes."
   ]
  },
  {
   "cell_type": "code",
   "execution_count": 35,
   "id": "b7a81ef7",
   "metadata": {},
   "outputs": [
    {
     "data": {
      "text/html": [
       "<div>\n",
       "<style scoped>\n",
       "    .dataframe tbody tr th:only-of-type {\n",
       "        vertical-align: middle;\n",
       "    }\n",
       "\n",
       "    .dataframe tbody tr th {\n",
       "        vertical-align: top;\n",
       "    }\n",
       "\n",
       "    .dataframe thead th {\n",
       "        text-align: right;\n",
       "    }\n",
       "</style>\n",
       "<table border=\"1\" class=\"dataframe\">\n",
       "  <thead>\n",
       "    <tr style=\"text-align: right;\">\n",
       "      <th></th>\n",
       "      <th>CreditScore</th>\n",
       "      <th>Age</th>\n",
       "      <th>Tenure</th>\n",
       "      <th>Balance</th>\n",
       "      <th>NumOfProducts</th>\n",
       "      <th>HasCrCard</th>\n",
       "      <th>IsActiveMember</th>\n",
       "      <th>EstimatedSalary</th>\n",
       "      <th>Exited</th>\n",
       "      <th>Geography_France</th>\n",
       "      <th>Geography_Germany</th>\n",
       "      <th>Geography_Spain</th>\n",
       "      <th>Gender_Female</th>\n",
       "      <th>Gender_Male</th>\n",
       "    </tr>\n",
       "  </thead>\n",
       "  <tbody>\n",
       "    <tr>\n",
       "      <th>0</th>\n",
       "      <td>668</td>\n",
       "      <td>33.0</td>\n",
       "      <td>3</td>\n",
       "      <td>0.00</td>\n",
       "      <td>2</td>\n",
       "      <td>1.0</td>\n",
       "      <td>0.0</td>\n",
       "      <td>181449.97</td>\n",
       "      <td>0</td>\n",
       "      <td>1.0</td>\n",
       "      <td>0.0</td>\n",
       "      <td>0.0</td>\n",
       "      <td>0.0</td>\n",
       "      <td>1.0</td>\n",
       "    </tr>\n",
       "    <tr>\n",
       "      <th>1</th>\n",
       "      <td>627</td>\n",
       "      <td>33.0</td>\n",
       "      <td>1</td>\n",
       "      <td>0.00</td>\n",
       "      <td>2</td>\n",
       "      <td>1.0</td>\n",
       "      <td>1.0</td>\n",
       "      <td>49503.50</td>\n",
       "      <td>0</td>\n",
       "      <td>1.0</td>\n",
       "      <td>0.0</td>\n",
       "      <td>0.0</td>\n",
       "      <td>0.0</td>\n",
       "      <td>1.0</td>\n",
       "    </tr>\n",
       "    <tr>\n",
       "      <th>2</th>\n",
       "      <td>678</td>\n",
       "      <td>40.0</td>\n",
       "      <td>10</td>\n",
       "      <td>0.00</td>\n",
       "      <td>2</td>\n",
       "      <td>1.0</td>\n",
       "      <td>0.0</td>\n",
       "      <td>184866.69</td>\n",
       "      <td>0</td>\n",
       "      <td>1.0</td>\n",
       "      <td>0.0</td>\n",
       "      <td>0.0</td>\n",
       "      <td>0.0</td>\n",
       "      <td>1.0</td>\n",
       "    </tr>\n",
       "    <tr>\n",
       "      <th>3</th>\n",
       "      <td>581</td>\n",
       "      <td>34.0</td>\n",
       "      <td>2</td>\n",
       "      <td>148882.54</td>\n",
       "      <td>1</td>\n",
       "      <td>1.0</td>\n",
       "      <td>1.0</td>\n",
       "      <td>84560.88</td>\n",
       "      <td>0</td>\n",
       "      <td>1.0</td>\n",
       "      <td>0.0</td>\n",
       "      <td>0.0</td>\n",
       "      <td>0.0</td>\n",
       "      <td>1.0</td>\n",
       "    </tr>\n",
       "    <tr>\n",
       "      <th>4</th>\n",
       "      <td>716</td>\n",
       "      <td>33.0</td>\n",
       "      <td>5</td>\n",
       "      <td>0.00</td>\n",
       "      <td>2</td>\n",
       "      <td>1.0</td>\n",
       "      <td>1.0</td>\n",
       "      <td>15068.83</td>\n",
       "      <td>0</td>\n",
       "      <td>0.0</td>\n",
       "      <td>0.0</td>\n",
       "      <td>1.0</td>\n",
       "      <td>0.0</td>\n",
       "      <td>1.0</td>\n",
       "    </tr>\n",
       "  </tbody>\n",
       "</table>\n",
       "</div>"
      ],
      "text/plain": [
       "   CreditScore   Age  Tenure    Balance  NumOfProducts  HasCrCard  \\\n",
       "0          668  33.0       3       0.00              2        1.0   \n",
       "1          627  33.0       1       0.00              2        1.0   \n",
       "2          678  40.0      10       0.00              2        1.0   \n",
       "3          581  34.0       2  148882.54              1        1.0   \n",
       "4          716  33.0       5       0.00              2        1.0   \n",
       "\n",
       "   IsActiveMember  EstimatedSalary  Exited  Geography_France  \\\n",
       "0             0.0        181449.97       0               1.0   \n",
       "1             1.0         49503.50       0               1.0   \n",
       "2             0.0        184866.69       0               1.0   \n",
       "3             1.0         84560.88       0               1.0   \n",
       "4             1.0         15068.83       0               0.0   \n",
       "\n",
       "   Geography_Germany  Geography_Spain  Gender_Female  Gender_Male  \n",
       "0                0.0              0.0            0.0          1.0  \n",
       "1                0.0              0.0            0.0          1.0  \n",
       "2                0.0              0.0            0.0          1.0  \n",
       "3                0.0              0.0            0.0          1.0  \n",
       "4                0.0              1.0            0.0          1.0  "
      ]
     },
     "execution_count": 35,
     "metadata": {},
     "output_type": "execute_result"
    }
   ],
   "source": [
    "df_train_model = df_train_model.drop([\"id\", \"CustomerId\", \"Surname\"], axis=1)\n",
    "df_train_model.head()"
   ]
  },
  {
   "cell_type": "code",
   "execution_count": 36,
   "id": "5c04dccf",
   "metadata": {},
   "outputs": [
    {
     "data": {
      "text/html": [
       "<div>\n",
       "<style scoped>\n",
       "    .dataframe tbody tr th:only-of-type {\n",
       "        vertical-align: middle;\n",
       "    }\n",
       "\n",
       "    .dataframe tbody tr th {\n",
       "        vertical-align: top;\n",
       "    }\n",
       "\n",
       "    .dataframe thead th {\n",
       "        text-align: right;\n",
       "    }\n",
       "</style>\n",
       "<table border=\"1\" class=\"dataframe\">\n",
       "  <thead>\n",
       "    <tr style=\"text-align: right;\">\n",
       "      <th></th>\n",
       "      <th>CreditScore</th>\n",
       "      <th>Age</th>\n",
       "      <th>Tenure</th>\n",
       "      <th>Balance</th>\n",
       "      <th>NumOfProducts</th>\n",
       "      <th>HasCrCard</th>\n",
       "      <th>IsActiveMember</th>\n",
       "      <th>EstimatedSalary</th>\n",
       "      <th>Geography_France</th>\n",
       "      <th>Geography_Germany</th>\n",
       "      <th>Geography_Spain</th>\n",
       "      <th>Gender_Female</th>\n",
       "      <th>Gender_Male</th>\n",
       "    </tr>\n",
       "  </thead>\n",
       "  <tbody>\n",
       "    <tr>\n",
       "      <th>0</th>\n",
       "      <td>586</td>\n",
       "      <td>23.0</td>\n",
       "      <td>2</td>\n",
       "      <td>0.00</td>\n",
       "      <td>2</td>\n",
       "      <td>0.0</td>\n",
       "      <td>1.0</td>\n",
       "      <td>160976.75</td>\n",
       "      <td>1.0</td>\n",
       "      <td>0.0</td>\n",
       "      <td>0.0</td>\n",
       "      <td>1.0</td>\n",
       "      <td>0.0</td>\n",
       "    </tr>\n",
       "    <tr>\n",
       "      <th>1</th>\n",
       "      <td>683</td>\n",
       "      <td>46.0</td>\n",
       "      <td>2</td>\n",
       "      <td>0.00</td>\n",
       "      <td>1</td>\n",
       "      <td>1.0</td>\n",
       "      <td>0.0</td>\n",
       "      <td>72549.27</td>\n",
       "      <td>1.0</td>\n",
       "      <td>0.0</td>\n",
       "      <td>0.0</td>\n",
       "      <td>1.0</td>\n",
       "      <td>0.0</td>\n",
       "    </tr>\n",
       "    <tr>\n",
       "      <th>2</th>\n",
       "      <td>656</td>\n",
       "      <td>34.0</td>\n",
       "      <td>7</td>\n",
       "      <td>0.00</td>\n",
       "      <td>2</td>\n",
       "      <td>1.0</td>\n",
       "      <td>0.0</td>\n",
       "      <td>138882.09</td>\n",
       "      <td>1.0</td>\n",
       "      <td>0.0</td>\n",
       "      <td>0.0</td>\n",
       "      <td>1.0</td>\n",
       "      <td>0.0</td>\n",
       "    </tr>\n",
       "    <tr>\n",
       "      <th>3</th>\n",
       "      <td>681</td>\n",
       "      <td>36.0</td>\n",
       "      <td>8</td>\n",
       "      <td>0.00</td>\n",
       "      <td>1</td>\n",
       "      <td>1.0</td>\n",
       "      <td>0.0</td>\n",
       "      <td>113931.57</td>\n",
       "      <td>1.0</td>\n",
       "      <td>0.0</td>\n",
       "      <td>0.0</td>\n",
       "      <td>0.0</td>\n",
       "      <td>1.0</td>\n",
       "    </tr>\n",
       "    <tr>\n",
       "      <th>4</th>\n",
       "      <td>752</td>\n",
       "      <td>38.0</td>\n",
       "      <td>10</td>\n",
       "      <td>121263.62</td>\n",
       "      <td>1</td>\n",
       "      <td>1.0</td>\n",
       "      <td>0.0</td>\n",
       "      <td>139431.00</td>\n",
       "      <td>0.0</td>\n",
       "      <td>1.0</td>\n",
       "      <td>0.0</td>\n",
       "      <td>0.0</td>\n",
       "      <td>1.0</td>\n",
       "    </tr>\n",
       "  </tbody>\n",
       "</table>\n",
       "</div>"
      ],
      "text/plain": [
       "   CreditScore   Age  Tenure    Balance  NumOfProducts  HasCrCard  \\\n",
       "0          586  23.0       2       0.00              2        0.0   \n",
       "1          683  46.0       2       0.00              1        1.0   \n",
       "2          656  34.0       7       0.00              2        1.0   \n",
       "3          681  36.0       8       0.00              1        1.0   \n",
       "4          752  38.0      10  121263.62              1        1.0   \n",
       "\n",
       "   IsActiveMember  EstimatedSalary  Geography_France  Geography_Germany  \\\n",
       "0             1.0        160976.75               1.0                0.0   \n",
       "1             0.0         72549.27               1.0                0.0   \n",
       "2             0.0        138882.09               1.0                0.0   \n",
       "3             0.0        113931.57               1.0                0.0   \n",
       "4             0.0        139431.00               0.0                1.0   \n",
       "\n",
       "   Geography_Spain  Gender_Female  Gender_Male  \n",
       "0              0.0            1.0          0.0  \n",
       "1              0.0            1.0          0.0  \n",
       "2              0.0            1.0          0.0  \n",
       "3              0.0            0.0          1.0  \n",
       "4              0.0            0.0          1.0  "
      ]
     },
     "execution_count": 36,
     "metadata": {},
     "output_type": "execute_result"
    }
   ],
   "source": [
    "df_test_model = df_test_model.drop([\"id\", \"CustomerId\", \"Surname\"], axis=1)\n",
    "df_test_model.head()"
   ]
  },
  {
   "cell_type": "markdown",
   "id": "8099570f",
   "metadata": {},
   "source": [
    "## 3. Modeling - XGBoost <a id=\"chapter3\"></a>"
   ]
  },
  {
   "cell_type": "markdown",
   "id": "8e94807e",
   "metadata": {},
   "source": [
    "**XGBoost (eXtreme Gradient Boosting)** is a powerful and efficient machine learning algorithm designed for speed and performance. It’s widely used in competitions and real-world applications due to its robustness and flexibility. Here’s a simple overview of XGBoost and how it works:\n",
    "\n",
    "#### Key Features of XGBoost\n",
    "\n",
    "1. **Gradient Boosting Framework**:\n",
    "    - XGBoost is built on the gradient boosting framework. This means it builds models one after another, with each new model fixing errors made by the previous ones.\n",
    "<br><br>\n",
    "2. **Regularization**:\n",
    "    - XGBoost uses L1 (lasso) and L2 (ridge) regularization to prevent overfitting, a common problem in machine learning. Regularization helps the model perform well on new, unseen data.\n",
    "<br><br>\n",
    "3. **Parallel Processing**:\n",
    "    - XGBoost supports parallel processing, which allows it to train models faster by using multiple CPU cores at once. This is especially useful for large datasets.\n",
    "<br><br>\n",
    "4. **Tree Pruning**:\n",
    "    - XGBoost uses advanced tree pruning techniques to stop growing trees when further splits don’t improve the model significantly. This helps prevent overfitting.\n",
    "<br><br>\n",
    "5. **Handling Missing Data**:\n",
    "    - XGBoost can handle missing data without needing to fill in the missing values. This allows the model to learn patterns even when some data is missing.\n",
    "<br><br>    \n",
    "6. **Support for Custom Objective Functions**:\n",
    "    - Users can define their own objective functions and evaluation metrics, making XGBoost flexible for different types of prediction problems.\n",
    "<br><br>\n",
    "7. **Efficient Memory Usage**:\n",
    "    - XGBoost is optimized to use memory efficiently, making it suitable for training on large datasets without needing a lot of computational resources.\n",
    "\n",
    "#### How XGBoost Works\n",
    "\n",
    "1. **Initialization**:\n",
    "    - The process starts with a simple model, like a single node predicting the mean of the target variable for regression or the most common class for classification.\n",
    "<br><br>\n",
    "2. **Additive Training**:\n",
    "    - In each iteration, a new tree is added to the existing set of trees.\n",
    "    - This new tree is trained to correct the errors (residuals) of the current model.\n",
    "    - The predictions from the new tree are added to the existing predictions to improve the overall model.\n",
    "<br><br>\n",
    "3. **Optimization**:\n",
    "    - XGBoost uses gradient descent to optimize the loss function, which measures how well the model is doing.\n",
    "    - In each iteration, it calculates the gradient (the direction and amount of change needed) and updates the model accordingly.\n",
    "    - It includes a learning rate (eta) to control the size of updates, balancing speed and accuracy.\n",
    "<br><br>\n",
    "4. **Regularization and Pruning**:\n",
    "    - Regularization terms are added to the loss function to penalize overly complex models, helping to prevent overfitting.\n",
    "    - Tree pruning techniques remove branches that don’t significantly improve the model, reducing complexity and improving generalization.\n",
    "\n",
    "#### Summary\n",
    "\n",
    "XGBoost is a highly effective and efficient machine learning algorithm. By building models step-by-step and focusing on correcting errors, it creates powerful predictive models. Its features like regularization, parallel processing, and advanced tree pruning make it suitable for a wide range of tasks, handling large datasets and missing data effectively."
   ]
  },
  {
   "cell_type": "markdown",
   "id": "2668865c",
   "metadata": {},
   "source": [
    "### 3.1. Basic modeling <a id=\"section_3_1\"></a>"
   ]
  },
  {
   "cell_type": "code",
   "execution_count": 37,
   "id": "4550ff53",
   "metadata": {
    "scrolled": true
   },
   "outputs": [
    {
     "data": {
      "text/plain": [
       "((99020, 13), (99020,), (66014, 13), (66014,), (110023, 13))"
      ]
     },
     "execution_count": 37,
     "metadata": {},
     "output_type": "execute_result"
    }
   ],
   "source": [
    "X = df_train_model.drop(\"Exited\", axis = 1)\n",
    "y = df_train_model[\"Exited\"]\n",
    "X_test = df_test_model\n",
    "\n",
    "X_train, X_val, y_train, y_val = train_test_split(X, y, test_size=0.4, random_state=42, stratify=y)\n",
    "X_train.shape, y_train.shape, X_val.shape, y_val.shape, X_test.shape"
   ]
  },
  {
   "cell_type": "markdown",
   "id": "541afcf0",
   "metadata": {},
   "source": [
    "#### 3.1.1. Balancing classes <a id=\"sub_section_3_1_1\"></a> "
   ]
  },
  {
   "cell_type": "markdown",
   "id": "05359665",
   "metadata": {},
   "source": [
    "It's important thing to mention that both of the classes in our data are highly imbalanced. Almost 80% of our data is from class 0 (not exited) and 20% data is from class 1 (exited)."
   ]
  },
  {
   "cell_type": "code",
   "execution_count": 38,
   "id": "770a18bf",
   "metadata": {},
   "outputs": [
    {
     "data": {
      "text/plain": [
       "Exited\n",
       "0    78067\n",
       "1    20953\n",
       "Name: count, dtype: int64"
      ]
     },
     "execution_count": 38,
     "metadata": {},
     "output_type": "execute_result"
    }
   ],
   "source": [
    "y_train.value_counts()"
   ]
  },
  {
   "cell_type": "markdown",
   "id": "570782aa",
   "metadata": {},
   "source": [
    "The class_weight.compute_class_weight function from sklearn.utils.class_weight is used to calculate class weights for imbalanced datasets.\n",
    "1. The function calculates the number of occurrences of each class in the y_train array.\n",
    "2. Weight Calculation - ensures that classes with fewer samples get higher weights and classes with more samples get lower weights."
   ]
  },
  {
   "cell_type": "code",
   "execution_count": 39,
   "id": "beaf1873",
   "metadata": {},
   "outputs": [],
   "source": [
    "class_weights = class_weight.compute_class_weight('balanced', classes=np.unique(y_train), y=y_train)"
   ]
  },
  {
   "cell_type": "markdown",
   "id": "bd3d3b95",
   "metadata": {},
   "source": [
    "Parameters:\n",
    "- 'balanced': This strategy calculates the weights inversely proportional to class frequencies in the input data. The goal is to balance the class distribution by assigning a higher weight to the minority class and a lower weight to the majority class.\n",
    "- classes = np.unique(y_train): This ensures that the function computes weights for all unique classes present in the training data (y_train).\n",
    "- y = y_train: This is the target array for which the class weights need to be computed."
   ]
  },
  {
   "cell_type": "code",
   "execution_count": 40,
   "id": "73e60e10",
   "metadata": {},
   "outputs": [
    {
     "name": "stdout",
     "output_type": "stream",
     "text": [
      "Class Weights: [0.63419883 2.36290746]\n"
     ]
    }
   ],
   "source": [
    "print(f\"Class Weights: {class_weights}\")"
   ]
  },
  {
   "cell_type": "markdown",
   "id": "fe732a94",
   "metadata": {},
   "source": [
    "- Weight for class 0: 0.63\n",
    "- Weight for class 1: 2.36"
   ]
  },
  {
   "cell_type": "markdown",
   "id": "6dfb5dd9",
   "metadata": {},
   "source": [
    "#### 3.1.2. Basic XGBoost classifier without balanced class weights <a id=\"sub_section_3_1_2\"></a> "
   ]
  },
  {
   "cell_type": "code",
   "execution_count": 42,
   "id": "9a3ae850",
   "metadata": {},
   "outputs": [
    {
     "name": "stdout",
     "output_type": "stream",
     "text": [
      "[0]\tvalidation_0-auc:0.87948\n",
      "[1]\tvalidation_0-auc:0.88265\n",
      "[2]\tvalidation_0-auc:0.88395\n",
      "[3]\tvalidation_0-auc:0.88494\n",
      "[4]\tvalidation_0-auc:0.88553\n",
      "[5]\tvalidation_0-auc:0.88574\n"
     ]
    },
    {
     "name": "stderr",
     "output_type": "stream",
     "text": [
      "C:\\Users\\szatk\\anaconda3\\Lib\\site-packages\\xgboost\\sklearn.py:889: UserWarning: `eval_metric` in `fit` method is deprecated for better compatibility with scikit-learn, use `eval_metric` in constructor or`set_params` instead.\n",
      "  warnings.warn(\n",
      "C:\\Users\\szatk\\anaconda3\\Lib\\site-packages\\xgboost\\sklearn.py:889: UserWarning: `early_stopping_rounds` in `fit` method is deprecated for better compatibility with scikit-learn, use `early_stopping_rounds` in constructor or`set_params` instead.\n",
      "  warnings.warn(\n"
     ]
    },
    {
     "name": "stdout",
     "output_type": "stream",
     "text": [
      "[6]\tvalidation_0-auc:0.88620\n",
      "[7]\tvalidation_0-auc:0.88640\n",
      "[8]\tvalidation_0-auc:0.88643\n",
      "[9]\tvalidation_0-auc:0.88681\n",
      "[10]\tvalidation_0-auc:0.88693\n",
      "[11]\tvalidation_0-auc:0.88698\n",
      "[12]\tvalidation_0-auc:0.88715\n",
      "[13]\tvalidation_0-auc:0.88713\n",
      "[14]\tvalidation_0-auc:0.88705\n",
      "[15]\tvalidation_0-auc:0.88719\n",
      "[16]\tvalidation_0-auc:0.88722\n",
      "[17]\tvalidation_0-auc:0.88713\n",
      "[18]\tvalidation_0-auc:0.88718\n",
      "[19]\tvalidation_0-auc:0.88714\n",
      "[20]\tvalidation_0-auc:0.88720\n",
      "[21]\tvalidation_0-auc:0.88716\n",
      "[22]\tvalidation_0-auc:0.88719\n",
      "[23]\tvalidation_0-auc:0.88720\n",
      "[24]\tvalidation_0-auc:0.88717\n",
      "[25]\tvalidation_0-auc:0.88723\n",
      "[26]\tvalidation_0-auc:0.88724\n",
      "[27]\tvalidation_0-auc:0.88727\n",
      "[28]\tvalidation_0-auc:0.88721\n",
      "[29]\tvalidation_0-auc:0.88709\n",
      "[30]\tvalidation_0-auc:0.88709\n",
      "[31]\tvalidation_0-auc:0.88714\n",
      "[32]\tvalidation_0-auc:0.88713\n",
      "[33]\tvalidation_0-auc:0.88716\n",
      "[34]\tvalidation_0-auc:0.88712\n",
      "[35]\tvalidation_0-auc:0.88707\n",
      "[36]\tvalidation_0-auc:0.88700\n",
      "              precision    recall  f1-score   support\n",
      "\n",
      "           0       0.89      0.95      0.92     52046\n",
      "           1       0.74      0.55      0.63     13968\n",
      "\n",
      "    accuracy                           0.87     66014\n",
      "   macro avg       0.82      0.75      0.78     66014\n",
      "weighted avg       0.86      0.87      0.86     66014\n",
      "\n",
      "Accuracy: 0.87\n"
     ]
    }
   ],
   "source": [
    "model_unbalanced = XGBClassifier(objective='binary:logistic', random_state=42)\n",
    "\n",
    "model_unbalanced.fit(X_train, \n",
    "        y_train,\n",
    "        verbose=True,\n",
    "        early_stopping_rounds=10,\n",
    "        eval_metric='auc',\n",
    "        eval_set=[(X_val, y_val)])\n",
    "\n",
    "y_pred_unbalanced = model_unbalanced.predict(X_val)\n",
    "\n",
    "accuracy = accuracy_score(y_val, y_pred_unbalanced)\n",
    "\n",
    "print(classification_report(y_val, y_pred_unbalanced))\n",
    "print(f\"Accuracy: {accuracy:.2f}\")"
   ]
  },
  {
   "cell_type": "markdown",
   "id": "aed9295d",
   "metadata": {},
   "source": [
    "Confusion matrix:"
   ]
  },
  {
   "cell_type": "code",
   "execution_count": 43,
   "id": "64624733",
   "metadata": {},
   "outputs": [
    {
     "data": {
      "image/png": "[encoded data removed]",
      "text/plain": [
       "<Figure size 640x480 with 2 Axes>"
      ]
     },
     "metadata": {},
     "output_type": "display_data"
    }
   ],
   "source": [
    "conf_matrix = confusion_matrix(y_val, y_pred_unbalanced)\n",
    "\n",
    "disp = ConfusionMatrixDisplay(confusion_matrix=conf_matrix, display_labels=['Remain', 'Churn'])\n",
    "disp.plot()\n",
    "plt.show()"
   ]
  },
  {
   "cell_type": "markdown",
   "id": "cbdf1bf1",
   "metadata": {},
   "source": [
    "Main observations from confusion matrix:\n",
    "- accuracy in the model shows 87% which is quite good result,\n",
    "- 49411 clients out of 52046 (95%) who remain with the bank were correctly classified (exited=0),\n",
    "- 7697 client out of 13968 (55%) who left the bank were correctly classified which is very poor result (exited=1)\n",
    "- if we are focusing in our model on customers we are able to keep percent of recall (95%) gives us high percent of fit"
   ]
  },
  {
   "cell_type": "markdown",
   "id": "f242c1a3",
   "metadata": {},
   "source": [
    "#### 3.1.3. Basic XGBoost classifier with balanced class weights <a id=\"sub_section_3_1_3\"></a> "
   ]
  },
  {
   "cell_type": "code",
   "execution_count": 45,
   "id": "e037404a",
   "metadata": {
    "scrolled": false
   },
   "outputs": [
    {
     "name": "stdout",
     "output_type": "stream",
     "text": [
      "[0]\tvalidation_0-auc:0.87977\n",
      "[1]\tvalidation_0-auc:0.88236\n",
      "[2]\tvalidation_0-auc:0.88442\n",
      "[3]\tvalidation_0-auc:0.88472\n",
      "[4]\tvalidation_0-auc:0.88561\n"
     ]
    },
    {
     "name": "stderr",
     "output_type": "stream",
     "text": [
      "C:\\Users\\szatk\\anaconda3\\Lib\\site-packages\\xgboost\\sklearn.py:889: UserWarning: `eval_metric` in `fit` method is deprecated for better compatibility with scikit-learn, use `eval_metric` in constructor or`set_params` instead.\n",
      "  warnings.warn(\n",
      "C:\\Users\\szatk\\anaconda3\\Lib\\site-packages\\xgboost\\sklearn.py:889: UserWarning: `early_stopping_rounds` in `fit` method is deprecated for better compatibility with scikit-learn, use `early_stopping_rounds` in constructor or`set_params` instead.\n",
      "  warnings.warn(\n"
     ]
    },
    {
     "name": "stdout",
     "output_type": "stream",
     "text": [
      "[5]\tvalidation_0-auc:0.88602\n",
      "[6]\tvalidation_0-auc:0.88644\n",
      "[7]\tvalidation_0-auc:0.88668\n",
      "[8]\tvalidation_0-auc:0.88676\n",
      "[9]\tvalidation_0-auc:0.88682\n",
      "[10]\tvalidation_0-auc:0.88686\n",
      "[11]\tvalidation_0-auc:0.88702\n",
      "[12]\tvalidation_0-auc:0.88722\n",
      "[13]\tvalidation_0-auc:0.88733\n",
      "[14]\tvalidation_0-auc:0.88749\n",
      "[15]\tvalidation_0-auc:0.88752\n",
      "[16]\tvalidation_0-auc:0.88746\n",
      "[17]\tvalidation_0-auc:0.88747\n",
      "[18]\tvalidation_0-auc:0.88751\n",
      "[19]\tvalidation_0-auc:0.88759\n",
      "[20]\tvalidation_0-auc:0.88766\n",
      "[21]\tvalidation_0-auc:0.88750\n",
      "[22]\tvalidation_0-auc:0.88750\n",
      "[23]\tvalidation_0-auc:0.88745\n",
      "[24]\tvalidation_0-auc:0.88741\n",
      "[25]\tvalidation_0-auc:0.88742\n",
      "[26]\tvalidation_0-auc:0.88746\n",
      "[27]\tvalidation_0-auc:0.88748\n",
      "[28]\tvalidation_0-auc:0.88748\n",
      "[29]\tvalidation_0-auc:0.88749\n",
      "              precision    recall  f1-score   support\n",
      "\n",
      "           0       0.93      0.83      0.88     52046\n",
      "           1       0.55      0.79      0.64     13968\n",
      "\n",
      "    accuracy                           0.82     66014\n",
      "   macro avg       0.74      0.81      0.76     66014\n",
      "weighted avg       0.85      0.82      0.83     66014\n",
      "\n",
      "Accuracy: 0.82\n"
     ]
    }
   ],
   "source": [
    "model_balanced = XGBClassifier(objective='binary:logistic', random_state=42)\n",
    "\n",
    "model_balanced.fit(X_train,\n",
    "        y_train,\n",
    "        sample_weight=class_weights[y_train],\n",
    "        verbose=True,\n",
    "        early_stopping_rounds=10,\n",
    "        eval_metric='auc',\n",
    "        eval_set=[(X_val, y_val)])\n",
    "\n",
    "y_pred_balanced = model_balanced.predict(X_val)\n",
    "\n",
    "accuracy = accuracy_score(y_val, y_pred_balanced)\n",
    "\n",
    "print(classification_report(y_val, y_pred_balanced))\n",
    "\n",
    "print(f\"Accuracy: {accuracy:.2f}\")"
   ]
  },
  {
   "cell_type": "markdown",
   "id": "84380e61",
   "metadata": {},
   "source": [
    "Confusion matrix:"
   ]
  },
  {
   "cell_type": "code",
   "execution_count": 46,
   "id": "a895816c",
   "metadata": {},
   "outputs": [
    {
     "data": {
      "image/png": "[encoded data removed]",
      "text/plain": [
       "<Figure size 640x480 with 2 Axes>"
      ]
     },
     "metadata": {},
     "output_type": "display_data"
    }
   ],
   "source": [
    "conf_matrix = confusion_matrix(y_val, y_pred_balanced)\n",
    "\n",
    "disp = ConfusionMatrixDisplay(confusion_matrix=conf_matrix, display_labels=['Remain', 'Churn'])\n",
    "disp.plot()\n",
    "plt.show()"
   ]
  },
  {
   "cell_type": "markdown",
   "id": "acfcd6dc",
   "metadata": {},
   "source": [
    "Main observations from confusion matrix:\n",
    "- accuracy in the model decreased to 82% comparing to not balanced model,\n",
    "- 42941 clients out of 52046 (82.5%) who remain with the bank were correctly classified (exited=0),\n",
    "- 10982 client out of 13968 (79%) who left the bank were correctly classified which is very poor result (exited=1),\n",
    "- in this case class 1 is much more balanced (79%) so if we are focused on the churn customers it is better to choose this version of model, however if we are focusing on customers who can stay first model is better (95% > 82.5%)"
   ]
  },
  {
   "cell_type": "markdown",
   "id": "56ed2db3",
   "metadata": {},
   "source": [
    "### 3.2. Hyperparameters, GridSearch and Cross-Validation modeling <a id=\"section_3_2\"></a>"
   ]
  },
  {
   "cell_type": "markdown",
   "id": "5fae7263",
   "metadata": {},
   "source": [
    "#### 3.2.1. Hyperparameters <a id=\"sub_section_3_2_1\"></a>"
   ]
  },
  {
   "cell_type": "markdown",
   "id": "844b9433",
   "metadata": {},
   "source": [
    "Let's take unbalanced model as a base.\n",
    "In XGBoost Hyperparameter scale_pos_weight helps to deal with the imbalanced data."
   ]
  },
  {
   "cell_type": "markdown",
   "id": "a81eaf57",
   "metadata": {},
   "source": [
    "**Booster Parameters in XGBoost used in our model** - these parameters control the training algorithm itself, such as the type of booster (gbtree or gblinear), maximum tree depth (max_depth), learning rate (learning_rate or eta), etc., they directly affect the construction and updating of the model during training:\n",
    "- **n_estimators**:\n",
    "    - specifies the number of boosting rounds or the number of trees to be built,\n",
    "    - it's one of the key parameters in XGBoost and plays a crucial role in determining the performance and complexity of the model,\n",
    "    - it significantly impacts model performance, complexity, and training time,\n",
    "    - finding the right balance for n_estimators is crucial and often involves tuning with cross-validation,\n",
    "<br>  \n",
    "<br>    \n",
    "- **eta (learning_rate)** [default=0.3]:\n",
    "    - it is the step size shrinkage used in update to prevent overfitting, \n",
    "    - after each boosting step, we can directly get the weights of new features, and eta shrinks the feature weights to make the boosting process more conservative (High Threshold for Positive Predictions, Low False Positive Rate (FPR), Higher False Negative Rate (FNR), High Precision, Lower Recall),\n",
    "    - it makes the model more robust by shrinking the weights on each step,\n",
    "    - range: [0, 1],\n",
    "    - typical final values : 0.01-0.2,\n",
    "<br>  \n",
    "<br>\n",
    "- **gamma (min_split_loss)** [default=0]:\n",
    "    - gamma specifies the minimum loss reduction required to make a split,\n",
    "    - it makes the algorithm conservative, the values can vary depending on the loss function and should be tuned,\n",
    "    - the larger gamma is, the more conservative the algorithm will be,\n",
    "<br>  \n",
    "<br>\n",
    "- **max_depth** [default=6]: \n",
    "    - the maximum depth of a tree,\n",
    "    - increasing the value will make the model more complex and more likely to overfit,\n",
    "    - we should be careful when setting large value of max_depth because XGBoost aggressively consumes memory when training a deep tree,\n",
    "<br>  \n",
    "<br>\n",
    "- **lambda (reg_lambda)** [default=1]:\n",
    "    - L2 regularization term on weights,\n",
    "    - this is used to handle the regularization part of XGBoost,\n",
    "    - increasing this value will make model more conservative,\n",
    "<br>  \n",
    "<br>\n",
    "- **scale_pos_weight** [default=1]: \n",
    "    - it controls the balance of positive and negative weights, \n",
    "    - **helps to deal with the imbalanced data**, \n",
    "    - value greater than 0 should be used in case of high class imbalance as it helps in faster convergence,\n",
    "    - typical value to consider: sum(negative instances) / sum(positive instances)\n",
    "<br>  \n",
    "<br> \n",
    "\n",
    "**Learning Task Parameters in XGBoost** - these parameters control the overall behavior of the training process, such as the evaluation metrics, stopping criteria, and other high-level training configurations, They manage how the training process should be executed rather than the specifics of how each model (booster) should be built:\n",
    "- **objective**: it defines the loss function to be minimized\n",
    "    - *binary:logistic* : logistic regression for binary classification, output probability (most popular),\n",
    "<br>  \n",
    "<br>     \n",
    "- **early_stopping_rounds**:\n",
    "    - used to stop the training process early if the performance on a validation set does not improve for a specified number of rounds,\n",
    "<br>  \n",
    "<br> \n",
    "- **eval_metric**: \n",
    "    - the metric to be used for validation data,\n",
    "    - the default values are *rmse for regression*, *error for classification* and *mean average precision for ranking*,\n",
    "    - we can add multiple evaluation metrics"
   ]
  },
  {
   "cell_type": "code",
   "execution_count": 47,
   "id": "5a13a5d2",
   "metadata": {},
   "outputs": [],
   "source": [
    "fixed_params = {\n",
    "    'objective': 'binary:logistic',\n",
    "    'early_stopping_rounds': 20,\n",
    "    'eval_metric': 'auc'\n",
    "}\n",
    "\n",
    "grid_params = {\n",
    "    'n_estimators': [160, 170, 180],\n",
    "    'max_depth': [3, 4, 5],\n",
    "    'learning_rate': [0, 0.1, 0.2],\n",
    "    'gamma': [0.1, 0.2, 0.3],\n",
    "    'reg_lambda': [10, 15, 20],\n",
    "    'scale_pos_weight': [0, 1, 2]\n",
    "}"
   ]
  },
  {
   "cell_type": "code",
   "execution_count": 48,
   "id": "a98cdf3f",
   "metadata": {
    "scrolled": true
   },
   "outputs": [],
   "source": [
    "model = XGBClassifier(**fixed_params, use_label_encoder=False, random_state=42)"
   ]
  },
  {
   "cell_type": "markdown",
   "id": "98063bcc",
   "metadata": {},
   "source": [
    "#### 3.2.2. Grid Search cross-validation<a id=\"sub_section_3_2_2\"></a>"
   ]
  },
  {
   "cell_type": "markdown",
   "id": "7d371ca2",
   "metadata": {},
   "source": [
    "**GridSearchCV** is a tool provided by the scikit-learn library in Python for performing hyperparameter tuning. It systematically works through multiple combinations of parameter values, cross-validates each combination, and selects the set of parameters that gives the best performance.\n",
    "- **Systematic Search**: \n",
    "    - GridSearchCV exhaustively searches over a specified parameter grid to find the optimal hyperparameters for a given model.\n",
    "<br>  \n",
    "<br> \n",
    "- **Cross-Validation**:\n",
    "    - For each combination of hyperparameters, GridSearchCV performs k-fold cross-validation to evaluate the model's performance. This helps ensure that the model's performance is not overly dependent on the specific train-test split.\n",
    "<br>  \n",
    "<br> \n",
    "- **Performance Metric**: \n",
    "    - The performance of each combination of hyperparameters is evaluated using a specified scoring metric, such as accuracy, precision, recall, F1 score, or ROC-AUC."
   ]
  },
  {
   "cell_type": "markdown",
   "id": "a61616ec",
   "metadata": {},
   "source": [
    "Main parameters in the GridSearch:\n",
    "\n",
    "- The **scoring** parameter determines the metric used to evaluate the performance of the model during the grid search.\n",
    "- The **cv** parameter determines the cross-validation splitting strategy used during the grid search.\n",
    "- The **verbose** parameter controls the level of verbosity (i.e., the amount of information displayed) during the grid search:\n",
    "    - A higher number indicates more detailed output. For example:\n",
    "    - verbose=0: No output (silent mode).\n",
    "    - verbose=1: Display a limited amount of information, such as the progress of the grid search (e.g., which parameter combination is currently being evaluated).\n",
    "    - verbose=2 or higher: More detailed information, including the score of each fold and combination.\n",
    "- The **'n_jobs'** parameter is to control the parallelism of the grid search, allowing multiple computations to be performed simultaneously. n_jobs can be set to various values to control the level of parallelism:\n",
    "    - n_jobs=None or n_jobs=1: The computation is run on a single CPU core (no parallelism).\n",
    "    - n_jobs=-1: The computation is run on all available CPU cores, maximizing parallelism and potentially speeding up the grid search significantly.\n",
    "    - n_jobs=n: Where n is an integer greater than 1, specifying the number of CPU cores to use.\n",
    "\n",
    "We're defining GridSearchCV object:"
   ]
  },
  {
   "cell_type": "code",
   "execution_count": 49,
   "id": "7ffb5816",
   "metadata": {},
   "outputs": [],
   "source": [
    "grid_search = GridSearchCV(\n",
    "    estimator = model,\n",
    "    param_grid = grid_params,\n",
    "    scoring = 'roc_auc',\n",
    "    cv = 5,\n",
    "    verbose = 1,\n",
    "    n_jobs=-1\n",
    ")"
   ]
  },
  {
   "cell_type": "markdown",
   "id": "cd0b3017",
   "metadata": {},
   "source": [
    "and fitting the model"
   ]
  },
  {
   "cell_type": "code",
   "execution_count": 51,
   "id": "8dd5832a",
   "metadata": {},
   "outputs": [
    {
     "name": "stdout",
     "output_type": "stream",
     "text": [
      "Fitting 5 folds for each of 729 candidates, totalling 3645 fits\n"
     ]
    },
    {
     "data": {
      "text/html": [
       "<style>#sk-container-id-2 {color: black;}#sk-container-id-2 pre{padding: 0;}#sk-container-id-2 div.sk-toggleable {background-color: white;}#sk-container-id-2 label.sk-toggleable__label {cursor: pointer;display: block;width: 100%;margin-bottom: 0;padding: 0.3em;box-sizing: border-box;text-align: center;}#sk-container-id-2 label.sk-toggleable__label-arrow:before {content: \"▸\";float: left;margin-right: 0.25em;color: #696969;}#sk-container-id-2 label.sk-toggleable__label-arrow:hover:before {color: black;}#sk-container-id-2 div.sk-estimator:hover label.sk-toggleable__label-arrow:before {color: black;}#sk-container-id-2 div.sk-toggleable__content {max-height: 0;max-width: 0;overflow: hidden;text-align: left;background-color: #f0f8ff;}#sk-container-id-2 div.sk-toggleable__content pre {margin: 0.2em;color: black;border-radius: 0.25em;background-color: #f0f8ff;}#sk-container-id-2 input.sk-toggleable__control:checked~div.sk-toggleable__content {max-height: 200px;max-width: 100%;overflow: auto;}#sk-container-id-2 input.sk-toggleable__control:checked~label.sk-toggleable__label-arrow:before {content: \"▾\";}#sk-container-id-2 div.sk-estimator input.sk-toggleable__control:checked~label.sk-toggleable__label {background-color: #d4ebff;}#sk-container-id-2 div.sk-label input.sk-toggleable__control:checked~label.sk-toggleable__label {background-color: #d4ebff;}#sk-container-id-2 input.sk-hidden--visually {border: 0;clip: rect(1px 1px 1px 1px);clip: rect(1px, 1px, 1px, 1px);height: 1px;margin: -1px;overflow: hidden;padding: 0;position: absolute;width: 1px;}#sk-container-id-2 div.sk-estimator {font-family: monospace;background-color: #f0f8ff;border: 1px dotted black;border-radius: 0.25em;box-sizing: border-box;margin-bottom: 0.5em;}#sk-container-id-2 div.sk-estimator:hover {background-color: #d4ebff;}#sk-container-id-2 div.sk-parallel-item::after {content: \"\";width: 100%;border-bottom: 1px solid gray;flex-grow: 1;}#sk-container-id-2 div.sk-label:hover label.sk-toggleable__label {background-color: #d4ebff;}#sk-container-id-2 div.sk-serial::before {content: \"\";position: absolute;border-left: 1px solid gray;box-sizing: border-box;top: 0;bottom: 0;left: 50%;z-index: 0;}#sk-container-id-2 div.sk-serial {display: flex;flex-direction: column;align-items: center;background-color: white;padding-right: 0.2em;padding-left: 0.2em;position: relative;}#sk-container-id-2 div.sk-item {position: relative;z-index: 1;}#sk-container-id-2 div.sk-parallel {display: flex;align-items: stretch;justify-content: center;background-color: white;position: relative;}#sk-container-id-2 div.sk-item::before, #sk-container-id-2 div.sk-parallel-item::before {content: \"\";position: absolute;border-left: 1px solid gray;box-sizing: border-box;top: 0;bottom: 0;left: 50%;z-index: -1;}#sk-container-id-2 div.sk-parallel-item {display: flex;flex-direction: column;z-index: 1;position: relative;background-color: white;}#sk-container-id-2 div.sk-parallel-item:first-child::after {align-self: flex-end;width: 50%;}#sk-container-id-2 div.sk-parallel-item:last-child::after {align-self: flex-start;width: 50%;}#sk-container-id-2 div.sk-parallel-item:only-child::after {width: 0;}#sk-container-id-2 div.sk-dashed-wrapped {border: 1px dashed gray;margin: 0 0.4em 0.5em 0.4em;box-sizing: border-box;padding-bottom: 0.4em;background-color: white;}#sk-container-id-2 div.sk-label label {font-family: monospace;font-weight: bold;display: inline-block;line-height: 1.2em;}#sk-container-id-2 div.sk-label-container {text-align: center;}#sk-container-id-2 div.sk-container {/* jupyter's `normalize.less` sets `[hidden] { display: none; }` but bootstrap.min.css set `[hidden] { display: none !important; }` so we also need the `!important` here to be able to override the default hidden behavior on the sphinx rendered scikit-learn.org. See: https://github.com/scikit-learn/scikit-learn/issues/21755 */display: inline-block !important;position: relative;}#sk-container-id-2 div.sk-text-repr-fallback {display: none;}</style><div id=\"sk-container-id-2\" class=\"sk-top-container\"><div class=\"sk-text-repr-fallback\"><pre>GridSearchCV(cv=5,\n",
       "             estimator=XGBClassifier(base_score=None, booster=None,\n",
       "                                     callbacks=None, colsample_bylevel=None,\n",
       "                                     colsample_bynode=None,\n",
       "                                     colsample_bytree=None, device=None,\n",
       "                                     early_stopping_rounds=20,\n",
       "                                     enable_categorical=False,\n",
       "                                     eval_metric=&#x27;auc&#x27;, feature_types=None,\n",
       "                                     gamma=None, grow_policy=None,\n",
       "                                     importance_type=None,\n",
       "                                     interaction_constraints=None,\n",
       "                                     learning_rate=None, m...\n",
       "                                     max_leaves=None, min_child_weight=None,\n",
       "                                     missing=nan, monotone_constraints=None,\n",
       "                                     multi_strategy=None, n_estimators=None,\n",
       "                                     n_jobs=None, num_parallel_tree=None,\n",
       "                                     random_state=42, ...),\n",
       "             n_jobs=-1,\n",
       "             param_grid={&#x27;gamma&#x27;: [0.1, 0.2, 0.3],\n",
       "                         &#x27;learning_rate&#x27;: [0, 0.1, 0.2], &#x27;max_depth&#x27;: [3, 4, 5],\n",
       "                         &#x27;n_estimators&#x27;: [160, 170, 180],\n",
       "                         &#x27;reg_lambda&#x27;: [10, 15, 20],\n",
       "                         &#x27;scale_pos_weight&#x27;: [0, 1, 2]},\n",
       "             scoring=&#x27;roc_auc&#x27;, verbose=1)</pre><b>In a Jupyter environment, please rerun this cell to show the HTML representation or trust the notebook. <br />On GitHub, the HTML representation is unable to render, please try loading this page with nbviewer.org.</b></div><div class=\"sk-container\" hidden><div class=\"sk-item sk-dashed-wrapped\"><div class=\"sk-label-container\"><div class=\"sk-label sk-toggleable\"><input class=\"sk-toggleable__control sk-hidden--visually\" id=\"sk-estimator-id-4\" type=\"checkbox\" ><label for=\"sk-estimator-id-4\" class=\"sk-toggleable__label sk-toggleable__label-arrow\">GridSearchCV</label><div class=\"sk-toggleable__content\"><pre>GridSearchCV(cv=5,\n",
       "             estimator=XGBClassifier(base_score=None, booster=None,\n",
       "                                     callbacks=None, colsample_bylevel=None,\n",
       "                                     colsample_bynode=None,\n",
       "                                     colsample_bytree=None, device=None,\n",
       "                                     early_stopping_rounds=20,\n",
       "                                     enable_categorical=False,\n",
       "                                     eval_metric=&#x27;auc&#x27;, feature_types=None,\n",
       "                                     gamma=None, grow_policy=None,\n",
       "                                     importance_type=None,\n",
       "                                     interaction_constraints=None,\n",
       "                                     learning_rate=None, m...\n",
       "                                     max_leaves=None, min_child_weight=None,\n",
       "                                     missing=nan, monotone_constraints=None,\n",
       "                                     multi_strategy=None, n_estimators=None,\n",
       "                                     n_jobs=None, num_parallel_tree=None,\n",
       "                                     random_state=42, ...),\n",
       "             n_jobs=-1,\n",
       "             param_grid={&#x27;gamma&#x27;: [0.1, 0.2, 0.3],\n",
       "                         &#x27;learning_rate&#x27;: [0, 0.1, 0.2], &#x27;max_depth&#x27;: [3, 4, 5],\n",
       "                         &#x27;n_estimators&#x27;: [160, 170, 180],\n",
       "                         &#x27;reg_lambda&#x27;: [10, 15, 20],\n",
       "                         &#x27;scale_pos_weight&#x27;: [0, 1, 2]},\n",
       "             scoring=&#x27;roc_auc&#x27;, verbose=1)</pre></div></div></div><div class=\"sk-parallel\"><div class=\"sk-parallel-item\"><div class=\"sk-item\"><div class=\"sk-label-container\"><div class=\"sk-label sk-toggleable\"><input class=\"sk-toggleable__control sk-hidden--visually\" id=\"sk-estimator-id-5\" type=\"checkbox\" ><label for=\"sk-estimator-id-5\" class=\"sk-toggleable__label sk-toggleable__label-arrow\">estimator: XGBClassifier</label><div class=\"sk-toggleable__content\"><pre>XGBClassifier(base_score=None, booster=None, callbacks=None,\n",
       "              colsample_bylevel=None, colsample_bynode=None,\n",
       "              colsample_bytree=None, device=None, early_stopping_rounds=20,\n",
       "              enable_categorical=False, eval_metric=&#x27;auc&#x27;, feature_types=None,\n",
       "              gamma=None, grow_policy=None, importance_type=None,\n",
       "              interaction_constraints=None, learning_rate=None, max_bin=None,\n",
       "              max_cat_threshold=None, max_cat_to_onehot=None,\n",
       "              max_delta_step=None, max_depth=None, max_leaves=None,\n",
       "              min_child_weight=None, missing=nan, monotone_constraints=None,\n",
       "              multi_strategy=None, n_estimators=None, n_jobs=None,\n",
       "              num_parallel_tree=None, random_state=42, ...)</pre></div></div></div><div class=\"sk-serial\"><div class=\"sk-item\"><div class=\"sk-estimator sk-toggleable\"><input class=\"sk-toggleable__control sk-hidden--visually\" id=\"sk-estimator-id-6\" type=\"checkbox\" ><label for=\"sk-estimator-id-6\" class=\"sk-toggleable__label sk-toggleable__label-arrow\">XGBClassifier</label><div class=\"sk-toggleable__content\"><pre>XGBClassifier(base_score=None, booster=None, callbacks=None,\n",
       "              colsample_bylevel=None, colsample_bynode=None,\n",
       "              colsample_bytree=None, device=None, early_stopping_rounds=20,\n",
       "              enable_categorical=False, eval_metric=&#x27;auc&#x27;, feature_types=None,\n",
       "              gamma=None, grow_policy=None, importance_type=None,\n",
       "              interaction_constraints=None, learning_rate=None, max_bin=None,\n",
       "              max_cat_threshold=None, max_cat_to_onehot=None,\n",
       "              max_delta_step=None, max_depth=None, max_leaves=None,\n",
       "              min_child_weight=None, missing=nan, monotone_constraints=None,\n",
       "              multi_strategy=None, n_estimators=None, n_jobs=None,\n",
       "              num_parallel_tree=None, random_state=42, ...)</pre></div></div></div></div></div></div></div></div></div></div>"
      ],
      "text/plain": [
       "GridSearchCV(cv=5,\n",
       "             estimator=XGBClassifier(base_score=None, booster=None,\n",
       "                                     callbacks=None, colsample_bylevel=None,\n",
       "                                     colsample_bynode=None,\n",
       "                                     colsample_bytree=None, device=None,\n",
       "                                     early_stopping_rounds=20,\n",
       "                                     enable_categorical=False,\n",
       "                                     eval_metric='auc', feature_types=None,\n",
       "                                     gamma=None, grow_policy=None,\n",
       "                                     importance_type=None,\n",
       "                                     interaction_constraints=None,\n",
       "                                     learning_rate=None, m...\n",
       "                                     max_leaves=None, min_child_weight=None,\n",
       "                                     missing=nan, monotone_constraints=None,\n",
       "                                     multi_strategy=None, n_estimators=None,\n",
       "                                     n_jobs=None, num_parallel_tree=None,\n",
       "                                     random_state=42, ...),\n",
       "             n_jobs=-1,\n",
       "             param_grid={'gamma': [0.1, 0.2, 0.3],\n",
       "                         'learning_rate': [0, 0.1, 0.2], 'max_depth': [3, 4, 5],\n",
       "                         'n_estimators': [160, 170, 180],\n",
       "                         'reg_lambda': [10, 15, 20],\n",
       "                         'scale_pos_weight': [0, 1, 2]},\n",
       "             scoring='roc_auc', verbose=1)"
      ]
     },
     "execution_count": 51,
     "metadata": {},
     "output_type": "execute_result"
    }
   ],
   "source": [
    "grid_search.fit(X_train, y_train, eval_set=[(X_val, y_val)], verbose=False)"
   ]
  },
  {
   "cell_type": "markdown",
   "id": "8450ffa6",
   "metadata": {},
   "source": [
    "Get the best parameters:"
   ]
  },
  {
   "cell_type": "code",
   "execution_count": 52,
   "id": "46a6c333",
   "metadata": {},
   "outputs": [
    {
     "name": "stdout",
     "output_type": "stream",
     "text": [
      "Best hyperparameters: {'gamma': 0.2, 'learning_rate': 0.1, 'max_depth': 4, 'n_estimators': 170, 'reg_lambda': 15, 'scale_pos_weight': 1}\n"
     ]
    }
   ],
   "source": [
    "best_params = grid_search.best_params_\n",
    "print(f\"Best hyperparameters: {best_params}\")"
   ]
  },
  {
   "cell_type": "code",
   "execution_count": 53,
   "id": "91f22235",
   "metadata": {},
   "outputs": [
    {
     "name": "stdout",
     "output_type": "stream",
     "text": [
      "              precision    recall  f1-score   support\n",
      "\n",
      "           0       0.89      0.95      0.92     52046\n",
      "           1       0.75      0.55      0.63     13968\n",
      "\n",
      "    accuracy                           0.87     66014\n",
      "   macro avg       0.82      0.75      0.78     66014\n",
      "weighted avg       0.86      0.87      0.86     66014\n",
      "\n",
      "Accuracy: 0.87\n"
     ]
    }
   ],
   "source": [
    "best_model = grid_search.best_estimator_\n",
    "\n",
    "y_pred = best_model.predict(X_val)\n",
    "\n",
    "accuracy = accuracy_score(y_val, y_pred)\n",
    "\n",
    "print(classification_report(y_val, y_pred))\n",
    "\n",
    "print(f\"Accuracy: {accuracy:.2f}\")"
   ]
  },
  {
   "cell_type": "code",
   "execution_count": 54,
   "id": "e7e319e7",
   "metadata": {},
   "outputs": [
    {
     "data": {
      "image/png": "[encoded data removed]",
      "text/plain": [
       "<Figure size 640x480 with 2 Axes>"
      ]
     },
     "metadata": {},
     "output_type": "display_data"
    }
   ],
   "source": [
    "conf_matrix = confusion_matrix(y_val, y_pred)\n",
    "\n",
    "disp = ConfusionMatrixDisplay(confusion_matrix=conf_matrix, display_labels=['Remain', 'Churn'])\n",
    "disp.plot()\n",
    "plt.show()"
   ]
  },
  {
   "cell_type": "markdown",
   "id": "91a02283",
   "metadata": {},
   "source": [
    "The model selected by GridSearch is similar to the first one, meaning the core algorithm and its parameters haven't changed drastically. Instead, minor adjustments have been made to better handle the class imbalance.\n",
    "\n",
    "- **Slightly better balance of remain customers**: The new model has fewer false positive and more true positives.\n",
    "<br><br>\n",
    "- **Marginal gains**: The improvement might be minor due to the similarity in model structure and features used. This suggests the original model was already quite effective, and further gains are challenging without more significant changes."
   ]
  },
  {
   "cell_type": "markdown",
   "id": "eb165ef3",
   "metadata": {},
   "source": [
    "### 3.3. Hyperparameters, GridSearch and Cross-Validation modeling with additional features <a id=\"section_3_3\"></a>"
   ]
  },
  {
   "cell_type": "markdown",
   "id": "ca90d5a9",
   "metadata": {},
   "source": [
    "#### 3.3.1. Feature engineering <a id=\"sub_section_3_3_1\"></a>"
   ]
  },
  {
   "cell_type": "markdown",
   "id": "b70c555d",
   "metadata": {},
   "source": [
    "To potentially improve the performance of machine learning models, we can create new features. Let's:"
   ]
  },
  {
   "cell_type": "markdown",
   "id": "74f8e52f",
   "metadata": {},
   "source": [
    "- separate customers with no balance with customers with positive balance:"
   ]
  },
  {
   "cell_type": "code",
   "execution_count": 136,
   "id": "bbe94cee",
   "metadata": {},
   "outputs": [],
   "source": [
    "df_train_model['IsBalance'] = pd.cut(df_train_model['Balance'], \n",
    "                                     bins=[-float('inf'), 0, float('inf')], \n",
    "                                     labels=[0, 1])\n",
    "df_train_model['IsBalance'] = pd.to_numeric(df_train_model['IsBalance'])"
   ]
  },
  {
   "cell_type": "markdown",
   "id": "de93e97e",
   "metadata": {},
   "source": [
    "- create age groups to capture different life stages:"
   ]
  },
  {
   "cell_type": "code",
   "execution_count": 138,
   "id": "3fd19b94",
   "metadata": {},
   "outputs": [],
   "source": [
    "df_train_model['Age_Group'] = pd.cut(df_train_model['Age'], \n",
    "                                     bins=[18, 30, 40, 50, 60, 100], \n",
    "                                     labels=[1, 2, 3, 4, 5])\n",
    "df_train_model['Age_Group'] = pd.to_numeric(df_train_model['Age_Group'])"
   ]
  },
  {
   "cell_type": "markdown",
   "id": "052a2373",
   "metadata": {},
   "source": [
    "- create a new feature that combines Geography and Gender. This could capture any interaction effects between these variables:"
   ]
  },
  {
   "cell_type": "code",
   "execution_count": 139,
   "id": "bc163674",
   "metadata": {},
   "outputs": [],
   "source": [
    "df_train_model['France_Male'] = df_train_model['Geography_France'] * df_train_model['Gender_Male']\n",
    "df_train_model['Germany_Male'] = df_train_model['Geography_Germany'] * df_train_model['Gender_Male']\n",
    "df_train_model['Spain_Male'] = df_train_model['Geography_Spain'] * df_train_model['Gender_Male']\n",
    "df_train_model['France_Female'] = df_train_model['Geography_France'] * df_train_model['Gender_Female']\n",
    "df_train_model['Germany_Female'] = df_train_model['Geography_Germany'] * df_train_model['Gender_Female']\n",
    "df_train_model['Spain_Female'] = df_train_model['Geography_Spain'] * df_train_model['Gender_Female']"
   ]
  },
  {
   "cell_type": "markdown",
   "id": "65181e04",
   "metadata": {},
   "source": [
    "- examine the interaction feature between NumOfProducts and IsActiveMember to capture any combined effects:"
   ]
  },
  {
   "cell_type": "code",
   "execution_count": 140,
   "id": "261ac35a",
   "metadata": {},
   "outputs": [],
   "source": [
    "df_train_model['NumOfProducts_if_Active'] = df_train_model['NumOfProducts'] * df_train_model['IsActiveMember']"
   ]
  },
  {
   "cell_type": "markdown",
   "id": "795386fb",
   "metadata": {},
   "source": [
    "- combine HasCrCard and IsActiveMember to capture any interaction between having a credit card and being an active member:"
   ]
  },
  {
   "cell_type": "code",
   "execution_count": 141,
   "id": "78a15393",
   "metadata": {},
   "outputs": [],
   "source": [
    "df_train_model['CrCard_IsActive'] = df_train_model['HasCrCard'] * df_train_model['IsActiveMember']"
   ]
  },
  {
   "cell_type": "markdown",
   "id": "93e99923",
   "metadata": {},
   "source": [
    "- create a ratio feature of Balance to EstimatedSalary to understand financial stability:"
   ]
  },
  {
   "cell_type": "code",
   "execution_count": 142,
   "id": "ea5f1f78",
   "metadata": {},
   "outputs": [],
   "source": [
    "df_train_model['Balance/Salary'] = df_train_model['Balance'] / df_train_model['EstimatedSalary']"
   ]
  },
  {
   "cell_type": "markdown",
   "id": "a40b9f7e",
   "metadata": {},
   "source": [
    "- create an interaction feature between CreditScore and Age:"
   ]
  },
  {
   "cell_type": "code",
   "execution_count": 143,
   "id": "ddf39850",
   "metadata": {},
   "outputs": [],
   "source": [
    "df_train_model['Credit_vs_Age'] = df_train_model['CreditScore'] * df_train_model['Age']"
   ]
  },
  {
   "cell_type": "code",
   "execution_count": 62,
   "id": "917868af",
   "metadata": {
    "scrolled": true
   },
   "outputs": [
    {
     "data": {
      "text/html": [
       "<div>\n",
       "<style scoped>\n",
       "    .dataframe tbody tr th:only-of-type {\n",
       "        vertical-align: middle;\n",
       "    }\n",
       "\n",
       "    .dataframe tbody tr th {\n",
       "        vertical-align: top;\n",
       "    }\n",
       "\n",
       "    .dataframe thead th {\n",
       "        text-align: right;\n",
       "    }\n",
       "</style>\n",
       "<table border=\"1\" class=\"dataframe\">\n",
       "  <thead>\n",
       "    <tr style=\"text-align: right;\">\n",
       "      <th></th>\n",
       "      <th>CreditScore</th>\n",
       "      <th>Age</th>\n",
       "      <th>Tenure</th>\n",
       "      <th>Balance</th>\n",
       "      <th>NumOfProducts</th>\n",
       "      <th>HasCrCard</th>\n",
       "      <th>IsActiveMember</th>\n",
       "      <th>EstimatedSalary</th>\n",
       "      <th>Exited</th>\n",
       "      <th>Geography_France</th>\n",
       "      <th>...</th>\n",
       "      <th>France_Male</th>\n",
       "      <th>Germany_Male</th>\n",
       "      <th>Spain_Male</th>\n",
       "      <th>France_Female</th>\n",
       "      <th>Germany_Female</th>\n",
       "      <th>Spain_Female</th>\n",
       "      <th>NumOfProducts_if_Active</th>\n",
       "      <th>CrCard_IsActive</th>\n",
       "      <th>Balance/Salary</th>\n",
       "      <th>Credit_vs_Age</th>\n",
       "    </tr>\n",
       "  </thead>\n",
       "  <tbody>\n",
       "    <tr>\n",
       "      <th>0</th>\n",
       "      <td>668</td>\n",
       "      <td>33.0</td>\n",
       "      <td>3</td>\n",
       "      <td>0.00</td>\n",
       "      <td>2</td>\n",
       "      <td>1.0</td>\n",
       "      <td>0.0</td>\n",
       "      <td>181449.97</td>\n",
       "      <td>0</td>\n",
       "      <td>1.0</td>\n",
       "      <td>...</td>\n",
       "      <td>1.0</td>\n",
       "      <td>0.0</td>\n",
       "      <td>0.0</td>\n",
       "      <td>0.0</td>\n",
       "      <td>0.0</td>\n",
       "      <td>0.0</td>\n",
       "      <td>0.0</td>\n",
       "      <td>0.0</td>\n",
       "      <td>0.000000</td>\n",
       "      <td>22044.0</td>\n",
       "    </tr>\n",
       "    <tr>\n",
       "      <th>1</th>\n",
       "      <td>627</td>\n",
       "      <td>33.0</td>\n",
       "      <td>1</td>\n",
       "      <td>0.00</td>\n",
       "      <td>2</td>\n",
       "      <td>1.0</td>\n",
       "      <td>1.0</td>\n",
       "      <td>49503.50</td>\n",
       "      <td>0</td>\n",
       "      <td>1.0</td>\n",
       "      <td>...</td>\n",
       "      <td>1.0</td>\n",
       "      <td>0.0</td>\n",
       "      <td>0.0</td>\n",
       "      <td>0.0</td>\n",
       "      <td>0.0</td>\n",
       "      <td>0.0</td>\n",
       "      <td>2.0</td>\n",
       "      <td>1.0</td>\n",
       "      <td>0.000000</td>\n",
       "      <td>20691.0</td>\n",
       "    </tr>\n",
       "    <tr>\n",
       "      <th>2</th>\n",
       "      <td>678</td>\n",
       "      <td>40.0</td>\n",
       "      <td>10</td>\n",
       "      <td>0.00</td>\n",
       "      <td>2</td>\n",
       "      <td>1.0</td>\n",
       "      <td>0.0</td>\n",
       "      <td>184866.69</td>\n",
       "      <td>0</td>\n",
       "      <td>1.0</td>\n",
       "      <td>...</td>\n",
       "      <td>1.0</td>\n",
       "      <td>0.0</td>\n",
       "      <td>0.0</td>\n",
       "      <td>0.0</td>\n",
       "      <td>0.0</td>\n",
       "      <td>0.0</td>\n",
       "      <td>0.0</td>\n",
       "      <td>0.0</td>\n",
       "      <td>0.000000</td>\n",
       "      <td>27120.0</td>\n",
       "    </tr>\n",
       "    <tr>\n",
       "      <th>3</th>\n",
       "      <td>581</td>\n",
       "      <td>34.0</td>\n",
       "      <td>2</td>\n",
       "      <td>148882.54</td>\n",
       "      <td>1</td>\n",
       "      <td>1.0</td>\n",
       "      <td>1.0</td>\n",
       "      <td>84560.88</td>\n",
       "      <td>0</td>\n",
       "      <td>1.0</td>\n",
       "      <td>...</td>\n",
       "      <td>1.0</td>\n",
       "      <td>0.0</td>\n",
       "      <td>0.0</td>\n",
       "      <td>0.0</td>\n",
       "      <td>0.0</td>\n",
       "      <td>0.0</td>\n",
       "      <td>1.0</td>\n",
       "      <td>1.0</td>\n",
       "      <td>1.760655</td>\n",
       "      <td>19754.0</td>\n",
       "    </tr>\n",
       "    <tr>\n",
       "      <th>4</th>\n",
       "      <td>716</td>\n",
       "      <td>33.0</td>\n",
       "      <td>5</td>\n",
       "      <td>0.00</td>\n",
       "      <td>2</td>\n",
       "      <td>1.0</td>\n",
       "      <td>1.0</td>\n",
       "      <td>15068.83</td>\n",
       "      <td>0</td>\n",
       "      <td>0.0</td>\n",
       "      <td>...</td>\n",
       "      <td>0.0</td>\n",
       "      <td>0.0</td>\n",
       "      <td>1.0</td>\n",
       "      <td>0.0</td>\n",
       "      <td>0.0</td>\n",
       "      <td>0.0</td>\n",
       "      <td>2.0</td>\n",
       "      <td>1.0</td>\n",
       "      <td>0.000000</td>\n",
       "      <td>23628.0</td>\n",
       "    </tr>\n",
       "  </tbody>\n",
       "</table>\n",
       "<p>5 rows × 26 columns</p>\n",
       "</div>"
      ],
      "text/plain": [
       "   CreditScore   Age  Tenure    Balance  NumOfProducts  HasCrCard  \\\n",
       "0          668  33.0       3       0.00              2        1.0   \n",
       "1          627  33.0       1       0.00              2        1.0   \n",
       "2          678  40.0      10       0.00              2        1.0   \n",
       "3          581  34.0       2  148882.54              1        1.0   \n",
       "4          716  33.0       5       0.00              2        1.0   \n",
       "\n",
       "   IsActiveMember  EstimatedSalary  Exited  Geography_France  ...  \\\n",
       "0             0.0        181449.97       0               1.0  ...   \n",
       "1             1.0         49503.50       0               1.0  ...   \n",
       "2             0.0        184866.69       0               1.0  ...   \n",
       "3             1.0         84560.88       0               1.0  ...   \n",
       "4             1.0         15068.83       0               0.0  ...   \n",
       "\n",
       "   France_Male  Germany_Male  Spain_Male  France_Female  Germany_Female  \\\n",
       "0          1.0           0.0         0.0            0.0             0.0   \n",
       "1          1.0           0.0         0.0            0.0             0.0   \n",
       "2          1.0           0.0         0.0            0.0             0.0   \n",
       "3          1.0           0.0         0.0            0.0             0.0   \n",
       "4          0.0           0.0         1.0            0.0             0.0   \n",
       "\n",
       "   Spain_Female  NumOfProducts_if_Active  CrCard_IsActive  Balance/Salary  \\\n",
       "0           0.0                      0.0              0.0        0.000000   \n",
       "1           0.0                      2.0              1.0        0.000000   \n",
       "2           0.0                      0.0              0.0        0.000000   \n",
       "3           0.0                      1.0              1.0        1.760655   \n",
       "4           0.0                      2.0              1.0        0.000000   \n",
       "\n",
       "   Credit_vs_Age  \n",
       "0        22044.0  \n",
       "1        20691.0  \n",
       "2        27120.0  \n",
       "3        19754.0  \n",
       "4        23628.0  \n",
       "\n",
       "[5 rows x 26 columns]"
      ]
     },
     "execution_count": 62,
     "metadata": {},
     "output_type": "execute_result"
    }
   ],
   "source": [
    "df_train_model.head()"
   ]
  },
  {
   "cell_type": "code",
   "execution_count": 63,
   "id": "fa0856a7",
   "metadata": {},
   "outputs": [
    {
     "data": {
      "text/plain": [
       "0         0\n",
       "1         0\n",
       "2         0\n",
       "3         0\n",
       "4         0\n",
       "         ..\n",
       "165029    0\n",
       "165030    0\n",
       "165031    0\n",
       "165032    0\n",
       "165033    1\n",
       "Name: Exited, Length: 165034, dtype: int64"
      ]
     },
     "execution_count": 63,
     "metadata": {},
     "output_type": "execute_result"
    }
   ],
   "source": [
    "y"
   ]
  },
  {
   "cell_type": "markdown",
   "id": "0df4bfa9",
   "metadata": {},
   "source": [
    "#### 3.2.2. Modeling <a id=\"sub_section_3_3_2\"></a>"
   ]
  },
  {
   "cell_type": "code",
   "execution_count": 96,
   "id": "8933658f",
   "metadata": {},
   "outputs": [
    {
     "data": {
      "text/plain": [
       "((99020, 25), (99020,), (66014, 25), (66014,), (110023, 13))"
      ]
     },
     "execution_count": 96,
     "metadata": {},
     "output_type": "execute_result"
    }
   ],
   "source": [
    "X = df_train_model.drop(\"Exited\", axis=1)\n",
    "\n",
    "X_train, X_val, y_train, y_val = train_test_split(X, y, test_size=0.4, random_state=42, stratify=y)\n",
    "X_train.shape, y_train.shape, X_val.shape, y_val.shape, X_test.shape"
   ]
  },
  {
   "cell_type": "code",
   "execution_count": 126,
   "id": "56c85c7f",
   "metadata": {},
   "outputs": [],
   "source": [
    "fixed_params2 = {\n",
    "    'objective': 'binary:logistic',\n",
    "    'early_stopping_rounds': 20,\n",
    "    'eval_metric': 'auc'\n",
    "}\n",
    "\n",
    "grid_params2 = {\n",
    "    'n_estimators': [210, 220, 230],\n",
    "    'max_depth': [3, 4, 5],\n",
    "    'learning_rate': [0, 0.1, 0.2],\n",
    "    'gamma': [0.4, 0.5, 0.6],\n",
    "    'reg_lambda': [17, 18, 19],\n",
    "    'scale_pos_weight': [0, 1, 2]\n",
    "}"
   ]
  },
  {
   "cell_type": "code",
   "execution_count": 127,
   "id": "0b3cf313",
   "metadata": {},
   "outputs": [],
   "source": [
    "model2 = XGBClassifier(**fixed_params2, use_label_encoder=False, random_state=42)"
   ]
  },
  {
   "cell_type": "code",
   "execution_count": 128,
   "id": "51327e1c",
   "metadata": {},
   "outputs": [],
   "source": [
    "grid_search2 = GridSearchCV(\n",
    "    estimator = model2,\n",
    "    param_grid = grid_params2,\n",
    "    scoring = 'roc_auc',\n",
    "    cv = 5,\n",
    "    verbose = 1\n",
    ")"
   ]
  },
  {
   "cell_type": "code",
   "execution_count": 129,
   "id": "df15ff5e",
   "metadata": {
    "scrolled": false
   },
   "outputs": [
    {
     "name": "stdout",
     "output_type": "stream",
     "text": [
      "Fitting 5 folds for each of 729 candidates, totalling 3645 fits\n"
     ]
    },
    {
     "data": {
      "text/html": [
       "<style>#sk-container-id-10 {color: black;}#sk-container-id-10 pre{padding: 0;}#sk-container-id-10 div.sk-toggleable {background-color: white;}#sk-container-id-10 label.sk-toggleable__label {cursor: pointer;display: block;width: 100%;margin-bottom: 0;padding: 0.3em;box-sizing: border-box;text-align: center;}#sk-container-id-10 label.sk-toggleable__label-arrow:before {content: \"▸\";float: left;margin-right: 0.25em;color: #696969;}#sk-container-id-10 label.sk-toggleable__label-arrow:hover:before {color: black;}#sk-container-id-10 div.sk-estimator:hover label.sk-toggleable__label-arrow:before {color: black;}#sk-container-id-10 div.sk-toggleable__content {max-height: 0;max-width: 0;overflow: hidden;text-align: left;background-color: #f0f8ff;}#sk-container-id-10 div.sk-toggleable__content pre {margin: 0.2em;color: black;border-radius: 0.25em;background-color: #f0f8ff;}#sk-container-id-10 input.sk-toggleable__control:checked~div.sk-toggleable__content {max-height: 200px;max-width: 100%;overflow: auto;}#sk-container-id-10 input.sk-toggleable__control:checked~label.sk-toggleable__label-arrow:before {content: \"▾\";}#sk-container-id-10 div.sk-estimator input.sk-toggleable__control:checked~label.sk-toggleable__label {background-color: #d4ebff;}#sk-container-id-10 div.sk-label input.sk-toggleable__control:checked~label.sk-toggleable__label {background-color: #d4ebff;}#sk-container-id-10 input.sk-hidden--visually {border: 0;clip: rect(1px 1px 1px 1px);clip: rect(1px, 1px, 1px, 1px);height: 1px;margin: -1px;overflow: hidden;padding: 0;position: absolute;width: 1px;}#sk-container-id-10 div.sk-estimator {font-family: monospace;background-color: #f0f8ff;border: 1px dotted black;border-radius: 0.25em;box-sizing: border-box;margin-bottom: 0.5em;}#sk-container-id-10 div.sk-estimator:hover {background-color: #d4ebff;}#sk-container-id-10 div.sk-parallel-item::after {content: \"\";width: 100%;border-bottom: 1px solid gray;flex-grow: 1;}#sk-container-id-10 div.sk-label:hover label.sk-toggleable__label {background-color: #d4ebff;}#sk-container-id-10 div.sk-serial::before {content: \"\";position: absolute;border-left: 1px solid gray;box-sizing: border-box;top: 0;bottom: 0;left: 50%;z-index: 0;}#sk-container-id-10 div.sk-serial {display: flex;flex-direction: column;align-items: center;background-color: white;padding-right: 0.2em;padding-left: 0.2em;position: relative;}#sk-container-id-10 div.sk-item {position: relative;z-index: 1;}#sk-container-id-10 div.sk-parallel {display: flex;align-items: stretch;justify-content: center;background-color: white;position: relative;}#sk-container-id-10 div.sk-item::before, #sk-container-id-10 div.sk-parallel-item::before {content: \"\";position: absolute;border-left: 1px solid gray;box-sizing: border-box;top: 0;bottom: 0;left: 50%;z-index: -1;}#sk-container-id-10 div.sk-parallel-item {display: flex;flex-direction: column;z-index: 1;position: relative;background-color: white;}#sk-container-id-10 div.sk-parallel-item:first-child::after {align-self: flex-end;width: 50%;}#sk-container-id-10 div.sk-parallel-item:last-child::after {align-self: flex-start;width: 50%;}#sk-container-id-10 div.sk-parallel-item:only-child::after {width: 0;}#sk-container-id-10 div.sk-dashed-wrapped {border: 1px dashed gray;margin: 0 0.4em 0.5em 0.4em;box-sizing: border-box;padding-bottom: 0.4em;background-color: white;}#sk-container-id-10 div.sk-label label {font-family: monospace;font-weight: bold;display: inline-block;line-height: 1.2em;}#sk-container-id-10 div.sk-label-container {text-align: center;}#sk-container-id-10 div.sk-container {/* jupyter's `normalize.less` sets `[hidden] { display: none; }` but bootstrap.min.css set `[hidden] { display: none !important; }` so we also need the `!important` here to be able to override the default hidden behavior on the sphinx rendered scikit-learn.org. See: https://github.com/scikit-learn/scikit-learn/issues/21755 */display: inline-block !important;position: relative;}#sk-container-id-10 div.sk-text-repr-fallback {display: none;}</style><div id=\"sk-container-id-10\" class=\"sk-top-container\"><div class=\"sk-text-repr-fallback\"><pre>GridSearchCV(cv=5,\n",
       "             estimator=XGBClassifier(base_score=None, booster=None,\n",
       "                                     callbacks=None, colsample_bylevel=None,\n",
       "                                     colsample_bynode=None,\n",
       "                                     colsample_bytree=None, device=None,\n",
       "                                     early_stopping_rounds=20,\n",
       "                                     enable_categorical=False,\n",
       "                                     eval_metric=&#x27;auc&#x27;, feature_types=None,\n",
       "                                     gamma=None, grow_policy=None,\n",
       "                                     importance_type=None,\n",
       "                                     interaction_constraints=None,\n",
       "                                     learning_rate=None, m...\n",
       "                                     max_leaves=None, min_child_weight=None,\n",
       "                                     missing=nan, monotone_constraints=None,\n",
       "                                     multi_strategy=None, n_estimators=None,\n",
       "                                     n_jobs=None, num_parallel_tree=None,\n",
       "                                     random_state=42, ...),\n",
       "             param_grid={&#x27;gamma&#x27;: [0.4, 0.5, 0.6],\n",
       "                         &#x27;learning_rate&#x27;: [0, 0.1, 0.2], &#x27;max_depth&#x27;: [3, 4, 5],\n",
       "                         &#x27;n_estimators&#x27;: [210, 220, 230],\n",
       "                         &#x27;reg_lambda&#x27;: [17, 18, 19],\n",
       "                         &#x27;scale_pos_weight&#x27;: [0, 1, 2]},\n",
       "             scoring=&#x27;roc_auc&#x27;, verbose=1)</pre><b>In a Jupyter environment, please rerun this cell to show the HTML representation or trust the notebook. <br />On GitHub, the HTML representation is unable to render, please try loading this page with nbviewer.org.</b></div><div class=\"sk-container\" hidden><div class=\"sk-item sk-dashed-wrapped\"><div class=\"sk-label-container\"><div class=\"sk-label sk-toggleable\"><input class=\"sk-toggleable__control sk-hidden--visually\" id=\"sk-estimator-id-28\" type=\"checkbox\" ><label for=\"sk-estimator-id-28\" class=\"sk-toggleable__label sk-toggleable__label-arrow\">GridSearchCV</label><div class=\"sk-toggleable__content\"><pre>GridSearchCV(cv=5,\n",
       "             estimator=XGBClassifier(base_score=None, booster=None,\n",
       "                                     callbacks=None, colsample_bylevel=None,\n",
       "                                     colsample_bynode=None,\n",
       "                                     colsample_bytree=None, device=None,\n",
       "                                     early_stopping_rounds=20,\n",
       "                                     enable_categorical=False,\n",
       "                                     eval_metric=&#x27;auc&#x27;, feature_types=None,\n",
       "                                     gamma=None, grow_policy=None,\n",
       "                                     importance_type=None,\n",
       "                                     interaction_constraints=None,\n",
       "                                     learning_rate=None, m...\n",
       "                                     max_leaves=None, min_child_weight=None,\n",
       "                                     missing=nan, monotone_constraints=None,\n",
       "                                     multi_strategy=None, n_estimators=None,\n",
       "                                     n_jobs=None, num_parallel_tree=None,\n",
       "                                     random_state=42, ...),\n",
       "             param_grid={&#x27;gamma&#x27;: [0.4, 0.5, 0.6],\n",
       "                         &#x27;learning_rate&#x27;: [0, 0.1, 0.2], &#x27;max_depth&#x27;: [3, 4, 5],\n",
       "                         &#x27;n_estimators&#x27;: [210, 220, 230],\n",
       "                         &#x27;reg_lambda&#x27;: [17, 18, 19],\n",
       "                         &#x27;scale_pos_weight&#x27;: [0, 1, 2]},\n",
       "             scoring=&#x27;roc_auc&#x27;, verbose=1)</pre></div></div></div><div class=\"sk-parallel\"><div class=\"sk-parallel-item\"><div class=\"sk-item\"><div class=\"sk-label-container\"><div class=\"sk-label sk-toggleable\"><input class=\"sk-toggleable__control sk-hidden--visually\" id=\"sk-estimator-id-29\" type=\"checkbox\" ><label for=\"sk-estimator-id-29\" class=\"sk-toggleable__label sk-toggleable__label-arrow\">estimator: XGBClassifier</label><div class=\"sk-toggleable__content\"><pre>XGBClassifier(base_score=None, booster=None, callbacks=None,\n",
       "              colsample_bylevel=None, colsample_bynode=None,\n",
       "              colsample_bytree=None, device=None, early_stopping_rounds=20,\n",
       "              enable_categorical=False, eval_metric=&#x27;auc&#x27;, feature_types=None,\n",
       "              gamma=None, grow_policy=None, importance_type=None,\n",
       "              interaction_constraints=None, learning_rate=None, max_bin=None,\n",
       "              max_cat_threshold=None, max_cat_to_onehot=None,\n",
       "              max_delta_step=None, max_depth=None, max_leaves=None,\n",
       "              min_child_weight=None, missing=nan, monotone_constraints=None,\n",
       "              multi_strategy=None, n_estimators=None, n_jobs=None,\n",
       "              num_parallel_tree=None, random_state=42, ...)</pre></div></div></div><div class=\"sk-serial\"><div class=\"sk-item\"><div class=\"sk-estimator sk-toggleable\"><input class=\"sk-toggleable__control sk-hidden--visually\" id=\"sk-estimator-id-30\" type=\"checkbox\" ><label for=\"sk-estimator-id-30\" class=\"sk-toggleable__label sk-toggleable__label-arrow\">XGBClassifier</label><div class=\"sk-toggleable__content\"><pre>XGBClassifier(base_score=None, booster=None, callbacks=None,\n",
       "              colsample_bylevel=None, colsample_bynode=None,\n",
       "              colsample_bytree=None, device=None, early_stopping_rounds=20,\n",
       "              enable_categorical=False, eval_metric=&#x27;auc&#x27;, feature_types=None,\n",
       "              gamma=None, grow_policy=None, importance_type=None,\n",
       "              interaction_constraints=None, learning_rate=None, max_bin=None,\n",
       "              max_cat_threshold=None, max_cat_to_onehot=None,\n",
       "              max_delta_step=None, max_depth=None, max_leaves=None,\n",
       "              min_child_weight=None, missing=nan, monotone_constraints=None,\n",
       "              multi_strategy=None, n_estimators=None, n_jobs=None,\n",
       "              num_parallel_tree=None, random_state=42, ...)</pre></div></div></div></div></div></div></div></div></div></div>"
      ],
      "text/plain": [
       "GridSearchCV(cv=5,\n",
       "             estimator=XGBClassifier(base_score=None, booster=None,\n",
       "                                     callbacks=None, colsample_bylevel=None,\n",
       "                                     colsample_bynode=None,\n",
       "                                     colsample_bytree=None, device=None,\n",
       "                                     early_stopping_rounds=20,\n",
       "                                     enable_categorical=False,\n",
       "                                     eval_metric='auc', feature_types=None,\n",
       "                                     gamma=None, grow_policy=None,\n",
       "                                     importance_type=None,\n",
       "                                     interaction_constraints=None,\n",
       "                                     learning_rate=None, m...\n",
       "                                     max_leaves=None, min_child_weight=None,\n",
       "                                     missing=nan, monotone_constraints=None,\n",
       "                                     multi_strategy=None, n_estimators=None,\n",
       "                                     n_jobs=None, num_parallel_tree=None,\n",
       "                                     random_state=42, ...),\n",
       "             param_grid={'gamma': [0.4, 0.5, 0.6],\n",
       "                         'learning_rate': [0, 0.1, 0.2], 'max_depth': [3, 4, 5],\n",
       "                         'n_estimators': [210, 220, 230],\n",
       "                         'reg_lambda': [17, 18, 19],\n",
       "                         'scale_pos_weight': [0, 1, 2]},\n",
       "             scoring='roc_auc', verbose=1)"
      ]
     },
     "execution_count": 129,
     "metadata": {},
     "output_type": "execute_result"
    }
   ],
   "source": [
    "grid_search2.fit(X_train, y_train, eval_set=[(X_val, y_val)], verbose=0)"
   ]
  },
  {
   "cell_type": "code",
   "execution_count": 130,
   "id": "0ad1b3b6",
   "metadata": {
    "scrolled": true
   },
   "outputs": [
    {
     "name": "stdout",
     "output_type": "stream",
     "text": [
      "Best hyperparameters: {'gamma': 0.5, 'learning_rate': 0.1, 'max_depth': 4, 'n_estimators': 210, 'reg_lambda': 18, 'scale_pos_weight': 1}\n"
     ]
    }
   ],
   "source": [
    "best_params2 = grid_search2.best_params_\n",
    "print(f\"Best hyperparameters: {best_params2}\")"
   ]
  },
  {
   "cell_type": "code",
   "execution_count": 131,
   "id": "cd49f140",
   "metadata": {},
   "outputs": [
    {
     "name": "stdout",
     "output_type": "stream",
     "text": [
      "              precision    recall  f1-score   support\n",
      "\n",
      "           0       0.89      0.95      0.92     52046\n",
      "           1       0.75      0.55      0.63     13968\n",
      "\n",
      "    accuracy                           0.87     66014\n",
      "   macro avg       0.82      0.75      0.78     66014\n",
      "weighted avg       0.86      0.87      0.86     66014\n",
      "\n",
      "Accuracy: 0.87\n"
     ]
    }
   ],
   "source": [
    "best_model2 = grid_search2.best_estimator_\n",
    "\n",
    "y_pred2 = best_model2.predict(X_val)\n",
    "\n",
    "accuracy2 = accuracy_score(y_val, y_pred2)\n",
    "\n",
    "print(classification_report(y_val, y_pred2))\n",
    "\n",
    "print(f\"Accuracy: {accuracy2:.2f}\")"
   ]
  },
  {
   "cell_type": "code",
   "execution_count": 132,
   "id": "a89bb4b2",
   "metadata": {},
   "outputs": [
    {
     "data": {
      "image/png": "[encoded data removed]",
      "text/plain": [
       "<Figure size 640x480 with 2 Axes>"
      ]
     },
     "metadata": {},
     "output_type": "display_data"
    }
   ],
   "source": [
    "conf_matrix2 = confusion_matrix(y_val, y_pred2)\n",
    "\n",
    "disp = ConfusionMatrixDisplay(confusion_matrix=conf_matrix2, display_labels=['Remain', 'Churn'])\n",
    "disp.plot()\n",
    "plt.show()"
   ]
  },
  {
   "cell_type": "markdown",
   "id": "f05c17c6",
   "metadata": {},
   "source": [
    "Additional features didn't improve the performance of the model."
   ]
  },
  {
   "cell_type": "markdown",
   "id": "2de1ca21",
   "metadata": {},
   "source": [
    "#### 3.3.3. Final model <a id=\"sub_section_3_3_3\"></a>"
   ]
  },
  {
   "cell_type": "markdown",
   "id": "564f67ef",
   "metadata": {},
   "source": [
    "Let's drop additional features as they didn't improve the model:"
   ]
  },
  {
   "cell_type": "code",
   "execution_count": 144,
   "id": "75e230fc",
   "metadata": {},
   "outputs": [],
   "source": [
    "df_train_model.drop(['IsBalance', 'Age_Group', 'France_Male', 'Germany_Male', 'Spain_Male', 'France_Female', 'Germany_Female', 'Spain_Female', 'NumOfProducts_if_Active', 'CrCard_IsActive', 'Balance/Salary', 'Credit_vs_Age'], axis=1, inplace=True)"
   ]
  },
  {
   "cell_type": "code",
   "execution_count": 145,
   "id": "ca1d8f7f",
   "metadata": {},
   "outputs": [
    {
     "data": {
      "text/html": [
       "<div>\n",
       "<style scoped>\n",
       "    .dataframe tbody tr th:only-of-type {\n",
       "        vertical-align: middle;\n",
       "    }\n",
       "\n",
       "    .dataframe tbody tr th {\n",
       "        vertical-align: top;\n",
       "    }\n",
       "\n",
       "    .dataframe thead th {\n",
       "        text-align: right;\n",
       "    }\n",
       "</style>\n",
       "<table border=\"1\" class=\"dataframe\">\n",
       "  <thead>\n",
       "    <tr style=\"text-align: right;\">\n",
       "      <th></th>\n",
       "      <th>CreditScore</th>\n",
       "      <th>Age</th>\n",
       "      <th>Tenure</th>\n",
       "      <th>Balance</th>\n",
       "      <th>NumOfProducts</th>\n",
       "      <th>HasCrCard</th>\n",
       "      <th>IsActiveMember</th>\n",
       "      <th>EstimatedSalary</th>\n",
       "      <th>Exited</th>\n",
       "      <th>Geography_France</th>\n",
       "      <th>Geography_Germany</th>\n",
       "      <th>Geography_Spain</th>\n",
       "      <th>Gender_Female</th>\n",
       "      <th>Gender_Male</th>\n",
       "    </tr>\n",
       "  </thead>\n",
       "  <tbody>\n",
       "    <tr>\n",
       "      <th>0</th>\n",
       "      <td>668</td>\n",
       "      <td>33.0</td>\n",
       "      <td>3</td>\n",
       "      <td>0.00</td>\n",
       "      <td>2</td>\n",
       "      <td>1.0</td>\n",
       "      <td>0.0</td>\n",
       "      <td>181449.97</td>\n",
       "      <td>0</td>\n",
       "      <td>1.0</td>\n",
       "      <td>0.0</td>\n",
       "      <td>0.0</td>\n",
       "      <td>0.0</td>\n",
       "      <td>1.0</td>\n",
       "    </tr>\n",
       "    <tr>\n",
       "      <th>1</th>\n",
       "      <td>627</td>\n",
       "      <td>33.0</td>\n",
       "      <td>1</td>\n",
       "      <td>0.00</td>\n",
       "      <td>2</td>\n",
       "      <td>1.0</td>\n",
       "      <td>1.0</td>\n",
       "      <td>49503.50</td>\n",
       "      <td>0</td>\n",
       "      <td>1.0</td>\n",
       "      <td>0.0</td>\n",
       "      <td>0.0</td>\n",
       "      <td>0.0</td>\n",
       "      <td>1.0</td>\n",
       "    </tr>\n",
       "    <tr>\n",
       "      <th>2</th>\n",
       "      <td>678</td>\n",
       "      <td>40.0</td>\n",
       "      <td>10</td>\n",
       "      <td>0.00</td>\n",
       "      <td>2</td>\n",
       "      <td>1.0</td>\n",
       "      <td>0.0</td>\n",
       "      <td>184866.69</td>\n",
       "      <td>0</td>\n",
       "      <td>1.0</td>\n",
       "      <td>0.0</td>\n",
       "      <td>0.0</td>\n",
       "      <td>0.0</td>\n",
       "      <td>1.0</td>\n",
       "    </tr>\n",
       "    <tr>\n",
       "      <th>3</th>\n",
       "      <td>581</td>\n",
       "      <td>34.0</td>\n",
       "      <td>2</td>\n",
       "      <td>148882.54</td>\n",
       "      <td>1</td>\n",
       "      <td>1.0</td>\n",
       "      <td>1.0</td>\n",
       "      <td>84560.88</td>\n",
       "      <td>0</td>\n",
       "      <td>1.0</td>\n",
       "      <td>0.0</td>\n",
       "      <td>0.0</td>\n",
       "      <td>0.0</td>\n",
       "      <td>1.0</td>\n",
       "    </tr>\n",
       "    <tr>\n",
       "      <th>4</th>\n",
       "      <td>716</td>\n",
       "      <td>33.0</td>\n",
       "      <td>5</td>\n",
       "      <td>0.00</td>\n",
       "      <td>2</td>\n",
       "      <td>1.0</td>\n",
       "      <td>1.0</td>\n",
       "      <td>15068.83</td>\n",
       "      <td>0</td>\n",
       "      <td>0.0</td>\n",
       "      <td>0.0</td>\n",
       "      <td>1.0</td>\n",
       "      <td>0.0</td>\n",
       "      <td>1.0</td>\n",
       "    </tr>\n",
       "  </tbody>\n",
       "</table>\n",
       "</div>"
      ],
      "text/plain": [
       "   CreditScore   Age  Tenure    Balance  NumOfProducts  HasCrCard  \\\n",
       "0          668  33.0       3       0.00              2        1.0   \n",
       "1          627  33.0       1       0.00              2        1.0   \n",
       "2          678  40.0      10       0.00              2        1.0   \n",
       "3          581  34.0       2  148882.54              1        1.0   \n",
       "4          716  33.0       5       0.00              2        1.0   \n",
       "\n",
       "   IsActiveMember  EstimatedSalary  Exited  Geography_France  \\\n",
       "0             0.0        181449.97       0               1.0   \n",
       "1             1.0         49503.50       0               1.0   \n",
       "2             0.0        184866.69       0               1.0   \n",
       "3             1.0         84560.88       0               1.0   \n",
       "4             1.0         15068.83       0               0.0   \n",
       "\n",
       "   Geography_Germany  Geography_Spain  Gender_Female  Gender_Male  \n",
       "0                0.0              0.0            0.0          1.0  \n",
       "1                0.0              0.0            0.0          1.0  \n",
       "2                0.0              0.0            0.0          1.0  \n",
       "3                0.0              0.0            0.0          1.0  \n",
       "4                0.0              1.0            0.0          1.0  "
      ]
     },
     "execution_count": 145,
     "metadata": {},
     "output_type": "execute_result"
    }
   ],
   "source": [
    "df_train_model.head()"
   ]
  },
  {
   "cell_type": "markdown",
   "id": "e0a21341",
   "metadata": {},
   "source": [
    "Final model based on best parameters from GridSearchCV:"
   ]
  },
  {
   "cell_type": "code",
   "execution_count": 146,
   "id": "bb197443",
   "metadata": {},
   "outputs": [],
   "source": [
    "X = df_train_model.drop(\"Exited\", axis=1)\n",
    "\n",
    "X_train, X_val, y_train, y_val = train_test_split(X, y, test_size=0.4, random_state=42, stratify=y)"
   ]
  },
  {
   "cell_type": "code",
   "execution_count": 147,
   "id": "4933a9fa",
   "metadata": {},
   "outputs": [
    {
     "name": "stdout",
     "output_type": "stream",
     "text": [
      "              precision    recall  f1-score   support\n",
      "\n",
      "           0       0.89      0.95      0.92     52046\n",
      "           1       0.75      0.55      0.63     13968\n",
      "\n",
      "    accuracy                           0.87     66014\n",
      "   macro avg       0.82      0.75      0.78     66014\n",
      "weighted avg       0.86      0.87      0.86     66014\n",
      "\n",
      "Accuracy: 0.87\n"
     ]
    }
   ],
   "source": [
    "final_model = xgb.XGBClassifier(seed=42,\n",
    "                               objective='binary:logistic',\n",
    "                               gamma=0.2,\n",
    "                               learning_rate=0.1,\n",
    "                               max_depth=4,\n",
    "                               reg_lambda=15,\n",
    "                               scale_pos_weight=1,\n",
    "                               n_estimators=170)\n",
    "\n",
    "final_model.fit(X_train, y_train, eval_set=[(X_val, y_val)], verbose=0)\n",
    "\n",
    "y_pred = final_model.predict(X_val)\n",
    "\n",
    "accuracy = accuracy_score(y_val, y_pred)\n",
    "\n",
    "print(classification_report(y_val, y_pred))\n",
    "print(f\"Accuracy: {accuracy:.2f}\")"
   ]
  },
  {
   "cell_type": "markdown",
   "id": "2c86f9e8",
   "metadata": {},
   "source": [
    "#### 3.3.4. Feature importance <a id=\"sub_section_3_3_4\"></a>"
   ]
  },
  {
   "cell_type": "code",
   "execution_count": 148,
   "id": "6608d834",
   "metadata": {},
   "outputs": [
    {
     "data": {
      "image/png": "[encoded data removed]",
      "text/plain": [
       "<Figure size 1800x600 with 1 Axes>"
      ]
     },
     "metadata": {},
     "output_type": "display_data"
    }
   ],
   "source": [
    "feature_importance = final_model.feature_importances_\n",
    "sorted_features = np.argsort(feature_importance)\n",
    "\n",
    "fig = plt.figure(figsize=(18, 6))\n",
    "fig.patch.set_facecolor('lightgrey')\n",
    "\n",
    "plt.barh(range(len(sorted_features)), feature_importance[sorted_features], align='center', color='purple')\n",
    "plt.yticks(range(len(sorted_features)), np.array(X_val.columns)[sorted_features])\n",
    "plt.title('Feature Importance')\n",
    "plt.show()"
   ]
  },
  {
   "cell_type": "markdown",
   "id": "9d948cde",
   "metadata": {},
   "source": [
    "3 Key Insights from the Feature Importance Chart\n",
    "\n",
    "- **NumOfProducts is the most influential feature**:\n",
    "Customers with more products are less likely to churn, making the number of products a key predictor of customer retention.\n",
    "<br><br>\n",
    "- **Age and IsActiveMember are highly significant**:\n",
    "Older customers and those who are active members are less likely to churn, highlighting the importance of age and engagement in retaining customers.\n",
    "<br><br>\n",
    "- **Geographical and Gender factors vary in importance**:\n",
    "Customers from Germany and females show distinct retention patterns, while those from Spain, France, and males have a less significant impact on churn predictions, indicating varied churn behavior across different demographics."
   ]
  },
  {
   "cell_type": "markdown",
   "id": "cfba5ce2",
   "metadata": {},
   "source": [
    "### **Final prediction on the test data**:"
   ]
  },
  {
   "cell_type": "code",
   "execution_count": 149,
   "id": "d11aede8",
   "metadata": {
    "scrolled": true
   },
   "outputs": [
    {
     "data": {
      "text/plain": [
       "array([0.02901208, 0.7778719 , 0.02918848, ..., 0.01552246, 0.16907522,\n",
       "       0.19006449], dtype=float32)"
      ]
     },
     "execution_count": 149,
     "metadata": {},
     "output_type": "execute_result"
    }
   ],
   "source": [
    "y_test = final_model.predict_proba(X_test)[:, 1]\n",
    "y_test"
   ]
  },
  {
   "cell_type": "code",
   "execution_count": null,
   "id": "f996bb81",
   "metadata": {},
   "outputs": [],
   "source": []
  }
 ],
 "metadata": {
  "kernelspec": {
   "display_name": "Python 3 (ipykernel)",
   "language": "python",
   "name": "python3"
  },
  "language_info": {
   "codemirror_mode": {
    "name": "ipython",
    "version": 3
   },
   "file_extension": ".py",
   "mimetype": "text/x-python",
   "name": "python",
   "nbconvert_exporter": "python",
   "pygments_lexer": "ipython3",
   "version": "3.11.5"
  }
 },
 "nbformat": 4,
 "nbformat_minor": 5
}
